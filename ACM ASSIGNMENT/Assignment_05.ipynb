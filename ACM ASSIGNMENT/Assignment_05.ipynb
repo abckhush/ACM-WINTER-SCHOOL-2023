{
  "nbformat": 4,
  "nbformat_minor": 0,
  "metadata": {
    "colab": {
      "provenance": []
    },
    "kernelspec": {
      "name": "python3",
      "display_name": "Python 3"
    },
    "language_info": {
      "name": "python"
    }
  },
  "cells": [
    {
      "cell_type": "code",
      "source": [
        "# Fake News Using VGG16"
      ],
      "metadata": {
        "id": "_-yb0khOrTtw"
      },
      "execution_count": null,
      "outputs": []
    },
    {
      "cell_type": "code",
      "execution_count": 1,
      "metadata": {
        "colab": {
          "base_uri": "https://localhost:8080/"
        },
        "id": "UQ8je_UPrCag",
        "outputId": "dba24d9f-63d5-48f0-b8f5-0b150ad2a24f"
      },
      "outputs": [
        {
          "output_type": "stream",
          "name": "stdout",
          "text": [
            "Mounted at /content/drive\n"
          ]
        }
      ],
      "source": [
        "from google.colab import drive\n",
        "drive.mount('/content/drive')"
      ]
    },
    {
      "cell_type": "code",
      "source": [
        "import os\n",
        "import pandas as pd\n",
        "import tensorflow as tf\n",
        "from tensorflow.keras.preprocessing import image\n",
        "from tensorflow.keras.applications.vgg16 import VGG16, preprocess_input\n",
        "from tensorflow.keras.models import Model\n",
        "import numpy as np"
      ],
      "metadata": {
        "id": "LTsg0Bb1rUE-"
      },
      "execution_count": 2,
      "outputs": []
    },
    {
      "cell_type": "code",
      "source": [
        "base_model = VGG16()"
      ],
      "metadata": {
        "colab": {
          "base_uri": "https://localhost:8080/"
        },
        "id": "hDtiRJUxrgSz",
        "outputId": "0e6553ca-c7f2-4337-c545-ea1451a2d948"
      },
      "execution_count": 3,
      "outputs": [
        {
          "output_type": "stream",
          "name": "stdout",
          "text": [
            "Downloading data from https://storage.googleapis.com/tensorflow/keras-applications/vgg16/vgg16_weights_tf_dim_ordering_tf_kernels.h5\n",
            "553467096/553467096 [==============================] - 5s 0us/step\n"
          ]
        }
      ]
    },
    {
      "cell_type": "code",
      "source": [
        "outputs = base_model.layers[-2].output\n",
        "model = Model(inputs=base_model.input, outputs=outputs)"
      ],
      "metadata": {
        "id": "xeQ5kVnqrlrN"
      },
      "execution_count": 4,
      "outputs": []
    },
    {
      "cell_type": "code",
      "source": [
        "def generate_embeddings(image_path):\n",
        "    img = image.load_img(image_path, target_size=(224, 224))\n",
        "    img_array = image.img_to_array(img)\n",
        "    # img_array = np.expand_dims(img_array, axis=0)\n",
        "    img_array = img_array.reshape((1, img_array.shape[0], img_array.shape[1], img_array.shape[2]))\n",
        "\n",
        "    img_array = preprocess_input(img_array)\n",
        "\n",
        "    embeddings = model.predict(img_array)\n",
        "    return embeddings"
      ],
      "metadata": {
        "id": "5hklURR-rraD"
      },
      "execution_count": 5,
      "outputs": []
    },
    {
      "cell_type": "code",
      "source": [
        "folder_path = '/content/drive/MyDrive/fake-news-hands-on/images2/images2/'"
      ],
      "metadata": {
        "id": "1rlbdMiMruHv"
      },
      "execution_count": 6,
      "outputs": []
    },
    {
      "cell_type": "code",
      "source": [
        "data = {'Image Name': [], 'Embeddings': []}"
      ],
      "metadata": {
        "id": "GF_u_rvDrwVC"
      },
      "execution_count": 7,
      "outputs": []
    },
    {
      "cell_type": "code",
      "source": [
        "for filename in os.listdir(folder_path):\n",
        "    if filename.endswith(('.jpg', '.jpeg', '.png')):\n",
        "        image_path = os.path.join(folder_path, filename)\n",
        "        image_embeddings = generate_embeddings(image_path)\n",
        "        data['Image Name'].append(filename)\n",
        "        data['Embeddings'].append(image_embeddings)"
      ],
      "metadata": {
        "colab": {
          "base_uri": "https://localhost:8080/"
        },
        "id": "YA-J6IIhryMw",
        "outputId": "36c02bca-ba26-47c3-9e1e-ec82231e1962"
      },
      "execution_count": 9,
      "outputs": [
        {
          "output_type": "stream",
          "name": "stdout",
          "text": [
            "1/1 [==============================] - 2s 2s/step\n",
            "1/1 [==============================] - 1s 1s/step\n",
            "1/1 [==============================] - 1s 731ms/step\n",
            "1/1 [==============================] - 1s 617ms/step\n",
            "1/1 [==============================] - 1s 607ms/step\n",
            "1/1 [==============================] - 1s 615ms/step\n",
            "1/1 [==============================] - 1s 634ms/step\n",
            "1/1 [==============================] - 1s 645ms/step\n",
            "1/1 [==============================] - 1s 622ms/step\n",
            "1/1 [==============================] - 1s 611ms/step\n"
          ]
        }
      ]
    },
    {
      "cell_type": "code",
      "source": [
        "df = pd.DataFrame(data)\n",
        "print(df)"
      ],
      "metadata": {
        "colab": {
          "base_uri": "https://localhost:8080/"
        },
        "id": "n9yEXn-jr1II",
        "outputId": "f4e0efac-57e8-4229-d764-a9f583597e58"
      },
      "execution_count": 10,
      "outputs": [
        {
          "output_type": "stream",
          "name": "stdout",
          "text": [
            "                     Image Name  \\\n",
            "0  552784600502915072_img_2.jpg   \n",
            "1  581287723841032192_img_1.jpg   \n",
            "2  544301149348982784_img_1.jpg   \n",
            "3  524927695633666049_img_1.jpg   \n",
            "4  524938146119966720_img_2.jpg   \n",
            "5  544269749405097984_img_2.jpg   \n",
            "6  580319968484421633_img_1.jpg   \n",
            "7  552784168849907712_img_2.png   \n",
            "8  498280126254428160_img_1.jpg   \n",
            "9  498248648699150336_img_1.jpg   \n",
            "\n",
            "                                          Embeddings  \n",
            "0  [[0.0, 0.0, 0.0, 0.29169503, 1.2210655, 0.0, 0...  \n",
            "1  [[0.0, 2.6567116, 0.0, 0.0, 0.0, 0.0, 0.0, 1.3...  \n",
            "2  [[0.0, 0.0, 1.2710804, 0.23369503, 2.8286977, ...  \n",
            "3  [[0.0, 0.0, 0.0, 2.345195, 2.7264762, 0.0, 0.0...  \n",
            "4  [[0.0, 0.0, 0.0, 0.0, 0.14525682, 0.0, 0.0, 1....  \n",
            "5  [[0.0, 0.0, 0.0, 0.0, 0.0, 0.0, 0.035674796, 0...  \n",
            "6  [[0.0, 0.0, 11.303991, 0.0, 0.0, 2.0844488, 0....  \n",
            "7  [[0.0, 0.0, 0.0, 0.0, 0.22319764, 1.6441028, 0...  \n",
            "8  [[0.0, 0.0, 0.0, 0.0, 4.5453677, 0.0, 0.0, 2.0...  \n",
            "9  [[0.0, 0.0, 0.2421493, 2.2910366, 0.0, 0.0, 0....  \n"
          ]
        }
      ]
    },
    {
      "cell_type": "code",
      "source": [
        "print(\"First Embedding:\")\n",
        "print(df['Embeddings'][1].shape)"
      ],
      "metadata": {
        "colab": {
          "base_uri": "https://localhost:8080/"
        },
        "id": "f9UDQQ20sF81",
        "outputId": "20451588-f502-4325-beb7-9d9ced629d9a"
      },
      "execution_count": 11,
      "outputs": [
        {
          "output_type": "stream",
          "name": "stdout",
          "text": [
            "First Embedding:\n",
            "(1, 4096)\n"
          ]
        }
      ]
    },
    {
      "cell_type": "code",
      "source": [],
      "metadata": {
        "id": "VdkICwhqsJUg"
      },
      "execution_count": null,
      "outputs": []
    }
  ]
}