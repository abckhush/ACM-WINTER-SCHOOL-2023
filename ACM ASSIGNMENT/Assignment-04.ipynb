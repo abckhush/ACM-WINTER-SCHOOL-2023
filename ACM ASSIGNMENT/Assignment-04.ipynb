{
  "nbformat": 4,
  "nbformat_minor": 0,
  "metadata": {
    "colab": {
      "provenance": []
    },
    "kernelspec": {
      "name": "python3",
      "display_name": "Python 3"
    },
    "language_info": {
      "name": "python"
    }
  },
  "cells": [
    {
      "cell_type": "code",
      "execution_count": null,
      "metadata": {
        "id": "33BlUxvJzWzX"
      },
      "outputs": [],
      "source": [
        "import pandas as pd\n",
        "import matplotlib.pyplot as plt\n",
        "import numpy as np"
      ]
    },
    {
      "cell_type": "code",
      "source": [
        "from sklearn.model_selection import train_test_split\n",
        "from sklearn.preprocessing import StandardScaler\n",
        "from tensorflow.keras.models import Sequential\n",
        "from tensorflow.keras.layers import Dense\n",
        "from tensorflow.keras.utils import to_categorical,plot_model"
      ],
      "metadata": {
        "id": "sBUvUxDYzfjx"
      },
      "execution_count": null,
      "outputs": []
    },
    {
      "cell_type": "code",
      "source": [
        "# Importing the dataset\n",
        "from sklearn.datasets import fetch_california_housing"
      ],
      "metadata": {
        "id": "8QB33wKazssQ"
      },
      "execution_count": null,
      "outputs": []
    },
    {
      "cell_type": "code",
      "source": [
        "california_housing= fetch_california_housing()"
      ],
      "metadata": {
        "id": "y7LrCP9Zz1vG"
      },
      "execution_count": null,
      "outputs": []
    },
    {
      "cell_type": "code",
      "source": [
        "# Creating a DataFrame from the dataset\n",
        "data=pd.DataFrame(data=california_housing.data, columns=california_housing.feature_names)\n",
        "data['MEDV']=california_housing.target"
      ],
      "metadata": {
        "id": "YwTfPkuY0IPC"
      },
      "execution_count": null,
      "outputs": []
    },
    {
      "cell_type": "code",
      "source": [
        "print(data.head())"
      ],
      "metadata": {
        "colab": {
          "base_uri": "https://localhost:8080/"
        },
        "id": "5ILIbRxe0fX6",
        "outputId": "7ea3c13c-6c6e-49ad-a815-8f3e50d4537e"
      },
      "execution_count": null,
      "outputs": [
        {
          "output_type": "stream",
          "name": "stdout",
          "text": [
            "   MedInc  HouseAge  AveRooms  AveBedrms  Population  AveOccup  Latitude  \\\n",
            "0  8.3252      41.0  6.984127   1.023810       322.0  2.555556     37.88   \n",
            "1  8.3014      21.0  6.238137   0.971880      2401.0  2.109842     37.86   \n",
            "2  7.2574      52.0  8.288136   1.073446       496.0  2.802260     37.85   \n",
            "3  5.6431      52.0  5.817352   1.073059       558.0  2.547945     37.85   \n",
            "4  3.8462      52.0  6.281853   1.081081       565.0  2.181467     37.85   \n",
            "\n",
            "   Longitude   MEDV  \n",
            "0    -122.23  4.526  \n",
            "1    -122.22  3.585  \n",
            "2    -122.24  3.521  \n",
            "3    -122.25  3.413  \n",
            "4    -122.25  3.422  \n"
          ]
        }
      ]
    },
    {
      "cell_type": "code",
      "source": [
        "data.info()"
      ],
      "metadata": {
        "colab": {
          "base_uri": "https://localhost:8080/"
        },
        "id": "ojsC-41s0iam",
        "outputId": "e66bd671-aaa8-403a-cdbf-8e83538b1cf5"
      },
      "execution_count": null,
      "outputs": [
        {
          "output_type": "stream",
          "name": "stdout",
          "text": [
            "<class 'pandas.core.frame.DataFrame'>\n",
            "RangeIndex: 20640 entries, 0 to 20639\n",
            "Data columns (total 9 columns):\n",
            " #   Column      Non-Null Count  Dtype  \n",
            "---  ------      --------------  -----  \n",
            " 0   MedInc      20640 non-null  float64\n",
            " 1   HouseAge    20640 non-null  float64\n",
            " 2   AveRooms    20640 non-null  float64\n",
            " 3   AveBedrms   20640 non-null  float64\n",
            " 4   Population  20640 non-null  float64\n",
            " 5   AveOccup    20640 non-null  float64\n",
            " 6   Latitude    20640 non-null  float64\n",
            " 7   Longitude   20640 non-null  float64\n",
            " 8   MEDV        20640 non-null  float64\n",
            "dtypes: float64(9)\n",
            "memory usage: 1.4 MB\n"
          ]
        }
      ]
    },
    {
      "cell_type": "code",
      "source": [
        "data.describe()"
      ],
      "metadata": {
        "colab": {
          "base_uri": "https://localhost:8080/",
          "height": 301
        },
        "id": "dPl5yxBl0qjh",
        "outputId": "fe1761e6-6899-41df-ff47-86a5ee2982b3"
      },
      "execution_count": null,
      "outputs": [
        {
          "output_type": "execute_result",
          "data": {
            "text/plain": [
              "             MedInc      HouseAge      AveRooms     AveBedrms    Population  \\\n",
              "count  20640.000000  20640.000000  20640.000000  20640.000000  20640.000000   \n",
              "mean       3.870671     28.639486      5.429000      1.096675   1425.476744   \n",
              "std        1.899822     12.585558      2.474173      0.473911   1132.462122   \n",
              "min        0.499900      1.000000      0.846154      0.333333      3.000000   \n",
              "25%        2.563400     18.000000      4.440716      1.006079    787.000000   \n",
              "50%        3.534800     29.000000      5.229129      1.048780   1166.000000   \n",
              "75%        4.743250     37.000000      6.052381      1.099526   1725.000000   \n",
              "max       15.000100     52.000000    141.909091     34.066667  35682.000000   \n",
              "\n",
              "           AveOccup      Latitude     Longitude          MEDV  \n",
              "count  20640.000000  20640.000000  20640.000000  20640.000000  \n",
              "mean       3.070655     35.631861   -119.569704      2.068558  \n",
              "std       10.386050      2.135952      2.003532      1.153956  \n",
              "min        0.692308     32.540000   -124.350000      0.149990  \n",
              "25%        2.429741     33.930000   -121.800000      1.196000  \n",
              "50%        2.818116     34.260000   -118.490000      1.797000  \n",
              "75%        3.282261     37.710000   -118.010000      2.647250  \n",
              "max     1243.333333     41.950000   -114.310000      5.000010  "
            ],
            "text/html": [
              "\n",
              "  <div id=\"df-265ae9c3-91db-4ada-9a30-6f888afb62b1\" class=\"colab-df-container\">\n",
              "    <div>\n",
              "<style scoped>\n",
              "    .dataframe tbody tr th:only-of-type {\n",
              "        vertical-align: middle;\n",
              "    }\n",
              "\n",
              "    .dataframe tbody tr th {\n",
              "        vertical-align: top;\n",
              "    }\n",
              "\n",
              "    .dataframe thead th {\n",
              "        text-align: right;\n",
              "    }\n",
              "</style>\n",
              "<table border=\"1\" class=\"dataframe\">\n",
              "  <thead>\n",
              "    <tr style=\"text-align: right;\">\n",
              "      <th></th>\n",
              "      <th>MedInc</th>\n",
              "      <th>HouseAge</th>\n",
              "      <th>AveRooms</th>\n",
              "      <th>AveBedrms</th>\n",
              "      <th>Population</th>\n",
              "      <th>AveOccup</th>\n",
              "      <th>Latitude</th>\n",
              "      <th>Longitude</th>\n",
              "      <th>MEDV</th>\n",
              "    </tr>\n",
              "  </thead>\n",
              "  <tbody>\n",
              "    <tr>\n",
              "      <th>count</th>\n",
              "      <td>20640.000000</td>\n",
              "      <td>20640.000000</td>\n",
              "      <td>20640.000000</td>\n",
              "      <td>20640.000000</td>\n",
              "      <td>20640.000000</td>\n",
              "      <td>20640.000000</td>\n",
              "      <td>20640.000000</td>\n",
              "      <td>20640.000000</td>\n",
              "      <td>20640.000000</td>\n",
              "    </tr>\n",
              "    <tr>\n",
              "      <th>mean</th>\n",
              "      <td>3.870671</td>\n",
              "      <td>28.639486</td>\n",
              "      <td>5.429000</td>\n",
              "      <td>1.096675</td>\n",
              "      <td>1425.476744</td>\n",
              "      <td>3.070655</td>\n",
              "      <td>35.631861</td>\n",
              "      <td>-119.569704</td>\n",
              "      <td>2.068558</td>\n",
              "    </tr>\n",
              "    <tr>\n",
              "      <th>std</th>\n",
              "      <td>1.899822</td>\n",
              "      <td>12.585558</td>\n",
              "      <td>2.474173</td>\n",
              "      <td>0.473911</td>\n",
              "      <td>1132.462122</td>\n",
              "      <td>10.386050</td>\n",
              "      <td>2.135952</td>\n",
              "      <td>2.003532</td>\n",
              "      <td>1.153956</td>\n",
              "    </tr>\n",
              "    <tr>\n",
              "      <th>min</th>\n",
              "      <td>0.499900</td>\n",
              "      <td>1.000000</td>\n",
              "      <td>0.846154</td>\n",
              "      <td>0.333333</td>\n",
              "      <td>3.000000</td>\n",
              "      <td>0.692308</td>\n",
              "      <td>32.540000</td>\n",
              "      <td>-124.350000</td>\n",
              "      <td>0.149990</td>\n",
              "    </tr>\n",
              "    <tr>\n",
              "      <th>25%</th>\n",
              "      <td>2.563400</td>\n",
              "      <td>18.000000</td>\n",
              "      <td>4.440716</td>\n",
              "      <td>1.006079</td>\n",
              "      <td>787.000000</td>\n",
              "      <td>2.429741</td>\n",
              "      <td>33.930000</td>\n",
              "      <td>-121.800000</td>\n",
              "      <td>1.196000</td>\n",
              "    </tr>\n",
              "    <tr>\n",
              "      <th>50%</th>\n",
              "      <td>3.534800</td>\n",
              "      <td>29.000000</td>\n",
              "      <td>5.229129</td>\n",
              "      <td>1.048780</td>\n",
              "      <td>1166.000000</td>\n",
              "      <td>2.818116</td>\n",
              "      <td>34.260000</td>\n",
              "      <td>-118.490000</td>\n",
              "      <td>1.797000</td>\n",
              "    </tr>\n",
              "    <tr>\n",
              "      <th>75%</th>\n",
              "      <td>4.743250</td>\n",
              "      <td>37.000000</td>\n",
              "      <td>6.052381</td>\n",
              "      <td>1.099526</td>\n",
              "      <td>1725.000000</td>\n",
              "      <td>3.282261</td>\n",
              "      <td>37.710000</td>\n",
              "      <td>-118.010000</td>\n",
              "      <td>2.647250</td>\n",
              "    </tr>\n",
              "    <tr>\n",
              "      <th>max</th>\n",
              "      <td>15.000100</td>\n",
              "      <td>52.000000</td>\n",
              "      <td>141.909091</td>\n",
              "      <td>34.066667</td>\n",
              "      <td>35682.000000</td>\n",
              "      <td>1243.333333</td>\n",
              "      <td>41.950000</td>\n",
              "      <td>-114.310000</td>\n",
              "      <td>5.000010</td>\n",
              "    </tr>\n",
              "  </tbody>\n",
              "</table>\n",
              "</div>\n",
              "    <div class=\"colab-df-buttons\">\n",
              "\n",
              "  <div class=\"colab-df-container\">\n",
              "    <button class=\"colab-df-convert\" onclick=\"convertToInteractive('df-265ae9c3-91db-4ada-9a30-6f888afb62b1')\"\n",
              "            title=\"Convert this dataframe to an interactive table.\"\n",
              "            style=\"display:none;\">\n",
              "\n",
              "  <svg xmlns=\"http://www.w3.org/2000/svg\" height=\"24px\" viewBox=\"0 -960 960 960\">\n",
              "    <path d=\"M120-120v-720h720v720H120Zm60-500h600v-160H180v160Zm220 220h160v-160H400v160Zm0 220h160v-160H400v160ZM180-400h160v-160H180v160Zm440 0h160v-160H620v160ZM180-180h160v-160H180v160Zm440 0h160v-160H620v160Z\"/>\n",
              "  </svg>\n",
              "    </button>\n",
              "\n",
              "  <style>\n",
              "    .colab-df-container {\n",
              "      display:flex;\n",
              "      gap: 12px;\n",
              "    }\n",
              "\n",
              "    .colab-df-convert {\n",
              "      background-color: #E8F0FE;\n",
              "      border: none;\n",
              "      border-radius: 50%;\n",
              "      cursor: pointer;\n",
              "      display: none;\n",
              "      fill: #1967D2;\n",
              "      height: 32px;\n",
              "      padding: 0 0 0 0;\n",
              "      width: 32px;\n",
              "    }\n",
              "\n",
              "    .colab-df-convert:hover {\n",
              "      background-color: #E2EBFA;\n",
              "      box-shadow: 0px 1px 2px rgba(60, 64, 67, 0.3), 0px 1px 3px 1px rgba(60, 64, 67, 0.15);\n",
              "      fill: #174EA6;\n",
              "    }\n",
              "\n",
              "    .colab-df-buttons div {\n",
              "      margin-bottom: 4px;\n",
              "    }\n",
              "\n",
              "    [theme=dark] .colab-df-convert {\n",
              "      background-color: #3B4455;\n",
              "      fill: #D2E3FC;\n",
              "    }\n",
              "\n",
              "    [theme=dark] .colab-df-convert:hover {\n",
              "      background-color: #434B5C;\n",
              "      box-shadow: 0px 1px 3px 1px rgba(0, 0, 0, 0.15);\n",
              "      filter: drop-shadow(0px 1px 2px rgba(0, 0, 0, 0.3));\n",
              "      fill: #FFFFFF;\n",
              "    }\n",
              "  </style>\n",
              "\n",
              "    <script>\n",
              "      const buttonEl =\n",
              "        document.querySelector('#df-265ae9c3-91db-4ada-9a30-6f888afb62b1 button.colab-df-convert');\n",
              "      buttonEl.style.display =\n",
              "        google.colab.kernel.accessAllowed ? 'block' : 'none';\n",
              "\n",
              "      async function convertToInteractive(key) {\n",
              "        const element = document.querySelector('#df-265ae9c3-91db-4ada-9a30-6f888afb62b1');\n",
              "        const dataTable =\n",
              "          await google.colab.kernel.invokeFunction('convertToInteractive',\n",
              "                                                    [key], {});\n",
              "        if (!dataTable) return;\n",
              "\n",
              "        const docLinkHtml = 'Like what you see? Visit the ' +\n",
              "          '<a target=\"_blank\" href=https://colab.research.google.com/notebooks/data_table.ipynb>data table notebook</a>'\n",
              "          + ' to learn more about interactive tables.';\n",
              "        element.innerHTML = '';\n",
              "        dataTable['output_type'] = 'display_data';\n",
              "        await google.colab.output.renderOutput(dataTable, element);\n",
              "        const docLink = document.createElement('div');\n",
              "        docLink.innerHTML = docLinkHtml;\n",
              "        element.appendChild(docLink);\n",
              "      }\n",
              "    </script>\n",
              "  </div>\n",
              "\n",
              "\n",
              "<div id=\"df-c97ec6ae-a7df-4620-8a11-de1bf7922da0\">\n",
              "  <button class=\"colab-df-quickchart\" onclick=\"quickchart('df-c97ec6ae-a7df-4620-8a11-de1bf7922da0')\"\n",
              "            title=\"Suggest charts\"\n",
              "            style=\"display:none;\">\n",
              "\n",
              "<svg xmlns=\"http://www.w3.org/2000/svg\" height=\"24px\"viewBox=\"0 0 24 24\"\n",
              "     width=\"24px\">\n",
              "    <g>\n",
              "        <path d=\"M19 3H5c-1.1 0-2 .9-2 2v14c0 1.1.9 2 2 2h14c1.1 0 2-.9 2-2V5c0-1.1-.9-2-2-2zM9 17H7v-7h2v7zm4 0h-2V7h2v10zm4 0h-2v-4h2v4z\"/>\n",
              "    </g>\n",
              "</svg>\n",
              "  </button>\n",
              "\n",
              "<style>\n",
              "  .colab-df-quickchart {\n",
              "      --bg-color: #E8F0FE;\n",
              "      --fill-color: #1967D2;\n",
              "      --hover-bg-color: #E2EBFA;\n",
              "      --hover-fill-color: #174EA6;\n",
              "      --disabled-fill-color: #AAA;\n",
              "      --disabled-bg-color: #DDD;\n",
              "  }\n",
              "\n",
              "  [theme=dark] .colab-df-quickchart {\n",
              "      --bg-color: #3B4455;\n",
              "      --fill-color: #D2E3FC;\n",
              "      --hover-bg-color: #434B5C;\n",
              "      --hover-fill-color: #FFFFFF;\n",
              "      --disabled-bg-color: #3B4455;\n",
              "      --disabled-fill-color: #666;\n",
              "  }\n",
              "\n",
              "  .colab-df-quickchart {\n",
              "    background-color: var(--bg-color);\n",
              "    border: none;\n",
              "    border-radius: 50%;\n",
              "    cursor: pointer;\n",
              "    display: none;\n",
              "    fill: var(--fill-color);\n",
              "    height: 32px;\n",
              "    padding: 0;\n",
              "    width: 32px;\n",
              "  }\n",
              "\n",
              "  .colab-df-quickchart:hover {\n",
              "    background-color: var(--hover-bg-color);\n",
              "    box-shadow: 0 1px 2px rgba(60, 64, 67, 0.3), 0 1px 3px 1px rgba(60, 64, 67, 0.15);\n",
              "    fill: var(--button-hover-fill-color);\n",
              "  }\n",
              "\n",
              "  .colab-df-quickchart-complete:disabled,\n",
              "  .colab-df-quickchart-complete:disabled:hover {\n",
              "    background-color: var(--disabled-bg-color);\n",
              "    fill: var(--disabled-fill-color);\n",
              "    box-shadow: none;\n",
              "  }\n",
              "\n",
              "  .colab-df-spinner {\n",
              "    border: 2px solid var(--fill-color);\n",
              "    border-color: transparent;\n",
              "    border-bottom-color: var(--fill-color);\n",
              "    animation:\n",
              "      spin 1s steps(1) infinite;\n",
              "  }\n",
              "\n",
              "  @keyframes spin {\n",
              "    0% {\n",
              "      border-color: transparent;\n",
              "      border-bottom-color: var(--fill-color);\n",
              "      border-left-color: var(--fill-color);\n",
              "    }\n",
              "    20% {\n",
              "      border-color: transparent;\n",
              "      border-left-color: var(--fill-color);\n",
              "      border-top-color: var(--fill-color);\n",
              "    }\n",
              "    30% {\n",
              "      border-color: transparent;\n",
              "      border-left-color: var(--fill-color);\n",
              "      border-top-color: var(--fill-color);\n",
              "      border-right-color: var(--fill-color);\n",
              "    }\n",
              "    40% {\n",
              "      border-color: transparent;\n",
              "      border-right-color: var(--fill-color);\n",
              "      border-top-color: var(--fill-color);\n",
              "    }\n",
              "    60% {\n",
              "      border-color: transparent;\n",
              "      border-right-color: var(--fill-color);\n",
              "    }\n",
              "    80% {\n",
              "      border-color: transparent;\n",
              "      border-right-color: var(--fill-color);\n",
              "      border-bottom-color: var(--fill-color);\n",
              "    }\n",
              "    90% {\n",
              "      border-color: transparent;\n",
              "      border-bottom-color: var(--fill-color);\n",
              "    }\n",
              "  }\n",
              "</style>\n",
              "\n",
              "  <script>\n",
              "    async function quickchart(key) {\n",
              "      const quickchartButtonEl =\n",
              "        document.querySelector('#' + key + ' button');\n",
              "      quickchartButtonEl.disabled = true;  // To prevent multiple clicks.\n",
              "      quickchartButtonEl.classList.add('colab-df-spinner');\n",
              "      try {\n",
              "        const charts = await google.colab.kernel.invokeFunction(\n",
              "            'suggestCharts', [key], {});\n",
              "      } catch (error) {\n",
              "        console.error('Error during call to suggestCharts:', error);\n",
              "      }\n",
              "      quickchartButtonEl.classList.remove('colab-df-spinner');\n",
              "      quickchartButtonEl.classList.add('colab-df-quickchart-complete');\n",
              "    }\n",
              "    (() => {\n",
              "      let quickchartButtonEl =\n",
              "        document.querySelector('#df-c97ec6ae-a7df-4620-8a11-de1bf7922da0 button');\n",
              "      quickchartButtonEl.style.display =\n",
              "        google.colab.kernel.accessAllowed ? 'block' : 'none';\n",
              "    })();\n",
              "  </script>\n",
              "</div>\n",
              "\n",
              "    </div>\n",
              "  </div>\n"
            ]
          },
          "metadata": {},
          "execution_count": 33
        }
      ]
    },
    {
      "cell_type": "code",
      "source": [
        "# Split the dataset into training and testing sets\n",
        "x_train, x_test, y_train, y_test = train_test_split(data.drop('MEDV', axis=1), data['MEDV'], test_size=0.2, random_state=42)"
      ],
      "metadata": {
        "id": "NPl4QFKs0tz8"
      },
      "execution_count": null,
      "outputs": []
    },
    {
      "cell_type": "code",
      "source": [
        "x_train.shape, x_test.shape"
      ],
      "metadata": {
        "colab": {
          "base_uri": "https://localhost:8080/"
        },
        "id": "FyE6ZAjn1vsj",
        "outputId": "173d0b9c-d6cf-4750-ae86-9d232d276464"
      },
      "execution_count": null,
      "outputs": [
        {
          "output_type": "execute_result",
          "data": {
            "text/plain": [
              "((16512, 8), (4128, 8))"
            ]
          },
          "metadata": {},
          "execution_count": 35
        }
      ]
    },
    {
      "cell_type": "code",
      "source": [
        "# Scaling the features\n",
        "scaler=StandardScaler()\n",
        "x_train=scaler.fit_transform(x_train)\n",
        "x_test= scaler.transform(x_test)"
      ],
      "metadata": {
        "id": "aQihtcRE1zig"
      },
      "execution_count": null,
      "outputs": []
    },
    {
      "cell_type": "code",
      "source": [
        "# Building the ANN Model\n",
        "model= Sequential([\n",
        "    Dense(64, activation='relu', input_shape=(x_train.shape[1],)),\n",
        "    Dense(34, activation='relu'),\n",
        "    Dense(1)\n",
        "])"
      ],
      "metadata": {
        "id": "YBtj-IOM3T7w"
      },
      "execution_count": null,
      "outputs": []
    },
    {
      "cell_type": "code",
      "source": [
        "model.summary()"
      ],
      "metadata": {
        "colab": {
          "base_uri": "https://localhost:8080/"
        },
        "id": "ZqRQkSuy4aWZ",
        "outputId": "66f0c868-0cd9-4cbb-f2de-90217bb7b4a6"
      },
      "execution_count": null,
      "outputs": [
        {
          "output_type": "stream",
          "name": "stdout",
          "text": [
            "Model: \"sequential_1\"\n",
            "_________________________________________________________________\n",
            " Layer (type)                Output Shape              Param #   \n",
            "=================================================================\n",
            " dense_3 (Dense)             (None, 64)                576       \n",
            "                                                                 \n",
            " dense_4 (Dense)             (None, 34)                2210      \n",
            "                                                                 \n",
            " dense_5 (Dense)             (None, 1)                 35        \n",
            "                                                                 \n",
            "=================================================================\n",
            "Total params: 2821 (11.02 KB)\n",
            "Trainable params: 2821 (11.02 KB)\n",
            "Non-trainable params: 0 (0.00 Byte)\n",
            "_________________________________________________________________\n"
          ]
        }
      ]
    },
    {
      "cell_type": "code",
      "source": [
        "# Plot the ANN Model\n",
        "plot_model(model, to_file='model.png', show_shapes=True, show_layer_names=True)\n",
        "plt.figure(figsize=(8,6))\n",
        "img= plt.imread('model.png')\n",
        "plt.imshow(img)\n",
        "plt.axis('off')\n",
        "plt.show()"
      ],
      "metadata": {
        "colab": {
          "base_uri": "https://localhost:8080/",
          "height": 499
        },
        "id": "Fq-MEoDq4b1o",
        "outputId": "de8a6c91-161f-411b-95db-3986bb656579"
      },
      "execution_count": null,
      "outputs": [
        {
          "output_type": "display_data",
          "data": {
            "text/plain": [
              "<Figure size 800x600 with 1 Axes>"
            ],
            "image/png": "[encoded data removed]"
          },
          "metadata": {}
        }
      ]
    },
    {
      "cell_type": "code",
      "source": [
        "# Compiling the model\n",
        "model.compile(optimizer='adam', loss='mean_squared_error')\n",
        "# Training the model and saving its history\n",
        "h=model.fit(x_train, y_train, epochs=100, batch_size=32, validation_split=0.1)"
      ],
      "metadata": {
        "colab": {
          "base_uri": "https://localhost:8080/"
        },
        "id": "SSkEi0eZ4zWy",
        "outputId": "966f3b68-2343-486d-fd73-e64ae4698c3a"
      },
      "execution_count": null,
      "outputs": [
        {
          "output_type": "stream",
          "name": "stdout",
          "text": [
            "Epoch 1/100\n",
            "465/465 [==============================] - 7s 7ms/step - loss: 0.8266 - val_loss: 0.4635\n",
            "Epoch 2/100\n",
            "465/465 [==============================] - 2s 3ms/step - loss: 0.4027 - val_loss: 0.4308\n",
            "Epoch 3/100\n",
            "465/465 [==============================] - 2s 3ms/step - loss: 0.3744 - val_loss: 0.4014\n",
            "Epoch 4/100\n",
            "465/465 [==============================] - 1s 3ms/step - loss: 0.3641 - val_loss: 0.3850\n",
            "Epoch 5/100\n",
            "465/465 [==============================] - 1s 3ms/step - loss: 0.3619 - val_loss: 0.3765\n",
            "Epoch 6/100\n",
            "465/465 [==============================] - 2s 4ms/step - loss: 0.3315 - val_loss: 0.3593\n",
            "Epoch 7/100\n",
            "465/465 [==============================] - 2s 4ms/step - loss: 0.3217 - val_loss: 0.3396\n",
            "Epoch 8/100\n",
            "465/465 [==============================] - 1s 3ms/step - loss: 0.3172 - val_loss: 0.3356\n",
            "Epoch 9/100\n",
            "465/465 [==============================] - 1s 2ms/step - loss: 0.3052 - val_loss: 0.3292\n",
            "Epoch 10/100\n",
            "465/465 [==============================] - 1s 3ms/step - loss: 0.3008 - val_loss: 0.3275\n",
            "Epoch 11/100\n",
            "465/465 [==============================] - 1s 3ms/step - loss: 0.3029 - val_loss: 0.3226\n",
            "Epoch 12/100\n",
            "465/465 [==============================] - 1s 2ms/step - loss: 0.2930 - val_loss: 0.3201\n",
            "Epoch 13/100\n",
            "465/465 [==============================] - 2s 4ms/step - loss: 0.2892 - val_loss: 0.3257\n",
            "Epoch 14/100\n",
            "465/465 [==============================] - 2s 3ms/step - loss: 0.2926 - val_loss: 0.3120\n",
            "Epoch 15/100\n",
            "465/465 [==============================] - 2s 5ms/step - loss: 0.2862 - val_loss: 0.3097\n",
            "Epoch 16/100\n",
            "465/465 [==============================] - 2s 5ms/step - loss: 0.2818 - val_loss: 0.3094\n",
            "Epoch 17/100\n",
            "465/465 [==============================] - 1s 3ms/step - loss: 0.2842 - val_loss: 0.2991\n",
            "Epoch 18/100\n",
            "465/465 [==============================] - 1s 3ms/step - loss: 0.2786 - val_loss: 0.3070\n",
            "Epoch 19/100\n",
            "465/465 [==============================] - 1s 3ms/step - loss: 0.2786 - val_loss: 0.2924\n",
            "Epoch 20/100\n",
            "465/465 [==============================] - 1s 3ms/step - loss: 0.2740 - val_loss: 0.3016\n",
            "Epoch 21/100\n",
            "465/465 [==============================] - 1s 3ms/step - loss: 0.2849 - val_loss: 0.2947\n",
            "Epoch 22/100\n",
            "465/465 [==============================] - 1s 2ms/step - loss: 0.2697 - val_loss: 0.2946\n",
            "Epoch 23/100\n",
            "465/465 [==============================] - 1s 3ms/step - loss: 0.2722 - val_loss: 0.2949\n",
            "Epoch 24/100\n",
            "465/465 [==============================] - 2s 3ms/step - loss: 0.2705 - val_loss: 0.3055\n",
            "Epoch 25/100\n",
            "465/465 [==============================] - 2s 4ms/step - loss: 0.2693 - val_loss: 0.2924\n",
            "Epoch 26/100\n",
            "465/465 [==============================] - 2s 4ms/step - loss: 0.2671 - val_loss: 0.2935\n",
            "Epoch 27/100\n",
            "465/465 [==============================] - 2s 5ms/step - loss: 0.2637 - val_loss: 0.2992\n",
            "Epoch 28/100\n",
            "465/465 [==============================] - 1s 3ms/step - loss: 0.2664 - val_loss: 0.3021\n",
            "Epoch 29/100\n",
            "465/465 [==============================] - 1s 3ms/step - loss: 0.2633 - val_loss: 0.2923\n",
            "Epoch 30/100\n",
            "465/465 [==============================] - 1s 3ms/step - loss: 0.2592 - val_loss: 0.2959\n",
            "Epoch 31/100\n",
            "465/465 [==============================] - 1s 3ms/step - loss: 0.2639 - val_loss: 0.2953\n",
            "Epoch 32/100\n",
            "465/465 [==============================] - 1s 3ms/step - loss: 0.2618 - val_loss: 0.3018\n",
            "Epoch 33/100\n",
            "465/465 [==============================] - 2s 4ms/step - loss: 0.2592 - val_loss: 0.2869\n",
            "Epoch 34/100\n",
            "465/465 [==============================] - 2s 3ms/step - loss: 0.2555 - val_loss: 0.3000\n",
            "Epoch 35/100\n",
            "465/465 [==============================] - 1s 3ms/step - loss: 0.2572 - val_loss: 0.2948\n",
            "Epoch 36/100\n",
            "465/465 [==============================] - 1s 2ms/step - loss: 0.2568 - val_loss: 0.2984\n",
            "Epoch 37/100\n",
            "465/465 [==============================] - 1s 2ms/step - loss: 0.2563 - val_loss: 0.2843\n",
            "Epoch 38/100\n",
            "465/465 [==============================] - 1s 3ms/step - loss: 0.2548 - val_loss: 0.2852\n",
            "Epoch 39/100\n",
            "465/465 [==============================] - 2s 4ms/step - loss: 0.2546 - val_loss: 0.2850\n",
            "Epoch 40/100\n",
            "465/465 [==============================] - 2s 4ms/step - loss: 0.2539 - val_loss: 0.2857\n",
            "Epoch 41/100\n",
            "465/465 [==============================] - 2s 3ms/step - loss: 0.2506 - val_loss: 0.2863\n",
            "Epoch 42/100\n",
            "465/465 [==============================] - 2s 4ms/step - loss: 0.2564 - val_loss: 0.2972\n",
            "Epoch 43/100\n",
            "465/465 [==============================] - 2s 4ms/step - loss: 0.2513 - val_loss: 0.2871\n",
            "Epoch 44/100\n",
            "465/465 [==============================] - 1s 3ms/step - loss: 0.2482 - val_loss: 0.2807\n",
            "Epoch 45/100\n",
            "465/465 [==============================] - 1s 3ms/step - loss: 0.2560 - val_loss: 0.2933\n",
            "Epoch 46/100\n",
            "465/465 [==============================] - 1s 3ms/step - loss: 0.2489 - val_loss: 0.2897\n",
            "Epoch 47/100\n",
            "465/465 [==============================] - 1s 2ms/step - loss: 0.2494 - val_loss: 0.2923\n",
            "Epoch 48/100\n",
            "465/465 [==============================] - 1s 2ms/step - loss: 0.2484 - val_loss: 0.2884\n",
            "Epoch 49/100\n",
            "465/465 [==============================] - 1s 3ms/step - loss: 0.2473 - val_loss: 0.2802\n",
            "Epoch 50/100\n",
            "465/465 [==============================] - 1s 3ms/step - loss: 0.2459 - val_loss: 0.2845\n",
            "Epoch 51/100\n",
            "465/465 [==============================] - 1s 3ms/step - loss: 0.2463 - val_loss: 0.2863\n",
            "Epoch 52/100\n",
            "465/465 [==============================] - 2s 4ms/step - loss: 0.2472 - val_loss: 0.2782\n",
            "Epoch 53/100\n",
            "465/465 [==============================] - 2s 4ms/step - loss: 0.2419 - val_loss: 0.2774\n",
            "Epoch 54/100\n",
            "465/465 [==============================] - 2s 4ms/step - loss: 0.2470 - val_loss: 0.2789\n",
            "Epoch 55/100\n",
            "465/465 [==============================] - 2s 3ms/step - loss: 0.2431 - val_loss: 0.2824\n",
            "Epoch 56/100\n",
            "465/465 [==============================] - 1s 2ms/step - loss: 0.2428 - val_loss: 0.2765\n",
            "Epoch 57/100\n",
            "465/465 [==============================] - 2s 3ms/step - loss: 0.2435 - val_loss: 0.2774\n",
            "Epoch 58/100\n",
            "465/465 [==============================] - 1s 3ms/step - loss: 0.2413 - val_loss: 0.2717\n",
            "Epoch 59/100\n",
            "465/465 [==============================] - 1s 3ms/step - loss: 0.2394 - val_loss: 0.2764\n",
            "Epoch 60/100\n",
            "465/465 [==============================] - 2s 4ms/step - loss: 0.2388 - val_loss: 0.2818\n",
            "Epoch 61/100\n",
            "465/465 [==============================] - 2s 4ms/step - loss: 0.2394 - val_loss: 0.2740\n",
            "Epoch 62/100\n",
            "465/465 [==============================] - 2s 3ms/step - loss: 0.2433 - val_loss: 0.2803\n",
            "Epoch 63/100\n",
            "465/465 [==============================] - 1s 3ms/step - loss: 0.2385 - val_loss: 0.2743\n",
            "Epoch 64/100\n",
            "465/465 [==============================] - 1s 3ms/step - loss: 0.2369 - val_loss: 0.2836\n",
            "Epoch 65/100\n",
            "465/465 [==============================] - 1s 3ms/step - loss: 0.2373 - val_loss: 0.2848\n",
            "Epoch 66/100\n",
            "465/465 [==============================] - 1s 3ms/step - loss: 0.2386 - val_loss: 0.2902\n",
            "Epoch 67/100\n",
            "465/465 [==============================] - 1s 3ms/step - loss: 0.2379 - val_loss: 0.2805\n",
            "Epoch 68/100\n",
            "465/465 [==============================] - 1s 3ms/step - loss: 0.2346 - val_loss: 0.2754\n",
            "Epoch 69/100\n",
            "465/465 [==============================] - 2s 4ms/step - loss: 0.2352 - val_loss: 0.2785\n",
            "Epoch 70/100\n",
            "465/465 [==============================] - 3s 6ms/step - loss: 0.2338 - val_loss: 0.2695\n",
            "Epoch 71/100\n",
            "465/465 [==============================] - 2s 4ms/step - loss: 0.2342 - val_loss: 0.2774\n",
            "Epoch 72/100\n",
            "465/465 [==============================] - 2s 4ms/step - loss: 0.2358 - val_loss: 0.2725\n",
            "Epoch 73/100\n",
            "465/465 [==============================] - 1s 3ms/step - loss: 0.2328 - val_loss: 0.2846\n",
            "Epoch 74/100\n",
            "465/465 [==============================] - 1s 3ms/step - loss: 0.2325 - val_loss: 0.2752\n",
            "Epoch 75/100\n",
            "465/465 [==============================] - 1s 2ms/step - loss: 0.2352 - val_loss: 0.2725\n",
            "Epoch 76/100\n",
            "465/465 [==============================] - 1s 3ms/step - loss: 0.2327 - val_loss: 0.2743\n",
            "Epoch 77/100\n",
            "465/465 [==============================] - 1s 3ms/step - loss: 0.2325 - val_loss: 0.2756\n",
            "Epoch 78/100\n",
            "465/465 [==============================] - 2s 4ms/step - loss: 0.2297 - val_loss: 0.2762\n",
            "Epoch 79/100\n",
            "465/465 [==============================] - 2s 4ms/step - loss: 0.2287 - val_loss: 0.2701\n",
            "Epoch 80/100\n",
            "465/465 [==============================] - 1s 3ms/step - loss: 0.2295 - val_loss: 0.2728\n",
            "Epoch 81/100\n",
            "465/465 [==============================] - 1s 3ms/step - loss: 0.2294 - val_loss: 0.2707\n",
            "Epoch 82/100\n",
            "465/465 [==============================] - 1s 3ms/step - loss: 0.2284 - val_loss: 0.2763\n",
            "Epoch 83/100\n",
            "465/465 [==============================] - 1s 2ms/step - loss: 0.2284 - val_loss: 0.2786\n",
            "Epoch 84/100\n",
            "465/465 [==============================] - 1s 3ms/step - loss: 0.2307 - val_loss: 0.2863\n",
            "Epoch 85/100\n",
            "465/465 [==============================] - 2s 3ms/step - loss: 0.2295 - val_loss: 0.2696\n",
            "Epoch 86/100\n",
            "465/465 [==============================] - 1s 3ms/step - loss: 0.2286 - val_loss: 0.2655\n",
            "Epoch 87/100\n",
            "465/465 [==============================] - 1s 3ms/step - loss: 0.2259 - val_loss: 0.2753\n",
            "Epoch 88/100\n",
            "465/465 [==============================] - 2s 4ms/step - loss: 0.2295 - val_loss: 0.2798\n",
            "Epoch 89/100\n",
            "465/465 [==============================] - 2s 3ms/step - loss: 0.2250 - val_loss: 0.2684\n",
            "Epoch 90/100\n",
            "465/465 [==============================] - 2s 3ms/step - loss: 0.2267 - val_loss: 0.2821\n",
            "Epoch 91/100\n",
            "465/465 [==============================] - 1s 3ms/step - loss: 0.2246 - val_loss: 0.2765\n",
            "Epoch 92/100\n",
            "465/465 [==============================] - 1s 3ms/step - loss: 0.2251 - val_loss: 0.2706\n",
            "Epoch 93/100\n",
            "465/465 [==============================] - 2s 3ms/step - loss: 0.2235 - val_loss: 0.2929\n",
            "Epoch 94/100\n",
            "465/465 [==============================] - 2s 4ms/step - loss: 0.2245 - val_loss: 0.2697\n",
            "Epoch 95/100\n",
            "465/465 [==============================] - 2s 4ms/step - loss: 0.2236 - val_loss: 0.2828\n",
            "Epoch 96/100\n",
            "465/465 [==============================] - 2s 5ms/step - loss: 0.2244 - val_loss: 0.2716\n",
            "Epoch 97/100\n",
            "465/465 [==============================] - 2s 4ms/step - loss: 0.2215 - val_loss: 0.2716\n",
            "Epoch 98/100\n",
            "465/465 [==============================] - 1s 3ms/step - loss: 0.2231 - val_loss: 0.2737\n",
            "Epoch 99/100\n",
            "465/465 [==============================] - 1s 3ms/step - loss: 0.2207 - val_loss: 0.2703\n",
            "Epoch 100/100\n",
            "465/465 [==============================] - 1s 3ms/step - loss: 0.2233 - val_loss: 0.2736\n"
          ]
        }
      ]
    },
    {
      "cell_type": "code",
      "source": [
        "plt.plot(h.history['loss'],label='Training Loss')\n",
        "plt.plot(h.history['val_loss'], label='Validation Loss')\n",
        "plt.xlabel('Epoch')\n",
        "plt.ylabel('Loss')\n",
        "plt.legend()\n",
        "plt.show()"
      ],
      "metadata": {
        "colab": {
          "base_uri": "https://localhost:8080/",
          "height": 449
        },
        "id": "yKmDYhBR55Uu",
        "outputId": "95b2cc5b-c5ee-46b3-8397-876dd63fe5a7"
      },
      "execution_count": null,
      "outputs": [
        {
          "output_type": "display_data",
          "data": {
            "text/plain": [
              "<Figure size 640x480 with 1 Axes>"
            ],
            "image/png": "[encoded data removed]"
          },
          "metadata": {}
        }
      ]
    },
    {
      "cell_type": "code",
      "source": [
        "# Evaluate the model on the test set\n",
        "test_loss=model.evaluate(x_test,y_test)\n",
        "print('Test Loss:', test_loss)"
      ],
      "metadata": {
        "colab": {
          "base_uri": "https://localhost:8080/"
        },
        "id": "5fI83LAx8B3N",
        "outputId": "68f06be2-3ee1-4f13-af9c-b71fcb3d0b94"
      },
      "execution_count": null,
      "outputs": [
        {
          "output_type": "stream",
          "name": "stdout",
          "text": [
            "129/129 [==============================] - 1s 7ms/step - loss: 0.2698\n",
            "Test Loss: 0.26982346177101135\n"
          ]
        }
      ]
    },
    {
      "cell_type": "code",
      "source": [],
      "metadata": {
        "id": "ePyaBYU48qA_"
      },
      "execution_count": null,
      "outputs": []
    }
  ]
}