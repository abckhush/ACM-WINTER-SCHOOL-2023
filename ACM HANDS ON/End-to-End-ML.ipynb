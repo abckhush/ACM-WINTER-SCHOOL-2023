{
 "cells": [
  {
   "cell_type": "markdown",
   "metadata": {
    "id": "2XmnAPEjjZD4"
   },
   "source": [
    "# Chapter 1. End-to-End Machine Learning Project\n",
    "\n",
    "In this chapter, we will work on an end-to-end machine learning project, pretending to be a recently hired data scientist at a real estate company.\n",
    "\n",
    "Here are the main steps we will go through:\n",
    "\n",
    "1. Framing the problem & looking at the big picture\n",
    "\n",
    "We Define the objective in business terms and answer the following questions:\n",
    "\n",
    "- How would the solution be used?\n",
    "- What are the current solutions/workarounds?\n",
    "- How should we frame this problem? (`Supervised/Unsupervised`, `Batch/Online`, `Instance-based/Model-based`)\n",
    "- How should performance be measured?\n",
    "- Is the performance measure aligned with the business objective?\n",
    "- What would be the minimum performance needed to reach the business objective?\n",
    "- What are comparable problems? can we use previous methods or tools?\n",
    "- Is human expertise available?\n",
    "- How would we solve the problem manually?\n",
    "- List the assumptions we/others have made so far?\n",
    "- Verify assumptions if possible\n",
    "\n",
    "2. Get the data\n",
    "\n",
    "The second step is about data acquisition, we go through the following steps:\n",
    "    \n",
    "- We list the data we need and how much.\n",
    "- We find & Document where can we get that data.\n",
    "- We check how much space it will take.\n",
    "- We check the legal obligations & get authorization if necessary.\n",
    "- We get access authorization.\n",
    "- We create a workspace with enough storage space.\n",
    "- We get the data.\n",
    "- We convert the data into a format we can easily manipulate.\n",
    "- We ensure sensitive information is either deleted or protected.\n",
    "- We check the size & type of data.\n",
    "- We sample a test set, put it aside, and never look at it\n",
    "\n",
    "3. Explore the Data\n",
    "\n",
    "After acquiring the necessary data, we explore its properties by doing the following:\n",
    "    \n",
    "- We create a copy of the data for exploration and sample it down if necessary\n",
    "- We create a Jupyter notebook to save our data exploration sessions.\n",
    "- We study each attribute (column) and its characteristics:\n",
    "    - Name\n",
    "    - Type (Categorical, Continuous, Int/Float, Structured/Unstructured, Text ..)\n",
    "    - % of missing values\n",
    "    - Noisiness and type of noise (Stochastic, rounding error, ..)\n",
    "    - Usefulness for the task\n",
    "    - Type of distribution (Gaussian, Logarithmic, Uniform ..)\n",
    "- For supervised Learning tasks, we identify the target attribute\n",
    "- We visualize the data\n",
    "- We study the correlations between attributes\n",
    "- We study how we would solve the problem manually\n",
    "- We identify the promising transformations we may want to apply\n",
    "- We Identify Extra data that would be useful\n",
    "- We Document what we have learned in report\n",
    "\n",
    "4. Data Preparation\n",
    "\n",
    "Now's the time to prepare the data for machine learning. We go through the following list:\n",
    "\n",
    "- We create a copy of the data.\n",
    "- We write functions for all the data transformations we want to apply: we do this once for reproducibility on test and production data. Packaging functions like this will also allow us to treat preprocessing steps as hyper-parameters.\n",
    "- We clean the data by fixing or removing outliers, and filling missing values with `0`, mean, median, inference, .. or drop their rows/columns.\n",
    "- We conduct feature selection: we drop the attributes that provide no useful information for the task\n",
    "- We conduct feature engineering. Examples of feature engineering:\n",
    "    - Discretize continuous features\n",
    "    - Decompose features (Categorical, datetime, ...)\n",
    "    - Add promissing feature transformations ($log(x)$, $sqrt(x)$, $x^{2}$, ..)\n",
    "    - Aggregate features into promising new features\n",
    "- We scale the features of interest by standarizing and/or normalize them.\n",
    "    \n",
    "5. Shortlist promising models\n",
    "\n",
    "After preparing the data, we select and shortlist potential models that may solve the problem:  \n",
    "\n",
    "- If the data set is big, we sample smaller datasets for experimentation.\n",
    "- We try many models from different categories (`NB`, `Linear regression`, `RF`, `NN`, ..) using standard parameters.\n",
    "- We measure and compare their performances: for each model, we measure `N`-fold cross validation and capture the mean and standard diviation of the performance.\n",
    "- We analyze the most significant variable for each algorithm.\n",
    "- We analyze the types of errors the models make. What data would we use to avoid these errors?\n",
    "- We perform a quick round of feature selection and engineering.\n",
    "- We perform one or two more quick iterations of the previous steps.\n",
    "- We shortlist the top-`3`-to-`5` most performant algorithms that make different types of errors.\n",
    "\n",
    "\n",
    "6. Fine-tune your models & combine them into a great solution\n",
    "\n",
    "After shortlisting the most promising algorithms, it's time to fine-tune their performance, ensemble them and export a final model.\n",
    "\n",
    "- We should use the whole dataset\n",
    "- We fine-tune hyper-parameters using cross-validation\n",
    "\n",
    "We treat our data transformation choices as hyper-parameters. Unless there are very few hyper-parameters to explore, we should prefer random search to grid search. If training takes a long time, we try out Bayesian Optimization.\n",
    "\n",
    "- We try ensemble methods. Combining the best models will often produce better results than running them individually.\n",
    "- Once we are confident about the model, we measure its performance on the test set to estimate its generalization error.\n",
    "\n",
    "7. Present the solution\n",
    "\n",
    "After exporting a final model, it's time to present the work in an accessible fashion:\n",
    "- We document what we have done\n",
    "- We create a nice presentation\n",
    "- We explain why our solution achieves the business objective\n",
    "- We showcase interesting things we noticed along the way\n",
    "- We ensure the key findings are easily communicated through beautiful visualization and one-line statements\n",
    "\n",
    "8. Launch, Monitor, and maintain your system\n",
    "\n",
    "After presenting our findings, it's time to launch, monitor, and maintain the system:\n",
    "- We get our solution ready for production\n",
    "- We write monitoring code to check our system's performance while running in production and run interval-based checks to alert when it drops.\n",
    "\n",
    "During this step, we should be aware of the \"slow degradation\" phenomena: models tend to rot as data evolves. We should also monitor ourr inputs quality. Finally, we re-train the model on a regular basis on fresh data"
   ]
  },
  {
   "cell_type": "markdown",
   "metadata": {
    "id": "Trj7Xvk6jZD8"
   },
   "source": [
    "## Working with Real Data\n",
    "\n",
    "When we are learning about ML, it's best to work with real data sets, not artificial ones. We list the following data sources:\n",
    "\n",
    "- Popular open data reposatories\n",
    "    - [UC Irvine ML repo](https://archive.ics.uci.edu/ml/index.php)\n",
    "    - [Kaggle Datasets](https://www.kaggle.com/datasets)\n",
    "    - [Amazon AWS Datasets](https://registry.opendata.aws/)\n",
    "- Meta Portals: they list open data reposatories\n",
    "    - [Data Portals](http://dataportals.org/)\n",
    "    - [OpenDataMonitor](https://opendatamonitor.eu/frontend/web/index.php?r=dashboard%2Findex)\n",
    "    - [Quandl](https://www.quandl.com/)\n",
    "- Other pages listing many open data reposatories\n",
    "    - [Wikipedia](https://en.wikipedia.org/wiki/List_of_datasets_for_machine_learning_research)\n",
    "    - [Quora](https://www.quora.com/Where-can-I-find-large-datasets-open-to-the-public)\n",
    "    - [The Datasets Subreddit](https://www.reddit.com/r/datasets)\n",
    "\n",
    "In this chapter, we'll use the California housing prices dataset, taken from the StatLib repository. The dataset is based on data from the 1990 California cencus.\n",
    "\n",
    "For teaching purposes, we've added a categorical feature and removed multiple ones."
   ]
  },
  {
   "cell_type": "markdown",
   "metadata": {
    "id": "Ose532N5jZD9"
   },
   "source": [
    "## 1. Look at the big picture\n",
    "\n",
    "Our first task is to use the california census data to build a model of the housing prices in the state. This data includes features such as:\n",
    "- Population\n",
    "- Median Income\n",
    "- Median housing price for each block group in California\n",
    "\n",
    "A block group is the smallest geographical unit for which cencus data is published. A Block group has a population between 600 to 3,000. We will call them \"districts\" for short.\n",
    "    \n",
    "Our model should be able to predict the median housing price for any district, given the other features.\n",
    "\n",
    "### Frame the problem\n",
    "\n",
    "The first question we should ask is: \"What is the business objective?\". Building a model is probably not the end goal for us. This leads us to the more important question: \"How does the comapny expects to benefit from the model?\".\n",
    "\n",
    "Our boss answers that the model's output (A prediction for a district's median housing price) will be fed along other signals to another model to decide whether or not to invest in the district. Getting this information right is critical, as it's directly connects to revenue. In our case, our prediction will serve as input to another model that attempts to increase the company's return on investment (ROI).\n",
    "\n",
    "Since we are talking about our data flowing from model to model, it might be of benefit for us to define a \"data pipeline\". A sequence of data processing components is called a **data pipeline** Pipelines are very common is machine learning systems, since data needs to be preprocessed, manipulated, transformed to output the final predictions. The pipeline's components typically run asynchonosly. Each component pulls in a large amount of data, process it and spits out a result (prediction) into a data store. Each component is fairly self-contained.\n",
    "\n",
    "Within a company, different teams can focus on different components.\n",
    "\n",
    "The next question to ask your boss is \"what the current solution looks like?\"\n",
    "\n",
    "The problem is a supervised learning problem, and because we're predicting the median housing price for a district (which is numerical), then this is a **Regression Task**. We can also categorize this problem as a batch learning problem since cencus data is historical and does come every year.\n",
    "    \n",
    "If the data is huge, we can either split the data between multiple servers using Map Reduce or use online learning."
   ]
  },
  {
   "cell_type": "markdown",
   "metadata": {
    "id": "10k4jSHCjZD9"
   },
   "source": [
    "### Select a Performance Measure\n",
    "\n",
    "A typical performance measure for regression problems is **Root Mean Squared Error**. It has a higher weight for large errors. Its general formula:\n",
    "\n",
    "$$ RMSE(X,h) = \\sqrt{ {1 \\over m} \\sum_{i=1}^m ( h(x^{(i)}) - y^{(i)} )^2  }$$\n",
    "\n",
    "Wehre $m$ is the number of instances in the dataset you are measuring the $RMSE$ on, $x^{(i)}$ is a vector containing all of the input feature values (excluding the label) for the $i^{th}$ instance. $y^{(i)}$ is the label or the desired output of input $x^{(i)}$, and $X$ is a matrix containing all feature values excluding the labels/targets.\n",
    "\n",
    "The $i^{th}$ row of $X$ corresponds to $x^{(i)}$ and we can note:\n",
    "\n",
    "$$X=\\left(\n",
    "\\begin{array}{c}\n",
    "  {x^{(1)}}^{T}\\\\\n",
    "  {x^{(2)}}^{T}\\\\\n",
    "  {x^{(3)}}^{T}\\\\\n",
    "  \\vdots\\\\\n",
    "  {x^{(m)}}^{T}\\\\\n",
    "\\end{array}\n",
    "\\right)$$\n",
    "\n",
    "$h(.)$ is the system's prediction function, also called hypothesis. $RMSE(X,h)$ is the cost function measured on the set of examples $X$ and the hypothesis $h$. $RMSE$ is the preferred performance measure for regression tasks, but sometimes, we prefer to use other cost functions such as:\n",
    "\n",
    "- $MAE$: We use mean absolute error in the case where we have many outliers (also called the average absolute diviation):\n",
    "\n",
    "$$MAE(X,h) = {1 \\over m} \\sum_{i=1}^m |h(x^{(i)}) - y^{(i)}|$$\n",
    "\n",
    "Both $RMSE$ and $MAE$ are ways to measure the distance between two vectors. In our case, the distance between the vector of predictions and the vector of targets/labels.\n",
    "\n",
    "However, various distance measures, or norms, are possible. Computing the root of the sum of squares ($RMSE$) corresponds to the euclidian norm (also called $l_{2}$ norm). Computing the sum of absolutes ($MAE$) corresponds to the $l_{1}$ norm. More generally, the norm $l_{k}$ of a vector $\\bf{x}$ is:\n",
    "\n",
    "$$||v||_{k} = (\\sum_{i=1}^{m} |v_{i}|^{k})^{1 \\over k}$$\n",
    "\n",
    "With $l_{0}$ giving the number of non-zero elements in the vector $v$, and $l_{\\infty}$ giving the maximum absolute value in the vector $v$. The higher the norm index, the more it focuses on large values and neglects small ones. This is why $RMSE$ is more sensitive to large errors than $MAE$.\n",
    "\n",
    "When outliers are exponentially rare (like in a bell curve) $RMSE$ performs extremely well and is preferred over other cost functions."
   ]
  },
  {
   "cell_type": "markdown",
   "metadata": {
    "id": "JnNBn8zcjZD9"
   },
   "source": [
    "### Check the assumptions\n",
    "\n",
    "Lastly, it is good practice to list and verify the list of assumptions made by us or others, this can help us catch serious mistakes early one.\n",
    "\n",
    "To give an example, let's image we've spent 6 months working on an algorithm to predict the median housing price per district only to find out later that our predictions are being converted into categories (\"Cheap\", \"Medium\", \"Expensive\"). In this case, It would've been better to work on the classification problem instead of a regression one, that would produce better predictions for the downstream system.\n",
    "\n",
    "Fortunately, we find out that the team needs the actual median housing prices. Good to go!"
   ]
  },
  {
   "cell_type": "markdown",
   "metadata": {
    "id": "TAyqXwnljZD9"
   },
   "source": [
    "## 2. Get the Data\n",
    "\n",
    "### Download the Data\n",
    "\n",
    "It is preferable to create some util functions to automate the process of downloading/extracting web-based data sets."
   ]
  },
  {
   "cell_type": "code",
   "execution_count": 2,
   "metadata": {
    "executionInfo": {
     "elapsed": 675,
     "status": "ok",
     "timestamp": 1702974025904,
     "user": {
      "displayName": "Prabir Mondal",
      "userId": "02617277053786140042"
     },
     "user_tz": -330
    },
    "id": "ZkDz1BlCjZD-"
   },
   "outputs": [],
   "source": [
    "import os\n",
    "import tarfile\n",
    "import urllib"
   ]
  },
  {
   "cell_type": "code",
   "execution_count": 3,
   "metadata": {
    "executionInfo": {
     "elapsed": 3,
     "status": "ok",
     "timestamp": 1702974027362,
     "user": {
      "displayName": "Prabir Mondal",
      "userId": "02617277053786140042"
     },
     "user_tz": -330
    },
    "id": "GF1MHQDPjZD-"
   },
   "outputs": [],
   "source": [
    "DOWNLOAD_ROOT = \"https://raw.githubusercontent.com/ageron/handson-ml2/master/\"\n",
    "HOUSING_PATH = os.path.join(\"data\", \"01\")\n",
    "HOUSING_URL = DOWNLOAD_ROOT + \"datasets/housing/housing.tgz\""
   ]
  },
  {
   "cell_type": "code",
   "execution_count": 4,
   "metadata": {
    "executionInfo": {
     "elapsed": 601,
     "status": "ok",
     "timestamp": 1702974029494,
     "user": {
      "displayName": "Prabir Mondal",
      "userId": "02617277053786140042"
     },
     "user_tz": -330
    },
    "id": "AXh0cRrIjZD-"
   },
   "outputs": [],
   "source": [
    "def fetch_housing_data(housing_url=HOUSING_URL, housing_path=HOUSING_PATH):\n",
    "    \"\"\"Creates `HOUSING_PATH`, Downloads & Extracts the contents of `HOUSING_URL` into `HOUSING_PATH`\n",
    "\n",
    "    # Arguments:\n",
    "        housing_url, string: the download link\n",
    "        housing_path, string: where to download & extract data\n",
    "    \"\"\"\n",
    "    os.makedirs(name=housing_path, exist_ok=True)\n",
    "    tgz_path = os.path.join(housing_path, \"housing.tgz\")\n",
    "    urllib.request.urlretrieve(url=housing_url, filename=tgz_path)\n",
    "    housing_tgz = tarfile.open(name=tgz_path)\n",
    "    housing_tgz.extractall(path=housing_path)\n",
    "    housing_tgz.close()"
   ]
  },
  {
   "cell_type": "markdown",
   "metadata": {
    "id": "5H5uiHpxjZD_"
   },
   "source": [
    "Now we download the data:"
   ]
  },
  {
   "cell_type": "code",
   "execution_count": 5,
   "metadata": {
    "executionInfo": {
     "elapsed": 533,
     "status": "ok",
     "timestamp": 1702974035749,
     "user": {
      "displayName": "Prabir Mondal",
      "userId": "02617277053786140042"
     },
     "user_tz": -330
    },
    "id": "20fwSOr4jZD_"
   },
   "outputs": [],
   "source": [
    "fetch_housing_data()"
   ]
  },
  {
   "cell_type": "markdown",
   "metadata": {
    "id": "QdWGQ9VdjZD_"
   },
   "source": [
    "Let's write a small function to load the data using pandas:"
   ]
  },
  {
   "cell_type": "code",
   "execution_count": 6,
   "metadata": {
    "executionInfo": {
     "elapsed": 905,
     "status": "ok",
     "timestamp": 1702974045055,
     "user": {
      "displayName": "Prabir Mondal",
      "userId": "02617277053786140042"
     },
     "user_tz": -330
    },
    "id": "yKl0l_S9jZD_"
   },
   "outputs": [],
   "source": [
    "import pandas as pd"
   ]
  },
  {
   "cell_type": "code",
   "execution_count": 8,
   "metadata": {
    "executionInfo": {
     "elapsed": 2,
     "status": "ok",
     "timestamp": 1702974047249,
     "user": {
      "displayName": "Prabir Mondal",
      "userId": "02617277053786140042"
     },
     "user_tz": -330
    },
    "id": "5MtN3boLjZD_"
   },
   "outputs": [],
   "source": [
    "def load_housing_data(housing_path=HOUSING_PATH):\n",
    "    \"\"\"Loads Housing data into a pandas dataframe.\n",
    "\n",
    "    # Arguments:\n",
    "        housing_path: the path where `housing.csv` exists\n",
    "\n",
    "    # Returns:\n",
    "        data, pd.DataFrame: the housing data as a pandas dataframe\n",
    "    \"\"\"\n",
    "    data_path = os.path.join(housing_path, \"housing.csv\")\n",
    "    return pd.read_csv(data_path)"
   ]
  },
  {
   "cell_type": "markdown",
   "metadata": {
    "id": "9rGttbA8jZEA"
   },
   "source": [
    "### Take a Quick Look at the Data Structure"
   ]
  },
  {
   "cell_type": "code",
   "execution_count": 9,
   "metadata": {
    "executionInfo": {
     "elapsed": 508,
     "status": "ok",
     "timestamp": 1702974056302,
     "user": {
      "displayName": "Prabir Mondal",
      "userId": "02617277053786140042"
     },
     "user_tz": -330
    },
    "id": "HxWSZ4SRjZEA"
   },
   "outputs": [],
   "source": [
    "housing = load_housing_data()"
   ]
  },
  {
   "cell_type": "code",
   "execution_count": 10,
   "metadata": {
    "colab": {
     "base_uri": "https://localhost:8080/",
     "height": 206
    },
    "executionInfo": {
     "elapsed": 9,
     "status": "ok",
     "timestamp": 1702974058339,
     "user": {
      "displayName": "Prabir Mondal",
      "userId": "02617277053786140042"
     },
     "user_tz": -330
    },
    "id": "vIYnkkt0jZEA",
    "outputId": "67c03490-fdb8-4133-9093-cdb891f23f15"
   },
   "outputs": [
    {
     "data": {
      "text/html": [
       "<div>\n",
       "<style scoped>\n",
       "    .dataframe tbody tr th:only-of-type {\n",
       "        vertical-align: middle;\n",
       "    }\n",
       "\n",
       "    .dataframe tbody tr th {\n",
       "        vertical-align: top;\n",
       "    }\n",
       "\n",
       "    .dataframe thead th {\n",
       "        text-align: right;\n",
       "    }\n",
       "</style>\n",
       "<table border=\"1\" class=\"dataframe\">\n",
       "  <thead>\n",
       "    <tr style=\"text-align: right;\">\n",
       "      <th></th>\n",
       "      <th>longitude</th>\n",
       "      <th>latitude</th>\n",
       "      <th>housing_median_age</th>\n",
       "      <th>total_rooms</th>\n",
       "      <th>total_bedrooms</th>\n",
       "      <th>population</th>\n",
       "      <th>households</th>\n",
       "      <th>median_income</th>\n",
       "      <th>median_house_value</th>\n",
       "      <th>ocean_proximity</th>\n",
       "    </tr>\n",
       "  </thead>\n",
       "  <tbody>\n",
       "    <tr>\n",
       "      <th>0</th>\n",
       "      <td>-122.23</td>\n",
       "      <td>37.88</td>\n",
       "      <td>41.0</td>\n",
       "      <td>880.0</td>\n",
       "      <td>129.0</td>\n",
       "      <td>322.0</td>\n",
       "      <td>126.0</td>\n",
       "      <td>8.3252</td>\n",
       "      <td>452600.0</td>\n",
       "      <td>NEAR BAY</td>\n",
       "    </tr>\n",
       "    <tr>\n",
       "      <th>1</th>\n",
       "      <td>-122.22</td>\n",
       "      <td>37.86</td>\n",
       "      <td>21.0</td>\n",
       "      <td>7099.0</td>\n",
       "      <td>1106.0</td>\n",
       "      <td>2401.0</td>\n",
       "      <td>1138.0</td>\n",
       "      <td>8.3014</td>\n",
       "      <td>358500.0</td>\n",
       "      <td>NEAR BAY</td>\n",
       "    </tr>\n",
       "    <tr>\n",
       "      <th>2</th>\n",
       "      <td>-122.24</td>\n",
       "      <td>37.85</td>\n",
       "      <td>52.0</td>\n",
       "      <td>1467.0</td>\n",
       "      <td>190.0</td>\n",
       "      <td>496.0</td>\n",
       "      <td>177.0</td>\n",
       "      <td>7.2574</td>\n",
       "      <td>352100.0</td>\n",
       "      <td>NEAR BAY</td>\n",
       "    </tr>\n",
       "    <tr>\n",
       "      <th>3</th>\n",
       "      <td>-122.25</td>\n",
       "      <td>37.85</td>\n",
       "      <td>52.0</td>\n",
       "      <td>1274.0</td>\n",
       "      <td>235.0</td>\n",
       "      <td>558.0</td>\n",
       "      <td>219.0</td>\n",
       "      <td>5.6431</td>\n",
       "      <td>341300.0</td>\n",
       "      <td>NEAR BAY</td>\n",
       "    </tr>\n",
       "    <tr>\n",
       "      <th>4</th>\n",
       "      <td>-122.25</td>\n",
       "      <td>37.85</td>\n",
       "      <td>52.0</td>\n",
       "      <td>1627.0</td>\n",
       "      <td>280.0</td>\n",
       "      <td>565.0</td>\n",
       "      <td>259.0</td>\n",
       "      <td>3.8462</td>\n",
       "      <td>342200.0</td>\n",
       "      <td>NEAR BAY</td>\n",
       "    </tr>\n",
       "  </tbody>\n",
       "</table>\n",
       "</div>"
      ],
      "text/plain": [
       "   longitude  latitude  housing_median_age  total_rooms  total_bedrooms  \\\n",
       "0    -122.23     37.88                41.0        880.0           129.0   \n",
       "1    -122.22     37.86                21.0       7099.0          1106.0   \n",
       "2    -122.24     37.85                52.0       1467.0           190.0   \n",
       "3    -122.25     37.85                52.0       1274.0           235.0   \n",
       "4    -122.25     37.85                52.0       1627.0           280.0   \n",
       "\n",
       "   population  households  median_income  median_house_value ocean_proximity  \n",
       "0       322.0       126.0         8.3252            452600.0        NEAR BAY  \n",
       "1      2401.0      1138.0         8.3014            358500.0        NEAR BAY  \n",
       "2       496.0       177.0         7.2574            352100.0        NEAR BAY  \n",
       "3       558.0       219.0         5.6431            341300.0        NEAR BAY  \n",
       "4       565.0       259.0         3.8462            342200.0        NEAR BAY  "
      ]
     },
     "execution_count": 10,
     "metadata": {},
     "output_type": "execute_result"
    }
   ],
   "source": [
    "housing.head()"
   ]
  },
  {
   "cell_type": "markdown",
   "metadata": {
    "id": "Eai7pBkejZEA"
   },
   "source": [
    "Each row represents one district and has the following (10) attributes:\n",
    "- `longitude`\n",
    "- `latitude`\n",
    "- `housing_median_age`\n",
    "- `total_rooms`\n",
    "- `total_bedrooms`\n",
    "- `population`\n",
    "- `households`\n",
    "- `median_income`\n",
    "- `median_house_value`\n",
    "- `ocean_proximity`\n",
    "\n",
    "The `info()` method is useful to take a quick look at the data. It answers the following questions:\n",
    "- How many rows exist?\n",
    "- How many `NaN`s per column?\n",
    "- What are the data types (per column)?"
   ]
  },
  {
   "cell_type": "code",
   "execution_count": 11,
   "metadata": {
    "colab": {
     "base_uri": "https://localhost:8080/"
    },
    "executionInfo": {
     "elapsed": 473,
     "status": "ok",
     "timestamp": 1702974061811,
     "user": {
      "displayName": "Prabir Mondal",
      "userId": "02617277053786140042"
     },
     "user_tz": -330
    },
    "id": "u2EdnvpzjZEB",
    "outputId": "bcfc5d74-a728-40fc-87d6-6b44501c6864"
   },
   "outputs": [
    {
     "name": "stdout",
     "output_type": "stream",
     "text": [
      "<class 'pandas.core.frame.DataFrame'>\n",
      "RangeIndex: 20640 entries, 0 to 20639\n",
      "Data columns (total 10 columns):\n",
      " #   Column              Non-Null Count  Dtype  \n",
      "---  ------              --------------  -----  \n",
      " 0   longitude           20640 non-null  float64\n",
      " 1   latitude            20640 non-null  float64\n",
      " 2   housing_median_age  20640 non-null  float64\n",
      " 3   total_rooms         20640 non-null  float64\n",
      " 4   total_bedrooms      20433 non-null  float64\n",
      " 5   population          20640 non-null  float64\n",
      " 6   households          20640 non-null  float64\n",
      " 7   median_income       20640 non-null  float64\n",
      " 8   median_house_value  20640 non-null  float64\n",
      " 9   ocean_proximity     20640 non-null  object \n",
      "dtypes: float64(9), object(1)\n",
      "memory usage: 1.6+ MB\n"
     ]
    }
   ],
   "source": [
    "housing.info()"
   ]
  },
  {
   "cell_type": "markdown",
   "metadata": {
    "id": "1qkiuXqFjZEB"
   },
   "source": [
    "There exist $20,640$ instances (rows) in the dataset. Which means that it is fairly small data sample by machine learning standards.\n",
    "\n",
    "$207$ districts are missing the `total_bedrooms` attribute, we will need to take care of this later.\n",
    "\n",
    "On the other hand, all attributes are numerical, except `ocean_proximity`\n",
    "\n",
    "Since we noticed repeated `ocean_proximity` values for the top 5 rows, we suspect that it is a categorical column, let's check it out:"
   ]
  },
  {
   "cell_type": "code",
   "execution_count": 12,
   "metadata": {
    "colab": {
     "base_uri": "https://localhost:8080/"
    },
    "executionInfo": {
     "elapsed": 479,
     "status": "ok",
     "timestamp": 1702974065080,
     "user": {
      "displayName": "Prabir Mondal",
      "userId": "02617277053786140042"
     },
     "user_tz": -330
    },
    "id": "9v-gLLfmjZEB",
    "outputId": "09120d11-39a0-45a3-f577-f5be59e79d06"
   },
   "outputs": [
    {
     "data": {
      "text/plain": [
       "<1H OCEAN     9136\n",
       "INLAND        6551\n",
       "NEAR OCEAN    2658\n",
       "NEAR BAY      2290\n",
       "ISLAND           5\n",
       "Name: ocean_proximity, dtype: int64"
      ]
     },
     "execution_count": 12,
     "metadata": {},
     "output_type": "execute_result"
    }
   ],
   "source": [
    "housing['ocean_proximity'].value_counts()"
   ]
  },
  {
   "cell_type": "markdown",
   "metadata": {
    "id": "LwkFCIL_jZEB"
   },
   "source": [
    "`.describe()` shows a summary of all numerical values:"
   ]
  },
  {
   "cell_type": "code",
   "execution_count": 13,
   "metadata": {
    "colab": {
     "base_uri": "https://localhost:8080/",
     "height": 300
    },
    "executionInfo": {
     "elapsed": 483,
     "status": "ok",
     "timestamp": 1702974067847,
     "user": {
      "displayName": "Prabir Mondal",
      "userId": "02617277053786140042"
     },
     "user_tz": -330
    },
    "id": "9Dp8mmKqjZEB",
    "outputId": "a615be65-1ee1-4b11-d37a-eaf269d70a96"
   },
   "outputs": [
    {
     "data": {
      "text/html": [
       "<div>\n",
       "<style scoped>\n",
       "    .dataframe tbody tr th:only-of-type {\n",
       "        vertical-align: middle;\n",
       "    }\n",
       "\n",
       "    .dataframe tbody tr th {\n",
       "        vertical-align: top;\n",
       "    }\n",
       "\n",
       "    .dataframe thead th {\n",
       "        text-align: right;\n",
       "    }\n",
       "</style>\n",
       "<table border=\"1\" class=\"dataframe\">\n",
       "  <thead>\n",
       "    <tr style=\"text-align: right;\">\n",
       "      <th></th>\n",
       "      <th>longitude</th>\n",
       "      <th>latitude</th>\n",
       "      <th>housing_median_age</th>\n",
       "      <th>total_rooms</th>\n",
       "      <th>total_bedrooms</th>\n",
       "      <th>population</th>\n",
       "      <th>households</th>\n",
       "      <th>median_income</th>\n",
       "      <th>median_house_value</th>\n",
       "    </tr>\n",
       "  </thead>\n",
       "  <tbody>\n",
       "    <tr>\n",
       "      <th>count</th>\n",
       "      <td>20640.000000</td>\n",
       "      <td>20640.000000</td>\n",
       "      <td>20640.000000</td>\n",
       "      <td>20640.000000</td>\n",
       "      <td>20433.000000</td>\n",
       "      <td>20640.000000</td>\n",
       "      <td>20640.000000</td>\n",
       "      <td>20640.000000</td>\n",
       "      <td>20640.000000</td>\n",
       "    </tr>\n",
       "    <tr>\n",
       "      <th>mean</th>\n",
       "      <td>-119.569704</td>\n",
       "      <td>35.631861</td>\n",
       "      <td>28.639486</td>\n",
       "      <td>2635.763081</td>\n",
       "      <td>537.870553</td>\n",
       "      <td>1425.476744</td>\n",
       "      <td>499.539680</td>\n",
       "      <td>3.870671</td>\n",
       "      <td>206855.816909</td>\n",
       "    </tr>\n",
       "    <tr>\n",
       "      <th>std</th>\n",
       "      <td>2.003532</td>\n",
       "      <td>2.135952</td>\n",
       "      <td>12.585558</td>\n",
       "      <td>2181.615252</td>\n",
       "      <td>421.385070</td>\n",
       "      <td>1132.462122</td>\n",
       "      <td>382.329753</td>\n",
       "      <td>1.899822</td>\n",
       "      <td>115395.615874</td>\n",
       "    </tr>\n",
       "    <tr>\n",
       "      <th>min</th>\n",
       "      <td>-124.350000</td>\n",
       "      <td>32.540000</td>\n",
       "      <td>1.000000</td>\n",
       "      <td>2.000000</td>\n",
       "      <td>1.000000</td>\n",
       "      <td>3.000000</td>\n",
       "      <td>1.000000</td>\n",
       "      <td>0.499900</td>\n",
       "      <td>14999.000000</td>\n",
       "    </tr>\n",
       "    <tr>\n",
       "      <th>25%</th>\n",
       "      <td>-121.800000</td>\n",
       "      <td>33.930000</td>\n",
       "      <td>18.000000</td>\n",
       "      <td>1447.750000</td>\n",
       "      <td>296.000000</td>\n",
       "      <td>787.000000</td>\n",
       "      <td>280.000000</td>\n",
       "      <td>2.563400</td>\n",
       "      <td>119600.000000</td>\n",
       "    </tr>\n",
       "    <tr>\n",
       "      <th>50%</th>\n",
       "      <td>-118.490000</td>\n",
       "      <td>34.260000</td>\n",
       "      <td>29.000000</td>\n",
       "      <td>2127.000000</td>\n",
       "      <td>435.000000</td>\n",
       "      <td>1166.000000</td>\n",
       "      <td>409.000000</td>\n",
       "      <td>3.534800</td>\n",
       "      <td>179700.000000</td>\n",
       "    </tr>\n",
       "    <tr>\n",
       "      <th>75%</th>\n",
       "      <td>-118.010000</td>\n",
       "      <td>37.710000</td>\n",
       "      <td>37.000000</td>\n",
       "      <td>3148.000000</td>\n",
       "      <td>647.000000</td>\n",
       "      <td>1725.000000</td>\n",
       "      <td>605.000000</td>\n",
       "      <td>4.743250</td>\n",
       "      <td>264725.000000</td>\n",
       "    </tr>\n",
       "    <tr>\n",
       "      <th>max</th>\n",
       "      <td>-114.310000</td>\n",
       "      <td>41.950000</td>\n",
       "      <td>52.000000</td>\n",
       "      <td>39320.000000</td>\n",
       "      <td>6445.000000</td>\n",
       "      <td>35682.000000</td>\n",
       "      <td>6082.000000</td>\n",
       "      <td>15.000100</td>\n",
       "      <td>500001.000000</td>\n",
       "    </tr>\n",
       "  </tbody>\n",
       "</table>\n",
       "</div>"
      ],
      "text/plain": [
       "          longitude      latitude  housing_median_age   total_rooms  \\\n",
       "count  20640.000000  20640.000000        20640.000000  20640.000000   \n",
       "mean    -119.569704     35.631861           28.639486   2635.763081   \n",
       "std        2.003532      2.135952           12.585558   2181.615252   \n",
       "min     -124.350000     32.540000            1.000000      2.000000   \n",
       "25%     -121.800000     33.930000           18.000000   1447.750000   \n",
       "50%     -118.490000     34.260000           29.000000   2127.000000   \n",
       "75%     -118.010000     37.710000           37.000000   3148.000000   \n",
       "max     -114.310000     41.950000           52.000000  39320.000000   \n",
       "\n",
       "       total_bedrooms    population    households  median_income  \\\n",
       "count    20433.000000  20640.000000  20640.000000   20640.000000   \n",
       "mean       537.870553   1425.476744    499.539680       3.870671   \n",
       "std        421.385070   1132.462122    382.329753       1.899822   \n",
       "min          1.000000      3.000000      1.000000       0.499900   \n",
       "25%        296.000000    787.000000    280.000000       2.563400   \n",
       "50%        435.000000   1166.000000    409.000000       3.534800   \n",
       "75%        647.000000   1725.000000    605.000000       4.743250   \n",
       "max       6445.000000  35682.000000   6082.000000      15.000100   \n",
       "\n",
       "       median_house_value  \n",
       "count        20640.000000  \n",
       "mean        206855.816909  \n",
       "std         115395.615874  \n",
       "min          14999.000000  \n",
       "25%         119600.000000  \n",
       "50%         179700.000000  \n",
       "75%         264725.000000  \n",
       "max         500001.000000  "
      ]
     },
     "execution_count": 13,
     "metadata": {},
     "output_type": "execute_result"
    }
   ],
   "source": [
    "housing.describe()"
   ]
  },
  {
   "cell_type": "markdown",
   "metadata": {
    "id": "1uUes8rrjZEB"
   },
   "source": [
    "We should be careful, because `.describe()` ignores null values.\n",
    "\n",
    "The `std` row shows standard deviation, which measures how dispersed the values are. The `25%`, `50%`, `75%` rows show the persentiles of each columns (Example: `25%` of districts have $<=18$ years housing median age).\n",
    "\n",
    "Another way to get a feel of numerical continuous data is to draw a histogram for each numerical column:"
   ]
  },
  {
   "cell_type": "code",
   "execution_count": 158,
   "metadata": {
    "executionInfo": {
     "elapsed": 445,
     "status": "ok",
     "timestamp": 1702974071085,
     "user": {
      "displayName": "Prabir Mondal",
      "userId": "02617277053786140042"
     },
     "user_tz": -330
    },
    "id": "lOFBqhm9jZEC"
   },
   "outputs": [],
   "source": [
    "import matplotlib.pyplot as plt\n",
    "import seaborn as sns"
   ]
  },
  {
   "cell_type": "code",
   "execution_count": 159,
   "metadata": {
    "colab": {
     "base_uri": "https://localhost:8080/",
     "height": 1000
    },
    "executionInfo": {
     "elapsed": 4616,
     "status": "ok",
     "timestamp": 1702974077461,
     "user": {
      "displayName": "Prabir Mondal",
      "userId": "02617277053786140042"
     },
     "user_tz": -330
    },
    "id": "niMKmZ3XjZEC",
    "outputId": "c99fe1cd-7f3c-4b64-9b72-60eeefc9655b"
   },
   "outputs": [
    {
     "data": {
      "image/png": "[encoded data removed]",
      "text/plain": [
       "<Figure size 2000x1500 with 9 Axes>"
      ]
     },
     "metadata": {},
     "output_type": "display_data"
    }
   ],
   "source": [
    "housing.hist(bins=50, figsize=(20,15))\n",
    "plt.show()"
   ]
  },
  {
   "cell_type": "markdown",
   "metadata": {
    "id": "rGBFJnCmjZEC"
   },
   "source": [
    "There are a few things we might notice in these histograms.\n",
    "\n",
    "The `median_income` attribute isn't expressed in US dollars. After checking with the team, they informed us that the numbers roughly represent tens of thousands of dollars.\n",
    "\n",
    "The `housing_median_age` and the `median_house_value` were capped. This might pose a problem especially for the second attribute since it represent the output we want to predict. Our machine learning algorithms may learn that prices never go beyond that limit. In reality, we need to check with our client's team if this can be a problem or not. If they tell us that they need precise predictions even beyond 500,000 USD, then we have 2 options:\n",
    "\n",
    "- Manually collect the actual labels of districts with a `median_house_value` >= 500,000USD.\n",
    "- Remove those districts from the training/test sets, we don't want the model to learn never to go beyond 500,000USD.\n",
    "\n",
    "The attributes have very different scales, we will discuss feature scaling later. The attributes are **tail-heavy** & they often extend to the right than to the left. As a result, It will be difficult for many machine learning algorithms to find patterns within the data.\n",
    "\n",
    "We will learn how to transform the distribution from a tailed one to a bell-shaped normal/gaussian one."
   ]
  },
  {
   "cell_type": "markdown",
   "metadata": {
    "id": "FUibOujSjZEC"
   },
   "source": [
    "### Create a Test Set\n",
    "\n",
    "Creating a test set is easy, We randomly (or not if we're dealing with timeseries) select a subset of the data, typically 20% (or less if the dataset is large)."
   ]
  },
  {
   "cell_type": "code",
   "execution_count": 53,
   "metadata": {
    "executionInfo": {
     "elapsed": 778,
     "status": "ok",
     "timestamp": 1702974096590,
     "user": {
      "displayName": "Prabir Mondal",
      "userId": "02617277053786140042"
     },
     "user_tz": -330
    },
    "id": "gw1LDuc0jZEC"
   },
   "outputs": [],
   "source": [
    "import numpy as np"
   ]
  },
  {
   "cell_type": "markdown",
   "metadata": {
    "id": "jEmsZPFIjZEI"
   },
   "source": [
    "If we use the row index as an identifier, we will need to preserve the order at all costs by making sure new data gets appended to the end of the dataframe and no rows are deleted/altered.\n",
    "\n",
    "If the previous is not feasible, we can try to build an identifier from the multiple features of each row. For example: a (Latitude/longitude) couple is guaranteed to be stable a few million years, so we can build a unique index based on it. The following procedure creates a unique identifier for each row:\n",
    "\n",
    "1. Convert latitude/longitude values from $\\Bbb{R}$ to $\\Bbb{Z}$ (by $\\times 100$)\n",
    "2. Convert latitude/longitude from $\\Bbb{Z}$ to $\\Bbb{N}$ using:\n",
    "\n",
    "$$\n",
    "f(n) =\n",
    "\\begin{cases}\n",
    "2n,  & \\text{if $n \\ge 0$} \\\\\n",
    "-2n-1, & \\text{if $n \\lt 0$}\n",
    "\\end{cases}\n",
    "$$\n",
    "\n",
    "3. Use `Cantor Pairing` function to create unique indexes from $\\Bbb{N}^2$ tuples using:\n",
    "$$\\pi(k_{1},k_{2})={(k_{1}+k_{2})\\cdot{(k_{1}+k_{2}+1)}\\over{2}}+k_{2}$$\n",
    "\n",
    "Let's implement it:"
   ]
  },
  {
   "cell_type": "code",
   "execution_count": 54,
   "metadata": {
    "executionInfo": {
     "elapsed": 586,
     "status": "ok",
     "timestamp": 1702974159951,
     "user": {
      "displayName": "Prabir Mondal",
      "userId": "02617277053786140042"
     },
     "user_tz": -330
    },
    "id": "uGH2ha9tjZEI"
   },
   "outputs": [],
   "source": [
    "def from_Z_to_N(z):\n",
    "    \"\"\"Converts a number from \\Bbb{Z} to \\Bbb{N}\n",
    "\n",
    "    # Arguments\n",
    "        z, integer: in \\Bbb{Z}\n",
    "\n",
    "    # Returns\n",
    "        n, natural number: in \\Bbb{N}\n",
    "    \"\"\"\n",
    "    if z >= 0:\n",
    "        n = 2 * z\n",
    "    else:\n",
    "        n = -2 * z - 1\n",
    "    return n"
   ]
  },
  {
   "cell_type": "code",
   "execution_count": 55,
   "metadata": {
    "executionInfo": {
     "elapsed": 5,
     "status": "ok",
     "timestamp": 1702974161571,
     "user": {
      "displayName": "Prabir Mondal",
      "userId": "02617277053786140042"
     },
     "user_tz": -330
    },
    "id": "lZvDO_jzjZEI"
   },
   "outputs": [],
   "source": [
    "def cantor_pairing(n1, n2):\n",
    "    \"\"\"Creates a unique number `n` in \\Bbb{N} from a tuple (n1,n2) in \\Bbb{N}^2\n",
    "\n",
    "    # Arguments\n",
    "        n1, natural number: first element of the tuple.\n",
    "        n2, natural number: second element of the tuple.\n",
    "\n",
    "    # Returns\n",
    "        n, natural number: unique index from tuple (n1,n2).\n",
    "    \"\"\"\n",
    "    n = ( ( (n1 + n2) * (n1 + n2 + 1) ) / 2 ) + n2\n",
    "    return n"
   ]
  },
  {
   "cell_type": "code",
   "execution_count": 56,
   "metadata": {
    "executionInfo": {
     "elapsed": 5,
     "status": "ok",
     "timestamp": 1702974163183,
     "user": {
      "displayName": "Prabir Mondal",
      "userId": "02617277053786140042"
     },
     "user_tz": -330
    },
    "id": "cLj-aAqOjZEI"
   },
   "outputs": [],
   "source": [
    "def lat_lon_to_index(lat, lon):\n",
    "    \"\"\"Converts a tuple of (lat,lon) to a unique index in \\Bbb{N}\n",
    "\n",
    "    # Arguments\n",
    "        lat, float: latitude.\n",
    "        lon, float: longitude.\n",
    "\n",
    "    # Returns\n",
    "        index, positive int: unique index.\n",
    "\n",
    "    # Notes\n",
    "        - 3 steps to do it:\n",
    "            1. Convert (lat,lon) to \\Bbb{Z} by *100.\n",
    "            2. Convert (lat,lon) from \\Bbb{Z} to \\Bbb{N} using `from_Z_to_N()`\n",
    "            3. Create the unique index using `cantor_pairing(_,_)`\n",
    "    \"\"\"\n",
    "    lat, lon = int(lat*100), int(lon*100)\n",
    "    lat, lon = from_Z_to_N(lat), from_Z_to_N(lon)\n",
    "    index = cantor_pairing(lat, lon)\n",
    "    return np.int64(index)"
   ]
  },
  {
   "cell_type": "code",
   "execution_count": 57,
   "metadata": {
    "executionInfo": {
     "elapsed": 580,
     "status": "ok",
     "timestamp": 1702974167597,
     "user": {
      "displayName": "Prabir Mondal",
      "userId": "02617277053786140042"
     },
     "user_tz": -330
    },
    "id": "-N7HNdFHjZEI"
   },
   "outputs": [],
   "source": [
    "housing['id'] = housing.apply(lambda row: lat_lon_to_index(row['latitude'], row['longitude']), axis=1)"
   ]
  },
  {
   "cell_type": "code",
   "execution_count": 58,
   "metadata": {
    "colab": {
     "base_uri": "https://localhost:8080/"
    },
    "executionInfo": {
     "elapsed": 4,
     "status": "ok",
     "timestamp": 1702974169604,
     "user": {
      "displayName": "Prabir Mondal",
      "userId": "02617277053786140042"
     },
     "user_tz": -330
    },
    "id": "IyHi37REjZEJ",
    "outputId": "65fcd85e-2b99-4547-e053-1c93d1cae0aa"
   },
   "outputs": [
    {
     "data": {
      "text/plain": [
       "513289261    24\n",
       "513481522    20\n",
       "513417431    18\n",
       "513353344    18\n",
       "463609694    14\n",
       "             ..\n",
       "513032709     1\n",
       "513417159     1\n",
       "519523778     1\n",
       "519459311     1\n",
       "515855387     1\n",
       "Name: id, Length: 11573, dtype: int64"
      ]
     },
     "execution_count": 58,
     "metadata": {},
     "output_type": "execute_result"
    }
   ],
   "source": [
    "housing['id'].value_counts()"
   ]
  },
  {
   "cell_type": "markdown",
   "metadata": {
    "id": "deyJxXG6jZEJ"
   },
   "source": [
    "We still get duplicate indexes, and at the same time, we have duplicate (lat,lon) tuples as follows:"
   ]
  },
  {
   "cell_type": "code",
   "execution_count": 59,
   "metadata": {
    "colab": {
     "base_uri": "https://localhost:8080/"
    },
    "executionInfo": {
     "elapsed": 659,
     "status": "ok",
     "timestamp": 1702974177251,
     "user": {
      "displayName": "Prabir Mondal",
      "userId": "02617277053786140042"
     },
     "user_tz": -330
    },
    "id": "wtXZrgxxjZEJ",
    "outputId": "0e931fa8-3c5d-42a4-a4bc-a13842731d6b"
   },
   "outputs": [
    {
     "data": {
      "text/plain": [
       "longitude  latitude\n",
       "-124.35    40.54        1\n",
       "-118.90    34.41        1\n",
       "           35.26        1\n",
       "           35.41        1\n",
       "-118.89    34.22        1\n",
       "                       ..\n",
       "-122.41    37.75       10\n",
       "-122.42    37.75       10\n",
       "-122.44    37.78       11\n",
       "-122.42    37.80       11\n",
       "-122.41    37.80       15\n",
       "Name: total_rooms, Length: 12590, dtype: int64"
      ]
     },
     "execution_count": 59,
     "metadata": {},
     "output_type": "execute_result"
    }
   ],
   "source": [
    "housing.groupby(by=['longitude', 'latitude']).count()['total_rooms'].sort_values()"
   ]
  },
  {
   "cell_type": "code",
   "execution_count": 60,
   "metadata": {},
   "outputs": [
    {
     "data": {
      "text/html": [
       "<div>\n",
       "<style scoped>\n",
       "    .dataframe tbody tr th:only-of-type {\n",
       "        vertical-align: middle;\n",
       "    }\n",
       "\n",
       "    .dataframe tbody tr th {\n",
       "        vertical-align: top;\n",
       "    }\n",
       "\n",
       "    .dataframe thead th {\n",
       "        text-align: right;\n",
       "    }\n",
       "</style>\n",
       "<table border=\"1\" class=\"dataframe\">\n",
       "  <thead>\n",
       "    <tr style=\"text-align: right;\">\n",
       "      <th></th>\n",
       "      <th>longitude</th>\n",
       "      <th>latitude</th>\n",
       "      <th>housing_median_age</th>\n",
       "      <th>total_rooms</th>\n",
       "      <th>total_bedrooms</th>\n",
       "      <th>population</th>\n",
       "      <th>households</th>\n",
       "      <th>median_income</th>\n",
       "      <th>median_house_value</th>\n",
       "      <th>ocean_proximity</th>\n",
       "      <th>id</th>\n",
       "    </tr>\n",
       "  </thead>\n",
       "  <tbody>\n",
       "    <tr>\n",
       "      <th>0</th>\n",
       "      <td>-122.23</td>\n",
       "      <td>37.88</td>\n",
       "      <td>41.0</td>\n",
       "      <td>880.0</td>\n",
       "      <td>129.0</td>\n",
       "      <td>322.0</td>\n",
       "      <td>126.0</td>\n",
       "      <td>8.3252</td>\n",
       "      <td>452600.0</td>\n",
       "      <td>NEAR BAY</td>\n",
       "      <td>512712676</td>\n",
       "    </tr>\n",
       "    <tr>\n",
       "      <th>1</th>\n",
       "      <td>-122.22</td>\n",
       "      <td>37.86</td>\n",
       "      <td>21.0</td>\n",
       "      <td>7099.0</td>\n",
       "      <td>1106.0</td>\n",
       "      <td>2401.0</td>\n",
       "      <td>1138.0</td>\n",
       "      <td>8.3014</td>\n",
       "      <td>358500.0</td>\n",
       "      <td>NEAR BAY</td>\n",
       "      <td>512520563</td>\n",
       "    </tr>\n",
       "    <tr>\n",
       "      <th>2</th>\n",
       "      <td>-122.24</td>\n",
       "      <td>37.85</td>\n",
       "      <td>52.0</td>\n",
       "      <td>1467.0</td>\n",
       "      <td>190.0</td>\n",
       "      <td>496.0</td>\n",
       "      <td>177.0</td>\n",
       "      <td>7.2574</td>\n",
       "      <td>352100.0</td>\n",
       "      <td>NEAR BAY</td>\n",
       "      <td>512584600</td>\n",
       "    </tr>\n",
       "    <tr>\n",
       "      <th>3</th>\n",
       "      <td>-122.25</td>\n",
       "      <td>37.85</td>\n",
       "      <td>52.0</td>\n",
       "      <td>1274.0</td>\n",
       "      <td>235.0</td>\n",
       "      <td>558.0</td>\n",
       "      <td>219.0</td>\n",
       "      <td>5.6431</td>\n",
       "      <td>341300.0</td>\n",
       "      <td>NEAR BAY</td>\n",
       "      <td>512648639</td>\n",
       "    </tr>\n",
       "    <tr>\n",
       "      <th>4</th>\n",
       "      <td>-122.25</td>\n",
       "      <td>37.85</td>\n",
       "      <td>52.0</td>\n",
       "      <td>1627.0</td>\n",
       "      <td>280.0</td>\n",
       "      <td>565.0</td>\n",
       "      <td>259.0</td>\n",
       "      <td>3.8462</td>\n",
       "      <td>342200.0</td>\n",
       "      <td>NEAR BAY</td>\n",
       "      <td>512648639</td>\n",
       "    </tr>\n",
       "    <tr>\n",
       "      <th>...</th>\n",
       "      <td>...</td>\n",
       "      <td>...</td>\n",
       "      <td>...</td>\n",
       "      <td>...</td>\n",
       "      <td>...</td>\n",
       "      <td>...</td>\n",
       "      <td>...</td>\n",
       "      <td>...</td>\n",
       "      <td>...</td>\n",
       "      <td>...</td>\n",
       "      <td>...</td>\n",
       "    </tr>\n",
       "    <tr>\n",
       "      <th>20635</th>\n",
       "      <td>-121.09</td>\n",
       "      <td>39.48</td>\n",
       "      <td>25.0</td>\n",
       "      <td>1665.0</td>\n",
       "      <td>374.0</td>\n",
       "      <td>845.0</td>\n",
       "      <td>330.0</td>\n",
       "      <td>1.5603</td>\n",
       "      <td>78100.0</td>\n",
       "      <td>INLAND</td>\n",
       "      <td>515598433</td>\n",
       "    </tr>\n",
       "    <tr>\n",
       "      <th>20636</th>\n",
       "      <td>-121.21</td>\n",
       "      <td>39.49</td>\n",
       "      <td>18.0</td>\n",
       "      <td>697.0</td>\n",
       "      <td>150.0</td>\n",
       "      <td>356.0</td>\n",
       "      <td>114.0</td>\n",
       "      <td>2.5568</td>\n",
       "      <td>77100.0</td>\n",
       "      <td>INLAND</td>\n",
       "      <td>516497971</td>\n",
       "    </tr>\n",
       "    <tr>\n",
       "      <th>20637</th>\n",
       "      <td>-121.22</td>\n",
       "      <td>39.43</td>\n",
       "      <td>17.0</td>\n",
       "      <td>2254.0</td>\n",
       "      <td>485.0</td>\n",
       "      <td>1007.0</td>\n",
       "      <td>433.0</td>\n",
       "      <td>1.7000</td>\n",
       "      <td>92300.0</td>\n",
       "      <td>INLAND</td>\n",
       "      <td>516176628</td>\n",
       "    </tr>\n",
       "    <tr>\n",
       "      <th>20638</th>\n",
       "      <td>-121.32</td>\n",
       "      <td>39.43</td>\n",
       "      <td>18.0</td>\n",
       "      <td>1860.0</td>\n",
       "      <td>409.0</td>\n",
       "      <td>741.0</td>\n",
       "      <td>349.0</td>\n",
       "      <td>1.8672</td>\n",
       "      <td>84700.0</td>\n",
       "      <td>INLAND</td>\n",
       "      <td>516819438</td>\n",
       "    </tr>\n",
       "    <tr>\n",
       "      <th>20639</th>\n",
       "      <td>-121.24</td>\n",
       "      <td>39.37</td>\n",
       "      <td>16.0</td>\n",
       "      <td>2785.0</td>\n",
       "      <td>616.0</td>\n",
       "      <td>1387.0</td>\n",
       "      <td>530.0</td>\n",
       "      <td>2.3886</td>\n",
       "      <td>89400.0</td>\n",
       "      <td>INLAND</td>\n",
       "      <td>515855387</td>\n",
       "    </tr>\n",
       "  </tbody>\n",
       "</table>\n",
       "<p>20640 rows × 11 columns</p>\n",
       "</div>"
      ],
      "text/plain": [
       "       longitude  latitude  housing_median_age  total_rooms  total_bedrooms  \\\n",
       "0        -122.23     37.88                41.0        880.0           129.0   \n",
       "1        -122.22     37.86                21.0       7099.0          1106.0   \n",
       "2        -122.24     37.85                52.0       1467.0           190.0   \n",
       "3        -122.25     37.85                52.0       1274.0           235.0   \n",
       "4        -122.25     37.85                52.0       1627.0           280.0   \n",
       "...          ...       ...                 ...          ...             ...   \n",
       "20635    -121.09     39.48                25.0       1665.0           374.0   \n",
       "20636    -121.21     39.49                18.0        697.0           150.0   \n",
       "20637    -121.22     39.43                17.0       2254.0           485.0   \n",
       "20638    -121.32     39.43                18.0       1860.0           409.0   \n",
       "20639    -121.24     39.37                16.0       2785.0           616.0   \n",
       "\n",
       "       population  households  median_income  median_house_value  \\\n",
       "0           322.0       126.0         8.3252            452600.0   \n",
       "1          2401.0      1138.0         8.3014            358500.0   \n",
       "2           496.0       177.0         7.2574            352100.0   \n",
       "3           558.0       219.0         5.6431            341300.0   \n",
       "4           565.0       259.0         3.8462            342200.0   \n",
       "...           ...         ...            ...                 ...   \n",
       "20635       845.0       330.0         1.5603             78100.0   \n",
       "20636       356.0       114.0         2.5568             77100.0   \n",
       "20637      1007.0       433.0         1.7000             92300.0   \n",
       "20638       741.0       349.0         1.8672             84700.0   \n",
       "20639      1387.0       530.0         2.3886             89400.0   \n",
       "\n",
       "      ocean_proximity         id  \n",
       "0            NEAR BAY  512712676  \n",
       "1            NEAR BAY  512520563  \n",
       "2            NEAR BAY  512584600  \n",
       "3            NEAR BAY  512648639  \n",
       "4            NEAR BAY  512648639  \n",
       "...               ...        ...  \n",
       "20635          INLAND  515598433  \n",
       "20636          INLAND  516497971  \n",
       "20637          INLAND  516176628  \n",
       "20638          INLAND  516819438  \n",
       "20639          INLAND  515855387  \n",
       "\n",
       "[20640 rows x 11 columns]"
      ]
     },
     "execution_count": 60,
     "metadata": {},
     "output_type": "execute_result"
    }
   ],
   "source": [
    "housing"
   ]
  },
  {
   "cell_type": "code",
   "execution_count": 61,
   "metadata": {},
   "outputs": [
    {
     "data": {
      "text/html": [
       "<div>\n",
       "<style scoped>\n",
       "    .dataframe tbody tr th:only-of-type {\n",
       "        vertical-align: middle;\n",
       "    }\n",
       "\n",
       "    .dataframe tbody tr th {\n",
       "        vertical-align: top;\n",
       "    }\n",
       "\n",
       "    .dataframe thead th {\n",
       "        text-align: right;\n",
       "    }\n",
       "</style>\n",
       "<table border=\"1\" class=\"dataframe\">\n",
       "  <thead>\n",
       "    <tr style=\"text-align: right;\">\n",
       "      <th></th>\n",
       "      <th>index</th>\n",
       "      <th>longitude</th>\n",
       "      <th>latitude</th>\n",
       "      <th>housing_median_age</th>\n",
       "      <th>total_rooms</th>\n",
       "      <th>total_bedrooms</th>\n",
       "      <th>population</th>\n",
       "      <th>households</th>\n",
       "      <th>median_income</th>\n",
       "      <th>median_house_value</th>\n",
       "      <th>ocean_proximity</th>\n",
       "      <th>id</th>\n",
       "    </tr>\n",
       "  </thead>\n",
       "  <tbody>\n",
       "    <tr>\n",
       "      <th>0</th>\n",
       "      <td>0</td>\n",
       "      <td>-122.23</td>\n",
       "      <td>37.88</td>\n",
       "      <td>41.0</td>\n",
       "      <td>880.0</td>\n",
       "      <td>129.0</td>\n",
       "      <td>322.0</td>\n",
       "      <td>126.0</td>\n",
       "      <td>8.3252</td>\n",
       "      <td>452600.0</td>\n",
       "      <td>NEAR BAY</td>\n",
       "      <td>512712676</td>\n",
       "    </tr>\n",
       "    <tr>\n",
       "      <th>1</th>\n",
       "      <td>1</td>\n",
       "      <td>-122.22</td>\n",
       "      <td>37.86</td>\n",
       "      <td>21.0</td>\n",
       "      <td>7099.0</td>\n",
       "      <td>1106.0</td>\n",
       "      <td>2401.0</td>\n",
       "      <td>1138.0</td>\n",
       "      <td>8.3014</td>\n",
       "      <td>358500.0</td>\n",
       "      <td>NEAR BAY</td>\n",
       "      <td>512520563</td>\n",
       "    </tr>\n",
       "    <tr>\n",
       "      <th>2</th>\n",
       "      <td>2</td>\n",
       "      <td>-122.24</td>\n",
       "      <td>37.85</td>\n",
       "      <td>52.0</td>\n",
       "      <td>1467.0</td>\n",
       "      <td>190.0</td>\n",
       "      <td>496.0</td>\n",
       "      <td>177.0</td>\n",
       "      <td>7.2574</td>\n",
       "      <td>352100.0</td>\n",
       "      <td>NEAR BAY</td>\n",
       "      <td>512584600</td>\n",
       "    </tr>\n",
       "    <tr>\n",
       "      <th>3</th>\n",
       "      <td>3</td>\n",
       "      <td>-122.25</td>\n",
       "      <td>37.85</td>\n",
       "      <td>52.0</td>\n",
       "      <td>1274.0</td>\n",
       "      <td>235.0</td>\n",
       "      <td>558.0</td>\n",
       "      <td>219.0</td>\n",
       "      <td>5.6431</td>\n",
       "      <td>341300.0</td>\n",
       "      <td>NEAR BAY</td>\n",
       "      <td>512648639</td>\n",
       "    </tr>\n",
       "    <tr>\n",
       "      <th>4</th>\n",
       "      <td>4</td>\n",
       "      <td>-122.25</td>\n",
       "      <td>37.85</td>\n",
       "      <td>52.0</td>\n",
       "      <td>1627.0</td>\n",
       "      <td>280.0</td>\n",
       "      <td>565.0</td>\n",
       "      <td>259.0</td>\n",
       "      <td>3.8462</td>\n",
       "      <td>342200.0</td>\n",
       "      <td>NEAR BAY</td>\n",
       "      <td>512648639</td>\n",
       "    </tr>\n",
       "    <tr>\n",
       "      <th>...</th>\n",
       "      <td>...</td>\n",
       "      <td>...</td>\n",
       "      <td>...</td>\n",
       "      <td>...</td>\n",
       "      <td>...</td>\n",
       "      <td>...</td>\n",
       "      <td>...</td>\n",
       "      <td>...</td>\n",
       "      <td>...</td>\n",
       "      <td>...</td>\n",
       "      <td>...</td>\n",
       "      <td>...</td>\n",
       "    </tr>\n",
       "    <tr>\n",
       "      <th>20635</th>\n",
       "      <td>20635</td>\n",
       "      <td>-121.09</td>\n",
       "      <td>39.48</td>\n",
       "      <td>25.0</td>\n",
       "      <td>1665.0</td>\n",
       "      <td>374.0</td>\n",
       "      <td>845.0</td>\n",
       "      <td>330.0</td>\n",
       "      <td>1.5603</td>\n",
       "      <td>78100.0</td>\n",
       "      <td>INLAND</td>\n",
       "      <td>515598433</td>\n",
       "    </tr>\n",
       "    <tr>\n",
       "      <th>20636</th>\n",
       "      <td>20636</td>\n",
       "      <td>-121.21</td>\n",
       "      <td>39.49</td>\n",
       "      <td>18.0</td>\n",
       "      <td>697.0</td>\n",
       "      <td>150.0</td>\n",
       "      <td>356.0</td>\n",
       "      <td>114.0</td>\n",
       "      <td>2.5568</td>\n",
       "      <td>77100.0</td>\n",
       "      <td>INLAND</td>\n",
       "      <td>516497971</td>\n",
       "    </tr>\n",
       "    <tr>\n",
       "      <th>20637</th>\n",
       "      <td>20637</td>\n",
       "      <td>-121.22</td>\n",
       "      <td>39.43</td>\n",
       "      <td>17.0</td>\n",
       "      <td>2254.0</td>\n",
       "      <td>485.0</td>\n",
       "      <td>1007.0</td>\n",
       "      <td>433.0</td>\n",
       "      <td>1.7000</td>\n",
       "      <td>92300.0</td>\n",
       "      <td>INLAND</td>\n",
       "      <td>516176628</td>\n",
       "    </tr>\n",
       "    <tr>\n",
       "      <th>20638</th>\n",
       "      <td>20638</td>\n",
       "      <td>-121.32</td>\n",
       "      <td>39.43</td>\n",
       "      <td>18.0</td>\n",
       "      <td>1860.0</td>\n",
       "      <td>409.0</td>\n",
       "      <td>741.0</td>\n",
       "      <td>349.0</td>\n",
       "      <td>1.8672</td>\n",
       "      <td>84700.0</td>\n",
       "      <td>INLAND</td>\n",
       "      <td>516819438</td>\n",
       "    </tr>\n",
       "    <tr>\n",
       "      <th>20639</th>\n",
       "      <td>20639</td>\n",
       "      <td>-121.24</td>\n",
       "      <td>39.37</td>\n",
       "      <td>16.0</td>\n",
       "      <td>2785.0</td>\n",
       "      <td>616.0</td>\n",
       "      <td>1387.0</td>\n",
       "      <td>530.0</td>\n",
       "      <td>2.3886</td>\n",
       "      <td>89400.0</td>\n",
       "      <td>INLAND</td>\n",
       "      <td>515855387</td>\n",
       "    </tr>\n",
       "  </tbody>\n",
       "</table>\n",
       "<p>20640 rows × 12 columns</p>\n",
       "</div>"
      ],
      "text/plain": [
       "       index  longitude  latitude  housing_median_age  total_rooms  \\\n",
       "0          0    -122.23     37.88                41.0        880.0   \n",
       "1          1    -122.22     37.86                21.0       7099.0   \n",
       "2          2    -122.24     37.85                52.0       1467.0   \n",
       "3          3    -122.25     37.85                52.0       1274.0   \n",
       "4          4    -122.25     37.85                52.0       1627.0   \n",
       "...      ...        ...       ...                 ...          ...   \n",
       "20635  20635    -121.09     39.48                25.0       1665.0   \n",
       "20636  20636    -121.21     39.49                18.0        697.0   \n",
       "20637  20637    -121.22     39.43                17.0       2254.0   \n",
       "20638  20638    -121.32     39.43                18.0       1860.0   \n",
       "20639  20639    -121.24     39.37                16.0       2785.0   \n",
       "\n",
       "       total_bedrooms  population  households  median_income  \\\n",
       "0               129.0       322.0       126.0         8.3252   \n",
       "1              1106.0      2401.0      1138.0         8.3014   \n",
       "2               190.0       496.0       177.0         7.2574   \n",
       "3               235.0       558.0       219.0         5.6431   \n",
       "4               280.0       565.0       259.0         3.8462   \n",
       "...               ...         ...         ...            ...   \n",
       "20635           374.0       845.0       330.0         1.5603   \n",
       "20636           150.0       356.0       114.0         2.5568   \n",
       "20637           485.0      1007.0       433.0         1.7000   \n",
       "20638           409.0       741.0       349.0         1.8672   \n",
       "20639           616.0      1387.0       530.0         2.3886   \n",
       "\n",
       "       median_house_value ocean_proximity         id  \n",
       "0                452600.0        NEAR BAY  512712676  \n",
       "1                358500.0        NEAR BAY  512520563  \n",
       "2                352100.0        NEAR BAY  512584600  \n",
       "3                341300.0        NEAR BAY  512648639  \n",
       "4                342200.0        NEAR BAY  512648639  \n",
       "...                   ...             ...        ...  \n",
       "20635             78100.0          INLAND  515598433  \n",
       "20636             77100.0          INLAND  516497971  \n",
       "20637             92300.0          INLAND  516176628  \n",
       "20638             84700.0          INLAND  516819438  \n",
       "20639             89400.0          INLAND  515855387  \n",
       "\n",
       "[20640 rows x 12 columns]"
      ]
     },
     "execution_count": 61,
     "metadata": {},
     "output_type": "execute_result"
    }
   ],
   "source": [
    "housing_with_id= housing.reset_index()\n",
    "housing_with_id"
   ]
  },
  {
   "cell_type": "markdown",
   "metadata": {
    "id": "M07UoHcIjZEJ"
   },
   "source": [
    "It's time to revert back to the book:"
   ]
  },
  {
   "cell_type": "code",
   "execution_count": 62,
   "metadata": {
    "executionInfo": {
     "elapsed": 509,
     "status": "ok",
     "timestamp": 1702974180831,
     "user": {
      "displayName": "Prabir Mondal",
      "userId": "02617277053786140042"
     },
     "user_tz": -330
    },
    "id": "GxKLLIHbjZEJ"
   },
   "outputs": [],
   "source": [
    "del(housing['id'])"
   ]
  },
  {
   "cell_type": "code",
   "execution_count": 31,
   "metadata": {},
   "outputs": [
    {
     "data": {
      "text/html": [
       "<div>\n",
       "<style scoped>\n",
       "    .dataframe tbody tr th:only-of-type {\n",
       "        vertical-align: middle;\n",
       "    }\n",
       "\n",
       "    .dataframe tbody tr th {\n",
       "        vertical-align: top;\n",
       "    }\n",
       "\n",
       "    .dataframe thead th {\n",
       "        text-align: right;\n",
       "    }\n",
       "</style>\n",
       "<table border=\"1\" class=\"dataframe\">\n",
       "  <thead>\n",
       "    <tr style=\"text-align: right;\">\n",
       "      <th></th>\n",
       "      <th>longitude</th>\n",
       "      <th>latitude</th>\n",
       "      <th>housing_median_age</th>\n",
       "      <th>total_rooms</th>\n",
       "      <th>total_bedrooms</th>\n",
       "      <th>population</th>\n",
       "      <th>households</th>\n",
       "      <th>median_income</th>\n",
       "      <th>median_house_value</th>\n",
       "      <th>ocean_proximity</th>\n",
       "    </tr>\n",
       "  </thead>\n",
       "  <tbody>\n",
       "    <tr>\n",
       "      <th>0</th>\n",
       "      <td>-122.23</td>\n",
       "      <td>37.88</td>\n",
       "      <td>41.0</td>\n",
       "      <td>880.0</td>\n",
       "      <td>129.0</td>\n",
       "      <td>322.0</td>\n",
       "      <td>126.0</td>\n",
       "      <td>8.3252</td>\n",
       "      <td>452600.0</td>\n",
       "      <td>NEAR BAY</td>\n",
       "    </tr>\n",
       "    <tr>\n",
       "      <th>1</th>\n",
       "      <td>-122.22</td>\n",
       "      <td>37.86</td>\n",
       "      <td>21.0</td>\n",
       "      <td>7099.0</td>\n",
       "      <td>1106.0</td>\n",
       "      <td>2401.0</td>\n",
       "      <td>1138.0</td>\n",
       "      <td>8.3014</td>\n",
       "      <td>358500.0</td>\n",
       "      <td>NEAR BAY</td>\n",
       "    </tr>\n",
       "    <tr>\n",
       "      <th>2</th>\n",
       "      <td>-122.24</td>\n",
       "      <td>37.85</td>\n",
       "      <td>52.0</td>\n",
       "      <td>1467.0</td>\n",
       "      <td>190.0</td>\n",
       "      <td>496.0</td>\n",
       "      <td>177.0</td>\n",
       "      <td>7.2574</td>\n",
       "      <td>352100.0</td>\n",
       "      <td>NEAR BAY</td>\n",
       "    </tr>\n",
       "    <tr>\n",
       "      <th>3</th>\n",
       "      <td>-122.25</td>\n",
       "      <td>37.85</td>\n",
       "      <td>52.0</td>\n",
       "      <td>1274.0</td>\n",
       "      <td>235.0</td>\n",
       "      <td>558.0</td>\n",
       "      <td>219.0</td>\n",
       "      <td>5.6431</td>\n",
       "      <td>341300.0</td>\n",
       "      <td>NEAR BAY</td>\n",
       "    </tr>\n",
       "    <tr>\n",
       "      <th>4</th>\n",
       "      <td>-122.25</td>\n",
       "      <td>37.85</td>\n",
       "      <td>52.0</td>\n",
       "      <td>1627.0</td>\n",
       "      <td>280.0</td>\n",
       "      <td>565.0</td>\n",
       "      <td>259.0</td>\n",
       "      <td>3.8462</td>\n",
       "      <td>342200.0</td>\n",
       "      <td>NEAR BAY</td>\n",
       "    </tr>\n",
       "    <tr>\n",
       "      <th>...</th>\n",
       "      <td>...</td>\n",
       "      <td>...</td>\n",
       "      <td>...</td>\n",
       "      <td>...</td>\n",
       "      <td>...</td>\n",
       "      <td>...</td>\n",
       "      <td>...</td>\n",
       "      <td>...</td>\n",
       "      <td>...</td>\n",
       "      <td>...</td>\n",
       "    </tr>\n",
       "    <tr>\n",
       "      <th>20635</th>\n",
       "      <td>-121.09</td>\n",
       "      <td>39.48</td>\n",
       "      <td>25.0</td>\n",
       "      <td>1665.0</td>\n",
       "      <td>374.0</td>\n",
       "      <td>845.0</td>\n",
       "      <td>330.0</td>\n",
       "      <td>1.5603</td>\n",
       "      <td>78100.0</td>\n",
       "      <td>INLAND</td>\n",
       "    </tr>\n",
       "    <tr>\n",
       "      <th>20636</th>\n",
       "      <td>-121.21</td>\n",
       "      <td>39.49</td>\n",
       "      <td>18.0</td>\n",
       "      <td>697.0</td>\n",
       "      <td>150.0</td>\n",
       "      <td>356.0</td>\n",
       "      <td>114.0</td>\n",
       "      <td>2.5568</td>\n",
       "      <td>77100.0</td>\n",
       "      <td>INLAND</td>\n",
       "    </tr>\n",
       "    <tr>\n",
       "      <th>20637</th>\n",
       "      <td>-121.22</td>\n",
       "      <td>39.43</td>\n",
       "      <td>17.0</td>\n",
       "      <td>2254.0</td>\n",
       "      <td>485.0</td>\n",
       "      <td>1007.0</td>\n",
       "      <td>433.0</td>\n",
       "      <td>1.7000</td>\n",
       "      <td>92300.0</td>\n",
       "      <td>INLAND</td>\n",
       "    </tr>\n",
       "    <tr>\n",
       "      <th>20638</th>\n",
       "      <td>-121.32</td>\n",
       "      <td>39.43</td>\n",
       "      <td>18.0</td>\n",
       "      <td>1860.0</td>\n",
       "      <td>409.0</td>\n",
       "      <td>741.0</td>\n",
       "      <td>349.0</td>\n",
       "      <td>1.8672</td>\n",
       "      <td>84700.0</td>\n",
       "      <td>INLAND</td>\n",
       "    </tr>\n",
       "    <tr>\n",
       "      <th>20639</th>\n",
       "      <td>-121.24</td>\n",
       "      <td>39.37</td>\n",
       "      <td>16.0</td>\n",
       "      <td>2785.0</td>\n",
       "      <td>616.0</td>\n",
       "      <td>1387.0</td>\n",
       "      <td>530.0</td>\n",
       "      <td>2.3886</td>\n",
       "      <td>89400.0</td>\n",
       "      <td>INLAND</td>\n",
       "    </tr>\n",
       "  </tbody>\n",
       "</table>\n",
       "<p>20640 rows × 10 columns</p>\n",
       "</div>"
      ],
      "text/plain": [
       "       longitude  latitude  housing_median_age  total_rooms  total_bedrooms  \\\n",
       "0        -122.23     37.88                41.0        880.0           129.0   \n",
       "1        -122.22     37.86                21.0       7099.0          1106.0   \n",
       "2        -122.24     37.85                52.0       1467.0           190.0   \n",
       "3        -122.25     37.85                52.0       1274.0           235.0   \n",
       "4        -122.25     37.85                52.0       1627.0           280.0   \n",
       "...          ...       ...                 ...          ...             ...   \n",
       "20635    -121.09     39.48                25.0       1665.0           374.0   \n",
       "20636    -121.21     39.49                18.0        697.0           150.0   \n",
       "20637    -121.22     39.43                17.0       2254.0           485.0   \n",
       "20638    -121.32     39.43                18.0       1860.0           409.0   \n",
       "20639    -121.24     39.37                16.0       2785.0           616.0   \n",
       "\n",
       "       population  households  median_income  median_house_value  \\\n",
       "0           322.0       126.0         8.3252            452600.0   \n",
       "1          2401.0      1138.0         8.3014            358500.0   \n",
       "2           496.0       177.0         7.2574            352100.0   \n",
       "3           558.0       219.0         5.6431            341300.0   \n",
       "4           565.0       259.0         3.8462            342200.0   \n",
       "...           ...         ...            ...                 ...   \n",
       "20635       845.0       330.0         1.5603             78100.0   \n",
       "20636       356.0       114.0         2.5568             77100.0   \n",
       "20637      1007.0       433.0         1.7000             92300.0   \n",
       "20638       741.0       349.0         1.8672             84700.0   \n",
       "20639      1387.0       530.0         2.3886             89400.0   \n",
       "\n",
       "      ocean_proximity  \n",
       "0            NEAR BAY  \n",
       "1            NEAR BAY  \n",
       "2            NEAR BAY  \n",
       "3            NEAR BAY  \n",
       "4            NEAR BAY  \n",
       "...               ...  \n",
       "20635          INLAND  \n",
       "20636          INLAND  \n",
       "20637          INLAND  \n",
       "20638          INLAND  \n",
       "20639          INLAND  \n",
       "\n",
       "[20640 rows x 10 columns]"
      ]
     },
     "execution_count": 31,
     "metadata": {},
     "output_type": "execute_result"
    }
   ],
   "source": [
    "housing"
   ]
  },
  {
   "cell_type": "code",
   "execution_count": 47,
   "metadata": {},
   "outputs": [
    {
     "data": {
      "text/html": [
       "<div>\n",
       "<style scoped>\n",
       "    .dataframe tbody tr th:only-of-type {\n",
       "        vertical-align: middle;\n",
       "    }\n",
       "\n",
       "    .dataframe tbody tr th {\n",
       "        vertical-align: top;\n",
       "    }\n",
       "\n",
       "    .dataframe thead th {\n",
       "        text-align: right;\n",
       "    }\n",
       "</style>\n",
       "<table border=\"1\" class=\"dataframe\">\n",
       "  <thead>\n",
       "    <tr style=\"text-align: right;\">\n",
       "      <th></th>\n",
       "      <th>index</th>\n",
       "      <th>longitude</th>\n",
       "      <th>latitude</th>\n",
       "      <th>housing_median_age</th>\n",
       "      <th>total_rooms</th>\n",
       "      <th>total_bedrooms</th>\n",
       "      <th>population</th>\n",
       "      <th>households</th>\n",
       "      <th>median_income</th>\n",
       "      <th>median_house_value</th>\n",
       "      <th>ocean_proximity</th>\n",
       "      <th>id</th>\n",
       "    </tr>\n",
       "  </thead>\n",
       "  <tbody>\n",
       "    <tr>\n",
       "      <th>0</th>\n",
       "      <td>0</td>\n",
       "      <td>-122.23</td>\n",
       "      <td>37.88</td>\n",
       "      <td>41.0</td>\n",
       "      <td>880.0</td>\n",
       "      <td>129.0</td>\n",
       "      <td>322.0</td>\n",
       "      <td>126.0</td>\n",
       "      <td>8.3252</td>\n",
       "      <td>452600.0</td>\n",
       "      <td>NEAR BAY</td>\n",
       "      <td>-122192.12</td>\n",
       "    </tr>\n",
       "    <tr>\n",
       "      <th>1</th>\n",
       "      <td>1</td>\n",
       "      <td>-122.22</td>\n",
       "      <td>37.86</td>\n",
       "      <td>21.0</td>\n",
       "      <td>7099.0</td>\n",
       "      <td>1106.0</td>\n",
       "      <td>2401.0</td>\n",
       "      <td>1138.0</td>\n",
       "      <td>8.3014</td>\n",
       "      <td>358500.0</td>\n",
       "      <td>NEAR BAY</td>\n",
       "      <td>-122182.14</td>\n",
       "    </tr>\n",
       "    <tr>\n",
       "      <th>2</th>\n",
       "      <td>2</td>\n",
       "      <td>-122.24</td>\n",
       "      <td>37.85</td>\n",
       "      <td>52.0</td>\n",
       "      <td>1467.0</td>\n",
       "      <td>190.0</td>\n",
       "      <td>496.0</td>\n",
       "      <td>177.0</td>\n",
       "      <td>7.2574</td>\n",
       "      <td>352100.0</td>\n",
       "      <td>NEAR BAY</td>\n",
       "      <td>-122202.15</td>\n",
       "    </tr>\n",
       "    <tr>\n",
       "      <th>3</th>\n",
       "      <td>3</td>\n",
       "      <td>-122.25</td>\n",
       "      <td>37.85</td>\n",
       "      <td>52.0</td>\n",
       "      <td>1274.0</td>\n",
       "      <td>235.0</td>\n",
       "      <td>558.0</td>\n",
       "      <td>219.0</td>\n",
       "      <td>5.6431</td>\n",
       "      <td>341300.0</td>\n",
       "      <td>NEAR BAY</td>\n",
       "      <td>-122212.15</td>\n",
       "    </tr>\n",
       "    <tr>\n",
       "      <th>4</th>\n",
       "      <td>4</td>\n",
       "      <td>-122.25</td>\n",
       "      <td>37.85</td>\n",
       "      <td>52.0</td>\n",
       "      <td>1627.0</td>\n",
       "      <td>280.0</td>\n",
       "      <td>565.0</td>\n",
       "      <td>259.0</td>\n",
       "      <td>3.8462</td>\n",
       "      <td>342200.0</td>\n",
       "      <td>NEAR BAY</td>\n",
       "      <td>-122212.15</td>\n",
       "    </tr>\n",
       "    <tr>\n",
       "      <th>...</th>\n",
       "      <td>...</td>\n",
       "      <td>...</td>\n",
       "      <td>...</td>\n",
       "      <td>...</td>\n",
       "      <td>...</td>\n",
       "      <td>...</td>\n",
       "      <td>...</td>\n",
       "      <td>...</td>\n",
       "      <td>...</td>\n",
       "      <td>...</td>\n",
       "      <td>...</td>\n",
       "      <td>...</td>\n",
       "    </tr>\n",
       "    <tr>\n",
       "      <th>20635</th>\n",
       "      <td>20635</td>\n",
       "      <td>-121.09</td>\n",
       "      <td>39.48</td>\n",
       "      <td>25.0</td>\n",
       "      <td>1665.0</td>\n",
       "      <td>374.0</td>\n",
       "      <td>845.0</td>\n",
       "      <td>330.0</td>\n",
       "      <td>1.5603</td>\n",
       "      <td>78100.0</td>\n",
       "      <td>INLAND</td>\n",
       "      <td>-121050.52</td>\n",
       "    </tr>\n",
       "    <tr>\n",
       "      <th>20636</th>\n",
       "      <td>20636</td>\n",
       "      <td>-121.21</td>\n",
       "      <td>39.49</td>\n",
       "      <td>18.0</td>\n",
       "      <td>697.0</td>\n",
       "      <td>150.0</td>\n",
       "      <td>356.0</td>\n",
       "      <td>114.0</td>\n",
       "      <td>2.5568</td>\n",
       "      <td>77100.0</td>\n",
       "      <td>INLAND</td>\n",
       "      <td>-121170.51</td>\n",
       "    </tr>\n",
       "    <tr>\n",
       "      <th>20637</th>\n",
       "      <td>20637</td>\n",
       "      <td>-121.22</td>\n",
       "      <td>39.43</td>\n",
       "      <td>17.0</td>\n",
       "      <td>2254.0</td>\n",
       "      <td>485.0</td>\n",
       "      <td>1007.0</td>\n",
       "      <td>433.0</td>\n",
       "      <td>1.7000</td>\n",
       "      <td>92300.0</td>\n",
       "      <td>INLAND</td>\n",
       "      <td>-121180.57</td>\n",
       "    </tr>\n",
       "    <tr>\n",
       "      <th>20638</th>\n",
       "      <td>20638</td>\n",
       "      <td>-121.32</td>\n",
       "      <td>39.43</td>\n",
       "      <td>18.0</td>\n",
       "      <td>1860.0</td>\n",
       "      <td>409.0</td>\n",
       "      <td>741.0</td>\n",
       "      <td>349.0</td>\n",
       "      <td>1.8672</td>\n",
       "      <td>84700.0</td>\n",
       "      <td>INLAND</td>\n",
       "      <td>-121280.57</td>\n",
       "    </tr>\n",
       "    <tr>\n",
       "      <th>20639</th>\n",
       "      <td>20639</td>\n",
       "      <td>-121.24</td>\n",
       "      <td>39.37</td>\n",
       "      <td>16.0</td>\n",
       "      <td>2785.0</td>\n",
       "      <td>616.0</td>\n",
       "      <td>1387.0</td>\n",
       "      <td>530.0</td>\n",
       "      <td>2.3886</td>\n",
       "      <td>89400.0</td>\n",
       "      <td>INLAND</td>\n",
       "      <td>-121200.63</td>\n",
       "    </tr>\n",
       "  </tbody>\n",
       "</table>\n",
       "<p>20640 rows × 12 columns</p>\n",
       "</div>"
      ],
      "text/plain": [
       "       index  longitude  latitude  housing_median_age  total_rooms  \\\n",
       "0          0    -122.23     37.88                41.0        880.0   \n",
       "1          1    -122.22     37.86                21.0       7099.0   \n",
       "2          2    -122.24     37.85                52.0       1467.0   \n",
       "3          3    -122.25     37.85                52.0       1274.0   \n",
       "4          4    -122.25     37.85                52.0       1627.0   \n",
       "...      ...        ...       ...                 ...          ...   \n",
       "20635  20635    -121.09     39.48                25.0       1665.0   \n",
       "20636  20636    -121.21     39.49                18.0        697.0   \n",
       "20637  20637    -121.22     39.43                17.0       2254.0   \n",
       "20638  20638    -121.32     39.43                18.0       1860.0   \n",
       "20639  20639    -121.24     39.37                16.0       2785.0   \n",
       "\n",
       "       total_bedrooms  population  households  median_income  \\\n",
       "0               129.0       322.0       126.0         8.3252   \n",
       "1              1106.0      2401.0      1138.0         8.3014   \n",
       "2               190.0       496.0       177.0         7.2574   \n",
       "3               235.0       558.0       219.0         5.6431   \n",
       "4               280.0       565.0       259.0         3.8462   \n",
       "...               ...         ...         ...            ...   \n",
       "20635           374.0       845.0       330.0         1.5603   \n",
       "20636           150.0       356.0       114.0         2.5568   \n",
       "20637           485.0      1007.0       433.0         1.7000   \n",
       "20638           409.0       741.0       349.0         1.8672   \n",
       "20639           616.0      1387.0       530.0         2.3886   \n",
       "\n",
       "       median_house_value ocean_proximity         id  \n",
       "0                452600.0        NEAR BAY -122192.12  \n",
       "1                358500.0        NEAR BAY -122182.14  \n",
       "2                352100.0        NEAR BAY -122202.15  \n",
       "3                341300.0        NEAR BAY -122212.15  \n",
       "4                342200.0        NEAR BAY -122212.15  \n",
       "...                   ...             ...        ...  \n",
       "20635             78100.0          INLAND -121050.52  \n",
       "20636             77100.0          INLAND -121170.51  \n",
       "20637             92300.0          INLAND -121180.57  \n",
       "20638             84700.0          INLAND -121280.57  \n",
       "20639             89400.0          INLAND -121200.63  \n",
       "\n",
       "[20640 rows x 12 columns]"
      ]
     },
     "execution_count": 47,
     "metadata": {},
     "output_type": "execute_result"
    }
   ],
   "source": [
    "housing_with_id[\"id\"] = housing[\"longitude\"] * 1000 + housing[\"latitude\"]\n",
    "housing_with_id"
   ]
  },
  {
   "cell_type": "code",
   "execution_count": 43,
   "metadata": {
    "colab": {
     "base_uri": "https://localhost:8080/"
    },
    "executionInfo": {
     "elapsed": 521,
     "status": "ok",
     "timestamp": 1702974186878,
     "user": {
      "displayName": "Prabir Mondal",
      "userId": "02617277053786140042"
     },
     "user_tz": -330
    },
    "id": "jb4wU6HNjZEJ",
    "outputId": "efbc58db-7e87-4060-a3fb-f9e18a31b07b"
   },
   "outputs": [],
   "source": [
    "# train_set, test_set = split_train_test_by_id(data=housing_with_id, test_ratio=0.2, id_column='id')\n",
    "# train_set.shape, test_set.shape"
   ]
  },
  {
   "cell_type": "code",
   "execution_count": 45,
   "metadata": {
    "colab": {
     "base_uri": "https://localhost:8080/",
     "height": 424
    },
    "executionInfo": {
     "elapsed": 531,
     "status": "ok",
     "timestamp": 1702974189855,
     "user": {
      "displayName": "Prabir Mondal",
      "userId": "02617277053786140042"
     },
     "user_tz": -330
    },
    "id": "-T50O4hToIGr",
    "outputId": "d4789b47-72e8-46b3-e2a8-23ed9c206a3a"
   },
   "outputs": [],
   "source": [
    "# train_set"
   ]
  },
  {
   "cell_type": "markdown",
   "metadata": {
    "id": "70fG0z80jZEK"
   },
   "source": [
    "`scikit-learn` provides multiple functions to split datasets in various ways. The simplest function is `train_test_split()`\n",
    "\n",
    "Let's reproduce our implementation using sklearn's `train_test_split()`:"
   ]
  },
  {
   "cell_type": "code",
   "execution_count": 139,
   "metadata": {
    "executionInfo": {
     "elapsed": 663,
     "status": "ok",
     "timestamp": 1702974193988,
     "user": {
      "displayName": "Prabir Mondal",
      "userId": "02617277053786140042"
     },
     "user_tz": -330
    },
    "id": "hMzyAIp_jZEK"
   },
   "outputs": [],
   "source": [
    "from sklearn.model_selection import train_test_split"
   ]
  },
  {
   "cell_type": "code",
   "execution_count": 140,
   "metadata": {
    "colab": {
     "base_uri": "https://localhost:8080/"
    },
    "executionInfo": {
     "elapsed": 9,
     "status": "ok",
     "timestamp": 1702974194708,
     "user": {
      "displayName": "Prabir Mondal",
      "userId": "02617277053786140042"
     },
     "user_tz": -330
    },
    "id": "oiidM10JjZEK",
    "outputId": "721f44c1-eaee-4456-f20c-5872f0e1b708"
   },
   "outputs": [
    {
     "data": {
      "text/plain": [
       "((16512, 10), (4128, 10))"
      ]
     },
     "execution_count": 140,
     "metadata": {},
     "output_type": "execute_result"
    }
   ],
   "source": [
    "train_set, test_set = train_test_split(housing, test_size=0.2, random_state=42)\n",
    "train_set.shape, test_set.shape"
   ]
  },
  {
   "cell_type": "markdown",
   "metadata": {
    "id": "j_r1pL9HjZEK"
   },
   "source": [
    "So far, we have only considered purely random sampling methods. This is generally fine if our dataset is large enough. If it's not, however, we're running the chance of introducing a significant sampling bias.\n",
    "\n",
    "When a survey company plans to interview 1,000 people, they don't pick them at random from a phone book. They make sure the `1,000` selected people are representative of the whole target population. this is called **stratified sampling**.\n",
    "\n",
    "The population is divided into homogenuous subgroups called strata. Each stratum represents an instances percentage of the overall population. We want a test set to maintain the percentages of each stratum to make sure it's representative of the whole population. A purely random sampling method will introduce biases that are in favour of dominant groups/strata.\n",
    "\n",
    "Suppose we've chatted with experts who told us that the `median income` attribute is a very important feature to predict `median_house_value`. We may want to ensure that the test set is representative of the overall `median income` distribution, that may be divided into categories.\n",
    "\n",
    "Most median income values are clustered around $\\$15,000$ to $\\$60,000$ but some median incomes go far beyond $6K$\n",
    "\n",
    "It is important to have, for each stratum, a sufficient number of instances in your dataset. Or else, there might be a bias while assessing the stratum importance.\n",
    "\n",
    "Let's use `pd.cut` to create the strata:"
   ]
  },
  {
   "cell_type": "code",
   "execution_count": 142,
   "metadata": {
    "executionInfo": {
     "elapsed": 489,
     "status": "ok",
     "timestamp": 1702974199568,
     "user": {
      "displayName": "Prabir Mondal",
      "userId": "02617277053786140042"
     },
     "user_tz": -330
    },
    "id": "rhlyc4NljZEK"
   },
   "outputs": [],
   "source": [
    "housing['income_cat'] = pd.cut(x=housing['median_income'], bins=[0, 1.5, 3, 4.5, 6, np.inf], labels=[1, 2, 3, 4, 5])"
   ]
  },
  {
   "cell_type": "code",
   "execution_count": 143,
   "metadata": {
    "colab": {
     "base_uri": "https://localhost:8080/",
     "height": 447
    },
    "executionInfo": {
     "elapsed": 8,
     "status": "ok",
     "timestamp": 1702974202328,
     "user": {
      "displayName": "Prabir Mondal",
      "userId": "02617277053786140042"
     },
     "user_tz": -330
    },
    "id": "KEUTd1gmjZEL",
    "outputId": "c622d303-900d-41af-91bf-c4290c95d1bb"
   },
   "outputs": [
    {
     "data": {
      "text/plain": [
       "<AxesSubplot:>"
      ]
     },
     "execution_count": 143,
     "metadata": {},
     "output_type": "execute_result"
    },
    {
     "data": {
      "image/png": "[encoded data removed]",
      "text/plain": [
       "<Figure size 640x480 with 1 Axes>"
      ]
     },
     "metadata": {},
     "output_type": "display_data"
    }
   ],
   "source": [
    "# visualize the categories\n",
    "housing['income_cat'].hist()"
   ]
  },
  {
   "cell_type": "markdown",
   "metadata": {
    "id": "qnqwDP_-jZEL"
   },
   "source": [
    "Now we are ready to do stratified sampling based on income category:"
   ]
  },
  {
   "cell_type": "code",
   "execution_count": 144,
   "metadata": {
    "executionInfo": {
     "elapsed": 456,
     "status": "ok",
     "timestamp": 1702974205644,
     "user": {
      "displayName": "Prabir Mondal",
      "userId": "02617277053786140042"
     },
     "user_tz": -330
    },
    "id": "Z362OvkJjZEL"
   },
   "outputs": [],
   "source": [
    "from sklearn.model_selection import StratifiedShuffleSplit"
   ]
  },
  {
   "cell_type": "code",
   "execution_count": 145,
   "metadata": {
    "executionInfo": {
     "elapsed": 501,
     "status": "ok",
     "timestamp": 1702974207759,
     "user": {
      "displayName": "Prabir Mondal",
      "userId": "02617277053786140042"
     },
     "user_tz": -330
    },
    "id": "S-VdaQNwjZEL"
   },
   "outputs": [],
   "source": [
    "split = StratifiedShuffleSplit(n_splits=1, test_size=0.2, random_state=42)"
   ]
  },
  {
   "cell_type": "code",
   "execution_count": 146,
   "metadata": {
    "executionInfo": {
     "elapsed": 724,
     "status": "ok",
     "timestamp": 1702974210627,
     "user": {
      "displayName": "Prabir Mondal",
      "userId": "02617277053786140042"
     },
     "user_tz": -330
    },
    "id": "SU9eZaA7jZEL"
   },
   "outputs": [],
   "source": [
    "for train_index, test_index in split.split(X=housing, y=housing['income_cat']):\n",
    "    strat_train_set = housing.loc[train_index]\n",
    "    strat_test_set = housing.loc[test_index]"
   ]
  },
  {
   "cell_type": "markdown",
   "metadata": {
    "id": "WHrtgclEjZEL"
   },
   "source": [
    "Let's check if this worked as expected, we can start by checking the proportions of income categories in the test set:"
   ]
  },
  {
   "cell_type": "code",
   "execution_count": 147,
   "metadata": {
    "colab": {
     "base_uri": "https://localhost:8080/"
    },
    "executionInfo": {
     "elapsed": 521,
     "status": "ok",
     "timestamp": 1702974216574,
     "user": {
      "displayName": "Prabir Mondal",
      "userId": "02617277053786140042"
     },
     "user_tz": -330
    },
    "id": "yQr7yfgljZEL",
    "outputId": "08909280-9003-45b7-fc6a-30dabc870791"
   },
   "outputs": [
    {
     "data": {
      "text/plain": [
       "3    0.350533\n",
       "2    0.318798\n",
       "4    0.176357\n",
       "5    0.114341\n",
       "1    0.039971\n",
       "Name: income_cat, dtype: float64"
      ]
     },
     "execution_count": 147,
     "metadata": {},
     "output_type": "execute_result"
    }
   ],
   "source": [
    "strat_test_set['income_cat'].value_counts() / len(strat_test_set)"
   ]
  },
  {
   "cell_type": "markdown",
   "metadata": {
    "id": "EGaqeslAjZEL"
   },
   "source": [
    "Now that we have a test set that is representative of `income_cat`'s distribution, it's time to remove it:"
   ]
  },
  {
   "cell_type": "code",
   "execution_count": 148,
   "metadata": {
    "executionInfo": {
     "elapsed": 522,
     "status": "ok",
     "timestamp": 1702974223335,
     "user": {
      "displayName": "Prabir Mondal",
      "userId": "02617277053786140042"
     },
     "user_tz": -330
    },
    "id": "pcDQuA3IjZEM"
   },
   "outputs": [],
   "source": [
    "for set_ in (strat_train_set, strat_test_set):\n",
    "    set_.drop('income_cat', axis=1, inplace=True)"
   ]
  },
  {
   "cell_type": "markdown",
   "metadata": {
    "id": "QgMED540jZEM"
   },
   "source": [
    "We spent a considerable amount of time on test set generation because this is an important part of any machine learning project. Moreover, many of these ideas will be useful later when we talk about cross-validation."
   ]
  },
  {
   "cell_type": "markdown",
   "metadata": {
    "id": "DWoEZeITjZEM"
   },
   "source": [
    "## 3.Discover & Visualize the Data to Gain Insights\n",
    "\n",
    "First, let's make sure we have put the test set aside, and you are only exploring the training set:"
   ]
  },
  {
   "cell_type": "code",
   "execution_count": 149,
   "metadata": {
    "colab": {
     "base_uri": "https://localhost:8080/"
    },
    "executionInfo": {
     "elapsed": 740,
     "status": "ok",
     "timestamp": 1702974227616,
     "user": {
      "displayName": "Prabir Mondal",
      "userId": "02617277053786140042"
     },
     "user_tz": -330
    },
    "id": "dy8fFQ55jZEM",
    "outputId": "434250a7-6b96-4de4-e7e7-70256e37be81"
   },
   "outputs": [
    {
     "data": {
      "text/plain": [
       "((16512, 10), (4128, 10))"
      ]
     },
     "execution_count": 149,
     "metadata": {},
     "output_type": "execute_result"
    }
   ],
   "source": [
    "strat_train_set.shape, strat_test_set.shape"
   ]
  },
  {
   "cell_type": "code",
   "execution_count": 199,
   "metadata": {},
   "outputs": [
    {
     "name": "stdout",
     "output_type": "stream",
     "text": [
      "Requirement already satisfied: pyarrow in c:\\users\\khushi\\anaconda3\\lib\\site-packages (14.0.2)\n",
      "Requirement already satisfied: numpy>=1.16.6 in c:\\users\\khushi\\anaconda3\\lib\\site-packages (from pyarrow) (1.21.5)\n",
      "Note: you may need to restart the kernel to use updated packages.\n"
     ]
    }
   ],
   "source": [
    "pip install pyarrow"
   ]
  },
  {
   "cell_type": "code",
   "execution_count": 200,
   "metadata": {
    "colab": {
     "base_uri": "https://localhost:8080/"
    },
    "executionInfo": {
     "elapsed": 6,
     "status": "ok",
     "timestamp": 1702974227616,
     "user": {
      "displayName": "Prabir Mondal",
      "userId": "02617277053786140042"
     },
     "user_tz": -330
    },
    "id": "5Ir-Q8j0jZEM",
    "outputId": "5ac30599-c87c-4fce-de98-e1aed25907b6"
   },
   "outputs": [],
   "source": [
    "strat_test_set.reset_index().to_feather(path='data/01/strat_test_set.f')"
   ]
  },
  {
   "cell_type": "markdown",
   "metadata": {
    "id": "5BkE9wx_jZEM"
   },
   "source": [
    "Let's create a copy of the training set for us to play with it without harming the original one:"
   ]
  },
  {
   "cell_type": "code",
   "execution_count": 201,
   "metadata": {
    "colab": {
     "base_uri": "https://localhost:8080/"
    },
    "executionInfo": {
     "elapsed": 5,
     "status": "ok",
     "timestamp": 1702974229799,
     "user": {
      "displayName": "Prabir Mondal",
      "userId": "02617277053786140042"
     },
     "user_tz": -330
    },
    "id": "MZKAG9ZEjZEM",
    "outputId": "b2687b40-6651-481e-858f-e70c0f5c634b"
   },
   "outputs": [
    {
     "data": {
      "text/plain": [
       "(16512, 10)"
      ]
     },
     "execution_count": 201,
     "metadata": {},
     "output_type": "execute_result"
    }
   ],
   "source": [
    "housing = strat_train_set.copy(); housing.shape"
   ]
  },
  {
   "cell_type": "markdown",
   "metadata": {
    "id": "qGTmNq1YjZEN"
   },
   "source": [
    "### Visualizing Geographical Data\n",
    "\n",
    "Since there is latitude/longitude information, it's a good idea to use pandas' matplotlib plot method to visualize the districts of interest using `.plot()`"
   ]
  },
  {
   "cell_type": "code",
   "execution_count": 202,
   "metadata": {
    "colab": {
     "base_uri": "https://localhost:8080/",
     "height": 449
    },
    "executionInfo": {
     "elapsed": 6,
     "status": "ok",
     "timestamp": 1702974230855,
     "user": {
      "displayName": "Prabir Mondal",
      "userId": "02617277053786140042"
     },
     "user_tz": -330
    },
    "id": "Np1QEebcjZEN",
    "outputId": "3e7f842a-25b0-4c7d-e87e-f08f90b723f5"
   },
   "outputs": [
    {
     "ename": "NameError",
     "evalue": "name 'plt' is not defined",
     "output_type": "error",
     "traceback": [
      "\u001b[1;31m---------------------------------------------------------------------------\u001b[0m",
      "\u001b[1;31mNameError\u001b[0m                                 Traceback (most recent call last)",
      "\u001b[1;32m~\\AppData\\Local\\Temp\\ipykernel_33920\\1546524838.py\u001b[0m in \u001b[0;36m<module>\u001b[1;34m\u001b[0m\n\u001b[0;32m      1\u001b[0m \u001b[0mhousing\u001b[0m\u001b[1;33m.\u001b[0m\u001b[0mplot\u001b[0m\u001b[1;33m(\u001b[0m\u001b[0mkind\u001b[0m\u001b[1;33m=\u001b[0m\u001b[1;34m'scatter'\u001b[0m\u001b[1;33m,\u001b[0m \u001b[0mx\u001b[0m\u001b[1;33m=\u001b[0m\u001b[1;34m'longitude'\u001b[0m\u001b[1;33m,\u001b[0m \u001b[0my\u001b[0m\u001b[1;33m=\u001b[0m\u001b[1;34m'latitude'\u001b[0m\u001b[1;33m)\u001b[0m\u001b[1;33m\u001b[0m\u001b[1;33m\u001b[0m\u001b[0m\n\u001b[1;32m----> 2\u001b[1;33m \u001b[0mplt\u001b[0m\u001b[1;33m.\u001b[0m\u001b[0mshow\u001b[0m\u001b[1;33m(\u001b[0m\u001b[1;33m)\u001b[0m\u001b[1;33m\u001b[0m\u001b[1;33m\u001b[0m\u001b[0m\n\u001b[0m",
      "\u001b[1;31mNameError\u001b[0m: name 'plt' is not defined"
     ]
    },
    {
     "data": {
      "image/png": "[encoded data removed]",
      "text/plain": [
       "<Figure size 640x480 with 1 Axes>"
      ]
     },
     "metadata": {},
     "output_type": "display_data"
    }
   ],
   "source": [
    "housing.plot(kind='scatter', x='longitude', y='latitude')\n",
    "plt.show()"
   ]
  },
  {
   "cell_type": "markdown",
   "metadata": {
    "id": "Zq4ZpZYyjZEN"
   },
   "source": [
    "This looks like california, but other than that, we can't really see any other pattern. Setting the alpha to 0.1 makes it much easier to estimate densities:"
   ]
  },
  {
   "cell_type": "code",
   "execution_count": null,
   "metadata": {
    "colab": {
     "base_uri": "https://localhost:8080/",
     "height": 449
    },
    "executionInfo": {
     "elapsed": 1567,
     "status": "ok",
     "timestamp": 1702974233991,
     "user": {
      "displayName": "Prabir Mondal",
      "userId": "02617277053786140042"
     },
     "user_tz": -330
    },
    "id": "LYF7fFDNjZEN",
    "outputId": "7e467bba-f188-480b-f4d9-b6babc65b53f"
   },
   "outputs": [],
   "source": [
    "housing.plot(kind='scatter', x='longitude', y='latitude', alpha=0.1)\n",
    "plt.show()"
   ]
  },
  {
   "cell_type": "markdown",
   "metadata": {
    "id": "7ddpOe9bjZEN"
   },
   "source": [
    "Our brains are wired up to spot patterns in pictures, the tricky thing is that we have to play around with matplotlib's visualization parameters to make the patterns stand out.\n",
    "\n",
    "In the following figure, the radius of each circle represents the district's population (option `s`). The color represents the price (option `c`). We will also use a pre-defined color map called **jet** (option `cmap`) which ranges from `blue` (low levels) to `red` (high level)."
   ]
  },
  {
   "cell_type": "code",
   "execution_count": null,
   "metadata": {
    "colab": {
     "base_uri": "https://localhost:8080/",
     "height": 641
    },
    "executionInfo": {
     "elapsed": 2048,
     "status": "ok",
     "timestamp": 1702974236539,
     "user": {
      "displayName": "Prabir Mondal",
      "userId": "02617277053786140042"
     },
     "user_tz": -330
    },
    "id": "HLT0Qd52jZEN",
    "outputId": "486dcf71-9d16-4e17-f7a4-7d6885ae9456"
   },
   "outputs": [],
   "source": [
    "housing.plot(kind='scatter', x='longitude', y='latitude', alpha=.4, s=housing['population']/100.,\n",
    "             label='population', figsize=(10, 7), c='median_house_value', cmap=plt.get_cmap(name='jet'), colorbar=True)\n",
    "plt.legend()"
   ]
  },
  {
   "cell_type": "markdown",
   "metadata": {
    "id": "T8QU39NSjZEO"
   },
   "source": [
    "This image tells us that the median housing price is related to location (closer to the sea -> more expensive). The relation between `population` and `price` isn't that obvious, let's check it out:"
   ]
  },
  {
   "cell_type": "code",
   "execution_count": null,
   "metadata": {
    "colab": {
     "base_uri": "https://localhost:8080/",
     "height": 112
    },
    "executionInfo": {
     "elapsed": 451,
     "status": "ok",
     "timestamp": 1702974238659,
     "user": {
      "displayName": "Prabir Mondal",
      "userId": "02617277053786140042"
     },
     "user_tz": -330
    },
    "id": "5fp0NzMWjZEO",
    "outputId": "aafe4ec7-5800-4139-969f-431389a0575e"
   },
   "outputs": [],
   "source": [
    "housing[['population', 'median_house_value']].corr()"
   ]
  },
  {
   "cell_type": "markdown",
   "metadata": {
    "id": "RUu9hwrHjZEO"
   },
   "source": [
    "A very weak pair-wise correlation between price and population. We leave it at that & we continue with the book."
   ]
  },
  {
   "cell_type": "markdown",
   "metadata": {
    "id": "mm9nxfOhjZEO"
   },
   "source": [
    "### Looking for Correlations\n",
    "\n",
    "Since the dataset is not too large, we can easily compute the standard correlation coefficient of every pair of columns:"
   ]
  },
  {
   "cell_type": "code",
   "execution_count": null,
   "metadata": {
    "colab": {
     "base_uri": "https://localhost:8080/"
    },
    "executionInfo": {
     "elapsed": 5,
     "status": "ok",
     "timestamp": 1702974240981,
     "user": {
      "displayName": "Prabir Mondal",
      "userId": "02617277053786140042"
     },
     "user_tz": -330
    },
    "id": "hwgOI7OojZEP",
    "outputId": "39d78486-5e1b-4c8d-dd46-d59385fa5284"
   },
   "outputs": [],
   "source": [
    "corr_matrix = housing.corr()"
   ]
  },
  {
   "cell_type": "markdown",
   "metadata": {
    "id": "FAn27toEjZEP"
   },
   "source": [
    "Now let's look at how much each attribute correlates with `house_median_value`:"
   ]
  },
  {
   "cell_type": "code",
   "execution_count": null,
   "metadata": {
    "colab": {
     "base_uri": "https://localhost:8080/"
    },
    "executionInfo": {
     "elapsed": 5,
     "status": "ok",
     "timestamp": 1702974243122,
     "user": {
      "displayName": "Prabir Mondal",
      "userId": "02617277053786140042"
     },
     "user_tz": -330
    },
    "id": "csjvYxxnjZEP",
    "outputId": "2bdd7082-6925-455b-ac38-79172e80256e"
   },
   "outputs": [],
   "source": [
    "corr_matrix['median_house_value'].sort_values(ascending=False)"
   ]
  },
  {
   "cell_type": "markdown",
   "metadata": {
    "id": "zAgZK_-pjZEP"
   },
   "source": [
    "The correlation coefficient is $\\in [-1,1]$. When the coefficient is close to `1` it means there exist a strong positive correlation between the two variables (For example. the median house value tends to go up with the median average income goes up). When the coefficient is close to `-1` it means there exist a strong negative correlation between the two variables. When the coefficient is close to `0` it means that there is a weak correlation between the two variables.\n",
    "\n",
    "The following figure shows multiple bi-variate plots and their corresponding correlation coefficient:\n",
    "\n",
    "<div style=\"text-align:center;\"><img style=\"width:50%\" src=\"static/imgs/corr_examples.png\" /></div>\n",
    "\n",
    "The correlation coefficients only measure linear correlations (if `X` goes up, `Y` goes up/down) and it has nothing to do with the slope.\n",
    "\n",
    "Another way to look at correlations is to use the Pandas `.scatter_matrix()` method to visualize correlations between any 2 attributes. Since we have `11` attributes and we cannot fit all plots, let's focus on the few promising ones."
   ]
  },
  {
   "cell_type": "code",
   "execution_count": null,
   "metadata": {
    "executionInfo": {
     "elapsed": 4,
     "status": "ok",
     "timestamp": 1702974243123,
     "user": {
      "displayName": "Prabir Mondal",
      "userId": "02617277053786140042"
     },
     "user_tz": -330
    },
    "id": "nfS_oiIWjZEP"
   },
   "outputs": [],
   "source": [
    "from pandas.plotting import scatter_matrix"
   ]
  },
  {
   "cell_type": "code",
   "execution_count": null,
   "metadata": {
    "executionInfo": {
     "elapsed": 3,
     "status": "ok",
     "timestamp": 1702974246057,
     "user": {
      "displayName": "Prabir Mondal",
      "userId": "02617277053786140042"
     },
     "user_tz": -330
    },
    "id": "S5fQj_10jZEP"
   },
   "outputs": [],
   "source": [
    "attributes = ['median_house_value', 'median_income', 'total_rooms', 'housing_median_age']"
   ]
  },
  {
   "cell_type": "code",
   "execution_count": null,
   "metadata": {
    "colab": {
     "base_uri": "https://localhost:8080/",
     "height": 724
    },
    "executionInfo": {
     "elapsed": 5347,
     "status": "ok",
     "timestamp": 1702974251401,
     "user": {
      "displayName": "Prabir Mondal",
      "userId": "02617277053786140042"
     },
     "user_tz": -330
    },
    "id": "HTNC8rLgjZEP",
    "outputId": "e97bf7a0-21ee-4b5c-fed2-31f62c6512e8"
   },
   "outputs": [],
   "source": [
    "scatter_matrix(frame=housing[attributes], figsize=(12, 8))\n",
    "plt.show()"
   ]
  },
  {
   "cell_type": "markdown",
   "metadata": {
    "id": "8Dh4GnIXjZEQ"
   },
   "source": [
    "The most interesting attribute to predict `median_house_value` is `median_income`\n",
    "\n",
    "Let's zoom in the correlation scatterplot:"
   ]
  },
  {
   "cell_type": "code",
   "execution_count": null,
   "metadata": {
    "colab": {
     "base_uri": "https://localhost:8080/",
     "height": 696
    },
    "executionInfo": {
     "elapsed": 25,
     "status": "ok",
     "timestamp": 1702974251401,
     "user": {
      "displayName": "Prabir Mondal",
      "userId": "02617277053786140042"
     },
     "user_tz": -330
    },
    "id": "Ryf6L-hejZEQ",
    "outputId": "5ead62a9-046d-4493-b048-2fba204ac8e9"
   },
   "outputs": [],
   "source": [
    "housing.plot(kind='scatter', x='median_income', y='median_house_value', figsize=(12,8), alpha=0.1)\n",
    "plt.show()"
   ]
  },
  {
   "cell_type": "markdown",
   "metadata": {
    "id": "mNRdzZdWjZEQ"
   },
   "source": [
    "This correlation is indeed very strong, we can clearly see the upward trend\n",
    "\n",
    "The price cap that we noticed earlier is clearly visible at $500,000$USD, but the plot reveals other less obvious lines at:\n",
    "    - USD450K\n",
    "    - USD350K\n",
    "    - USD280K\n",
    "    - ...\n",
    "\n",
    "We may want to remove the corresponding districts so that the model to not learn these quirks."
   ]
  },
  {
   "cell_type": "markdown",
   "metadata": {
    "id": "0cl9KIGNjZEQ"
   },
   "source": [
    "### Experimenting with Attribute Combinations\n",
    "\n",
    "We may want to transform tail heavy distributions using the logarithm function ($log(.)$).\n",
    "\n",
    "One last thing we would want to do before feeding the data into an ML algorithm is to try to combine features. Examples:\n",
    "- The number of rooms per household, not the total number of rooms in a district.\n",
    "- The total number of bedrooms isn't helpful either, we want to compare it with the number of rooms.\n",
    "- The number of poeple per household is also an interesting feature to look at.\n",
    "\n",
    "Let's create them all:"
   ]
  },
  {
   "cell_type": "code",
   "execution_count": null,
   "metadata": {
    "executionInfo": {
     "elapsed": 686,
     "status": "ok",
     "timestamp": 1702974258635,
     "user": {
      "displayName": "Prabir Mondal",
      "userId": "02617277053786140042"
     },
     "user_tz": -330
    },
    "id": "fppJut7-jZEQ"
   },
   "outputs": [],
   "source": [
    "housing['rooms_per_household'] = housing['total_rooms']/housing['households']\n",
    "housing['bedrooms_per_room'] = housing['total_bedrooms']/housing['total_rooms']\n",
    "housing['population_per_household'] = housing['population']/housing['households']"
   ]
  },
  {
   "cell_type": "markdown",
   "metadata": {
    "id": "jVADtWfhjZEQ"
   },
   "source": [
    "Let's look at the correlation matrix again:"
   ]
  },
  {
   "cell_type": "code",
   "execution_count": null,
   "metadata": {
    "colab": {
     "base_uri": "https://localhost:8080/"
    },
    "executionInfo": {
     "elapsed": 3,
     "status": "ok",
     "timestamp": 1702974259371,
     "user": {
      "displayName": "Prabir Mondal",
      "userId": "02617277053786140042"
     },
     "user_tz": -330
    },
    "id": "Cq2duuWCjZEQ",
    "outputId": "09e0a5af-3cb7-40f6-e187-04b645c852df"
   },
   "outputs": [],
   "source": [
    "corr_matrix = housing.corr()\n",
    "corr_matrix['median_house_value'].sort_values(ascending=False)"
   ]
  },
  {
   "cell_type": "markdown",
   "metadata": {
    "id": "g7cciGbwjZER"
   },
   "source": [
    "We notice that `bedrooms_per_room` is much more correlated with `median_house_value`. meaning that the more expensive the house, the less the `bedrooms per room` ratio. `rooms_per_household` have a moderate positive correlation with `median_house_value`, the more expensive a house is, the more rooms it will have.\n",
    "\n",
    "We don't have to go through every correlation/engineered feature, the goal is to start at the right place.\n",
    "\n",
    "Data science is an **iterative** process, once we have a model up and running, we can analyze its outputs and go back to this step to explore the data again."
   ]
  },
  {
   "cell_type": "markdown",
   "metadata": {
    "id": "JuEH0NdqjZER"
   },
   "source": [
    "## 4. Prepare the Data for Machine Learning Algorithms\n",
    "\n",
    "Instead of doing this manually, we should write functions for this purpose. We mention the following reasons:\n",
    "\n",
    "- It will allow us to reproduce the transformations on any fresh dataset.\n",
    "- We will gradually build a library of transformations that we can use in future projects.\n",
    "- We can use these functions in our live systems to transform the data using a pipeline before feeding it into the algorithm.\n",
    "- This will make it possible for us to try various transformations or a combination of them to check what works best.\n",
    "\n",
    "Let's start with a fresh dataset again:"
   ]
  },
  {
   "cell_type": "code",
   "execution_count": null,
   "metadata": {
    "colab": {
     "base_uri": "https://localhost:8080/"
    },
    "executionInfo": {
     "elapsed": 741,
     "status": "ok",
     "timestamp": 1702974263713,
     "user": {
      "displayName": "Prabir Mondal",
      "userId": "02617277053786140042"
     },
     "user_tz": -330
    },
    "id": "7UanszO8jZER",
    "outputId": "ae546c20-191e-47f9-a13b-eb7d1b4ff6fc"
   },
   "outputs": [],
   "source": [
    "housing = strat_train_set.drop(\"median_house_value\", axis=1)\n",
    "housing_labels = strat_train_set[\"median_house_value\"].copy()\n",
    "housing.shape, housing_labels.shape"
   ]
  },
  {
   "cell_type": "code",
   "execution_count": null,
   "metadata": {
    "colab": {
     "base_uri": "https://localhost:8080/"
    },
    "executionInfo": {
     "elapsed": 4,
     "status": "ok",
     "timestamp": 1702974265945,
     "user": {
      "displayName": "Prabir Mondal",
      "userId": "02617277053786140042"
     },
     "user_tz": -330
    },
    "id": "y7q0lY7HsDJk",
    "outputId": "edd6fe45-59ce-4bbf-9000-b3e5d8104ac6"
   },
   "outputs": [],
   "source": [
    "# housing\n",
    "housing_labels"
   ]
  },
  {
   "cell_type": "markdown",
   "metadata": {
    "id": "0DK8nepcjZER"
   },
   "source": [
    "### Data Cleaning\n",
    "\n",
    "Most machine learning algorithms cannot deal with missing features, so let's create a few functions to deal with them.\n",
    "\n",
    "We saw earlier that `total_bedrooms` have missing values, we have 3 options:\n",
    "1. Get rid of the corresponding districts\n",
    "    - `housing.dropna(subset='total_bedrooms')`\n",
    "2. Get rid of the whole attribute (feature)\n",
    "    - `housing.drop('total_bedrooms', axis=1)`\n",
    "3. Set the missing values to some value (zero, mean, median, regressor preds,...)\n",
    "    - `median = housing['total_bedrooms'].median()`\n",
    "    - `housing['total_bedrooms'].fillna(median, inplace=True)`\n",
    "    \n",
    "We can also use `scikit-learn`'s `SimpleImputer`:"
   ]
  },
  {
   "cell_type": "code",
   "execution_count": null,
   "metadata": {
    "executionInfo": {
     "elapsed": 471,
     "status": "ok",
     "timestamp": 1702974269229,
     "user": {
      "displayName": "Prabir Mondal",
      "userId": "02617277053786140042"
     },
     "user_tz": -330
    },
    "id": "OlIbFKCRjZER"
   },
   "outputs": [],
   "source": [
    "from sklearn.impute import SimpleImputer"
   ]
  },
  {
   "cell_type": "code",
   "execution_count": null,
   "metadata": {
    "executionInfo": {
     "elapsed": 2,
     "status": "ok",
     "timestamp": 1702974270194,
     "user": {
      "displayName": "Prabir Mondal",
      "userId": "02617277053786140042"
     },
     "user_tz": -330
    },
    "id": "5aKEZFy9jZER"
   },
   "outputs": [],
   "source": [
    "imputer = SimpleImputer(strategy='median')"
   ]
  },
  {
   "cell_type": "markdown",
   "metadata": {
    "id": "7b9MwYjCjZER"
   },
   "source": [
    "Since the imputer can only work on numerical attributes, we need to create a copy of the dataFrame without the `OCEAN_PROXIMITY` text attribute:"
   ]
  },
  {
   "cell_type": "code",
   "execution_count": null,
   "metadata": {
    "executionInfo": {
     "elapsed": 4,
     "status": "ok",
     "timestamp": 1702974272223,
     "user": {
      "displayName": "Prabir Mondal",
      "userId": "02617277053786140042"
     },
     "user_tz": -330
    },
    "id": "IHoFWE6KjZES"
   },
   "outputs": [],
   "source": [
    "housing_num = housing.drop(\"ocean_proximity\", axis=1)"
   ]
  },
  {
   "cell_type": "markdown",
   "metadata": {
    "id": "4XkpOdvBjZES"
   },
   "source": [
    "Now we can just fit the imputer to the dataframe:"
   ]
  },
  {
   "cell_type": "code",
   "execution_count": null,
   "metadata": {
    "colab": {
     "base_uri": "https://localhost:8080/",
     "height": 75
    },
    "executionInfo": {
     "elapsed": 5,
     "status": "ok",
     "timestamp": 1702974273903,
     "user": {
      "displayName": "Prabir Mondal",
      "userId": "02617277053786140042"
     },
     "user_tz": -330
    },
    "id": "5seVSNN6jZES",
    "outputId": "c668bcb8-c095-4db5-d7d9-9e5e01ff39ae"
   },
   "outputs": [],
   "source": [
    "imputer.fit(housing_num)"
   ]
  },
  {
   "cell_type": "markdown",
   "metadata": {
    "id": "Mrrcr4Q9jZES"
   },
   "source": [
    "The imputer has calculated the median of all attributes and stored them in `.statistics_`."
   ]
  },
  {
   "cell_type": "code",
   "execution_count": 203,
   "metadata": {
    "colab": {
     "base_uri": "https://localhost:8080/"
    },
    "executionInfo": {
     "elapsed": 2,
     "status": "ok",
     "timestamp": 1702974275872,
     "user": {
      "displayName": "Prabir Mondal",
      "userId": "02617277053786140042"
     },
     "user_tz": -330
    },
    "id": "5VE9VFV_jZES",
    "outputId": "e565fb98-c101-4efe-ae5c-c4fddf6bbf38"
   },
   "outputs": [
    {
     "data": {
      "text/plain": [
       "array([-1.1849e+02,  3.4260e+01,  2.9000e+01,  2.1270e+03,  4.3500e+02,\n",
       "        1.1660e+03,  4.0900e+02,  3.5348e+00,  1.7970e+05])"
      ]
     },
     "execution_count": 203,
     "metadata": {},
     "output_type": "execute_result"
    }
   ],
   "source": [
    "imputer.statistics_"
   ]
  },
  {
   "cell_type": "code",
   "execution_count": 204,
   "metadata": {
    "colab": {
     "base_uri": "https://localhost:8080/"
    },
    "executionInfo": {
     "elapsed": 3,
     "status": "ok",
     "timestamp": 1702974276526,
     "user": {
      "displayName": "Prabir Mondal",
      "userId": "02617277053786140042"
     },
     "user_tz": -330
    },
    "id": "Wx_142WpjZES",
    "outputId": "6fee04f4-1ef0-4c58-fa50-5444ae757388"
   },
   "outputs": [
    {
     "data": {
      "text/plain": [
       "array([-1.1849e+02,  3.4260e+01,  2.9000e+01,  2.1270e+03,  4.3500e+02,\n",
       "        1.1660e+03,  4.0900e+02,  3.5348e+00,  1.7970e+05])"
      ]
     },
     "execution_count": 204,
     "metadata": {},
     "output_type": "execute_result"
    }
   ],
   "source": [
    "housing_num.median().values"
   ]
  },
  {
   "cell_type": "markdown",
   "metadata": {
    "id": "3L9fqp9qjZES"
   },
   "source": [
    "Now we can use the \"trained or fitted\" imputer to transform the numerical attributes by replacing missing values with their corresponding medians:"
   ]
  },
  {
   "cell_type": "code",
   "execution_count": 205,
   "metadata": {
    "colab": {
     "base_uri": "https://localhost:8080/"
    },
    "executionInfo": {
     "elapsed": 5,
     "status": "ok",
     "timestamp": 1702974278515,
     "user": {
      "displayName": "Prabir Mondal",
      "userId": "02617277053786140042"
     },
     "user_tz": -330
    },
    "id": "znAqGU8HjZET",
    "outputId": "ea175708-9f0e-4b0c-92d2-73a125b5bc07"
   },
   "outputs": [
    {
     "data": {
      "text/plain": [
       "(20640, 9)"
      ]
     },
     "execution_count": 205,
     "metadata": {},
     "output_type": "execute_result"
    }
   ],
   "source": [
    "X = imputer.transform(housing_num)\n",
    "X.shape"
   ]
  },
  {
   "cell_type": "code",
   "execution_count": 206,
   "metadata": {
    "colab": {
     "base_uri": "https://localhost:8080/"
    },
    "executionInfo": {
     "elapsed": 4,
     "status": "ok",
     "timestamp": 1702974278980,
     "user": {
      "displayName": "Prabir Mondal",
      "userId": "02617277053786140042"
     },
     "user_tz": -330
    },
    "id": "jIlUmv5IvlSN",
    "outputId": "5c5d7b62-f032-4001-d676-40747df1c88f"
   },
   "outputs": [
    {
     "data": {
      "text/plain": [
       "array([[-1.2223e+02,  3.7880e+01,  4.1000e+01, ...,  1.2600e+02,\n",
       "         8.3252e+00,  4.5260e+05],\n",
       "       [-1.2222e+02,  3.7860e+01,  2.1000e+01, ...,  1.1380e+03,\n",
       "         8.3014e+00,  3.5850e+05],\n",
       "       [-1.2224e+02,  3.7850e+01,  5.2000e+01, ...,  1.7700e+02,\n",
       "         7.2574e+00,  3.5210e+05],\n",
       "       ...,\n",
       "       [-1.2122e+02,  3.9430e+01,  1.7000e+01, ...,  4.3300e+02,\n",
       "         1.7000e+00,  9.2300e+04],\n",
       "       [-1.2132e+02,  3.9430e+01,  1.8000e+01, ...,  3.4900e+02,\n",
       "         1.8672e+00,  8.4700e+04],\n",
       "       [-1.2124e+02,  3.9370e+01,  1.6000e+01, ...,  5.3000e+02,\n",
       "         2.3886e+00,  8.9400e+04]])"
      ]
     },
     "execution_count": 206,
     "metadata": {},
     "output_type": "execute_result"
    }
   ],
   "source": [
    "X"
   ]
  },
  {
   "cell_type": "markdown",
   "metadata": {
    "id": "EfOq2-vGjZET"
   },
   "source": [
    "The result is a numpy array containing the transformed features. If we want to put it back into a Pandas DataFrame, it's simple:"
   ]
  },
  {
   "cell_type": "code",
   "execution_count": 207,
   "metadata": {
    "colab": {
     "base_uri": "https://localhost:8080/",
     "height": 206
    },
    "executionInfo": {
     "elapsed": 573,
     "status": "ok",
     "timestamp": 1702974283247,
     "user": {
      "displayName": "Prabir Mondal",
      "userId": "02617277053786140042"
     },
     "user_tz": -330
    },
    "id": "q5BsCBxpjZET",
    "outputId": "0ffd00ef-2a11-440e-dc0b-6a06ffbc942e"
   },
   "outputs": [
    {
     "data": {
      "text/html": [
       "<div>\n",
       "<style scoped>\n",
       "    .dataframe tbody tr th:only-of-type {\n",
       "        vertical-align: middle;\n",
       "    }\n",
       "\n",
       "    .dataframe tbody tr th {\n",
       "        vertical-align: top;\n",
       "    }\n",
       "\n",
       "    .dataframe thead th {\n",
       "        text-align: right;\n",
       "    }\n",
       "</style>\n",
       "<table border=\"1\" class=\"dataframe\">\n",
       "  <thead>\n",
       "    <tr style=\"text-align: right;\">\n",
       "      <th></th>\n",
       "      <th>longitude</th>\n",
       "      <th>latitude</th>\n",
       "      <th>housing_median_age</th>\n",
       "      <th>total_rooms</th>\n",
       "      <th>total_bedrooms</th>\n",
       "      <th>population</th>\n",
       "      <th>households</th>\n",
       "      <th>median_income</th>\n",
       "      <th>median_house_value</th>\n",
       "    </tr>\n",
       "  </thead>\n",
       "  <tbody>\n",
       "    <tr>\n",
       "      <th>0</th>\n",
       "      <td>-122.23</td>\n",
       "      <td>37.88</td>\n",
       "      <td>41.0</td>\n",
       "      <td>880.0</td>\n",
       "      <td>129.0</td>\n",
       "      <td>322.0</td>\n",
       "      <td>126.0</td>\n",
       "      <td>8.3252</td>\n",
       "      <td>452600.0</td>\n",
       "    </tr>\n",
       "    <tr>\n",
       "      <th>1</th>\n",
       "      <td>-122.22</td>\n",
       "      <td>37.86</td>\n",
       "      <td>21.0</td>\n",
       "      <td>7099.0</td>\n",
       "      <td>1106.0</td>\n",
       "      <td>2401.0</td>\n",
       "      <td>1138.0</td>\n",
       "      <td>8.3014</td>\n",
       "      <td>358500.0</td>\n",
       "    </tr>\n",
       "    <tr>\n",
       "      <th>2</th>\n",
       "      <td>-122.24</td>\n",
       "      <td>37.85</td>\n",
       "      <td>52.0</td>\n",
       "      <td>1467.0</td>\n",
       "      <td>190.0</td>\n",
       "      <td>496.0</td>\n",
       "      <td>177.0</td>\n",
       "      <td>7.2574</td>\n",
       "      <td>352100.0</td>\n",
       "    </tr>\n",
       "    <tr>\n",
       "      <th>3</th>\n",
       "      <td>-122.25</td>\n",
       "      <td>37.85</td>\n",
       "      <td>52.0</td>\n",
       "      <td>1274.0</td>\n",
       "      <td>235.0</td>\n",
       "      <td>558.0</td>\n",
       "      <td>219.0</td>\n",
       "      <td>5.6431</td>\n",
       "      <td>341300.0</td>\n",
       "    </tr>\n",
       "    <tr>\n",
       "      <th>4</th>\n",
       "      <td>-122.25</td>\n",
       "      <td>37.85</td>\n",
       "      <td>52.0</td>\n",
       "      <td>1627.0</td>\n",
       "      <td>280.0</td>\n",
       "      <td>565.0</td>\n",
       "      <td>259.0</td>\n",
       "      <td>3.8462</td>\n",
       "      <td>342200.0</td>\n",
       "    </tr>\n",
       "  </tbody>\n",
       "</table>\n",
       "</div>"
      ],
      "text/plain": [
       "   longitude  latitude  housing_median_age  total_rooms  total_bedrooms  \\\n",
       "0    -122.23     37.88                41.0        880.0           129.0   \n",
       "1    -122.22     37.86                21.0       7099.0          1106.0   \n",
       "2    -122.24     37.85                52.0       1467.0           190.0   \n",
       "3    -122.25     37.85                52.0       1274.0           235.0   \n",
       "4    -122.25     37.85                52.0       1627.0           280.0   \n",
       "\n",
       "   population  households  median_income  median_house_value  \n",
       "0       322.0       126.0         8.3252            452600.0  \n",
       "1      2401.0      1138.0         8.3014            358500.0  \n",
       "2       496.0       177.0         7.2574            352100.0  \n",
       "3       558.0       219.0         5.6431            341300.0  \n",
       "4       565.0       259.0         3.8462            342200.0  "
      ]
     },
     "execution_count": 207,
     "metadata": {},
     "output_type": "execute_result"
    }
   ],
   "source": [
    "housing_tr = pd.DataFrame(data=X, index=housing_num.index, columns=housing_num.columns)\n",
    "housing_tr.head()"
   ]
  },
  {
   "cell_type": "markdown",
   "metadata": {
    "id": "OzxvDxSHjZET"
   },
   "source": [
    "Scikit-learn's API is remarkably [well designed](https://arxiv.org/abs/1309.0238). These are its main design principles:\n",
    "- Consistency: all objects share a consistent and simple interface\n",
    "    - `Estimators`: Any object that can estimate some parameters based on a dataset is called an estimator.\n",
    "    - `Transformers`: Some estimators can also transform a dataset (like imputer), these are called transformers.\n",
    "    - `Predictors`: Finally, some estimators, when given a dataset, are able to export predictions, these are called predictors.\n",
    "- Inspection: All the estimators parameters/hyperparameters are accessible directly through public variables.\n",
    "- Non-proliferation of classes: Datasets are represented as Numpy arrays or Scipy sparse matrices, no home-made data types.\n",
    "- Composition: existing building blocks are re-used as much as possible.\n",
    "- Sensible defaults: Scikit-learn provide reasonable default values for most hyper-parameters, making it easy to create good baseline estimators."
   ]
  },
  {
   "cell_type": "markdown",
   "metadata": {
    "id": "ECZebWUujZET"
   },
   "source": [
    "### Handling Text & Categorical Attributes\n",
    "\n",
    "So far, we have only dealt with numerical attributes, now, let's check text/categorical attributes.\n",
    "\n",
    "We have only 1 categorical attribute, which is `ocean_proximity`. let's look at its values for the 10 first instances:"
   ]
  },
  {
   "cell_type": "code",
   "execution_count": 208,
   "metadata": {
    "colab": {
     "base_uri": "https://localhost:8080/",
     "height": 363
    },
    "executionInfo": {
     "elapsed": 519,
     "status": "ok",
     "timestamp": 1702974288352,
     "user": {
      "displayName": "Prabir Mondal",
      "userId": "02617277053786140042"
     },
     "user_tz": -330
    },
    "id": "N1WYW4ISjZET",
    "outputId": "6e46a585-2b46-4801-b4fe-d2d0500ec57f"
   },
   "outputs": [
    {
     "data": {
      "text/html": [
       "<div>\n",
       "<style scoped>\n",
       "    .dataframe tbody tr th:only-of-type {\n",
       "        vertical-align: middle;\n",
       "    }\n",
       "\n",
       "    .dataframe tbody tr th {\n",
       "        vertical-align: top;\n",
       "    }\n",
       "\n",
       "    .dataframe thead th {\n",
       "        text-align: right;\n",
       "    }\n",
       "</style>\n",
       "<table border=\"1\" class=\"dataframe\">\n",
       "  <thead>\n",
       "    <tr style=\"text-align: right;\">\n",
       "      <th></th>\n",
       "      <th>ocean_proximity</th>\n",
       "    </tr>\n",
       "  </thead>\n",
       "  <tbody>\n",
       "    <tr>\n",
       "      <th>12655</th>\n",
       "      <td>INLAND</td>\n",
       "    </tr>\n",
       "    <tr>\n",
       "      <th>15502</th>\n",
       "      <td>NEAR OCEAN</td>\n",
       "    </tr>\n",
       "    <tr>\n",
       "      <th>2908</th>\n",
       "      <td>INLAND</td>\n",
       "    </tr>\n",
       "    <tr>\n",
       "      <th>14053</th>\n",
       "      <td>NEAR OCEAN</td>\n",
       "    </tr>\n",
       "    <tr>\n",
       "      <th>20496</th>\n",
       "      <td>&lt;1H OCEAN</td>\n",
       "    </tr>\n",
       "    <tr>\n",
       "      <th>1481</th>\n",
       "      <td>NEAR BAY</td>\n",
       "    </tr>\n",
       "    <tr>\n",
       "      <th>18125</th>\n",
       "      <td>&lt;1H OCEAN</td>\n",
       "    </tr>\n",
       "    <tr>\n",
       "      <th>5830</th>\n",
       "      <td>&lt;1H OCEAN</td>\n",
       "    </tr>\n",
       "    <tr>\n",
       "      <th>17989</th>\n",
       "      <td>&lt;1H OCEAN</td>\n",
       "    </tr>\n",
       "    <tr>\n",
       "      <th>4861</th>\n",
       "      <td>&lt;1H OCEAN</td>\n",
       "    </tr>\n",
       "  </tbody>\n",
       "</table>\n",
       "</div>"
      ],
      "text/plain": [
       "      ocean_proximity\n",
       "12655          INLAND\n",
       "15502      NEAR OCEAN\n",
       "2908           INLAND\n",
       "14053      NEAR OCEAN\n",
       "20496       <1H OCEAN\n",
       "1481         NEAR BAY\n",
       "18125       <1H OCEAN\n",
       "5830        <1H OCEAN\n",
       "17989       <1H OCEAN\n",
       "4861        <1H OCEAN"
      ]
     },
     "execution_count": 208,
     "metadata": {},
     "output_type": "execute_result"
    }
   ],
   "source": [
    "housing_cat = housing[['ocean_proximity']]\n",
    "housing_cat.head(10)"
   ]
  },
  {
   "cell_type": "markdown",
   "metadata": {
    "id": "ACQKOWnjjZET"
   },
   "source": [
    "There is a limited number of values, each of which represents a category:"
   ]
  },
  {
   "cell_type": "code",
   "execution_count": 209,
   "metadata": {
    "colab": {
     "base_uri": "https://localhost:8080/"
    },
    "executionInfo": {
     "elapsed": 477,
     "status": "ok",
     "timestamp": 1702974292006,
     "user": {
      "displayName": "Prabir Mondal",
      "userId": "02617277053786140042"
     },
     "user_tz": -330
    },
    "id": "tk6dhV9QjZEU",
    "outputId": "8218d838-0176-43a7-d9f1-4428bbf92d95"
   },
   "outputs": [
    {
     "data": {
      "text/plain": [
       "<1H OCEAN     7277\n",
       "INLAND        5262\n",
       "NEAR OCEAN    2124\n",
       "NEAR BAY      1847\n",
       "ISLAND           2\n",
       "Name: ocean_proximity, dtype: int64"
      ]
     },
     "execution_count": 209,
     "metadata": {},
     "output_type": "execute_result"
    }
   ],
   "source": [
    "housing_cat['ocean_proximity'].value_counts()"
   ]
  },
  {
   "cell_type": "markdown",
   "metadata": {
    "id": "NyR4D_mgjZEU"
   },
   "source": [
    "Most ML algorithms prefer to work with numbers, so let's convert the text into **ordinal categorical** numbers:"
   ]
  },
  {
   "cell_type": "code",
   "execution_count": 210,
   "metadata": {
    "executionInfo": {
     "elapsed": 2,
     "status": "ok",
     "timestamp": 1702974292723,
     "user": {
      "displayName": "Prabir Mondal",
      "userId": "02617277053786140042"
     },
     "user_tz": -330
    },
    "id": "I7YDAbHTjZEU"
   },
   "outputs": [],
   "source": [
    "from sklearn.preprocessing import OrdinalEncoder"
   ]
  },
  {
   "cell_type": "code",
   "execution_count": 211,
   "metadata": {
    "executionInfo": {
     "elapsed": 3,
     "status": "ok",
     "timestamp": 1702974293323,
     "user": {
      "displayName": "Prabir Mondal",
      "userId": "02617277053786140042"
     },
     "user_tz": -330
    },
    "id": "tkq5n0IujZEU"
   },
   "outputs": [],
   "source": [
    "ordinal_encoder = OrdinalEncoder()"
   ]
  },
  {
   "cell_type": "code",
   "execution_count": 212,
   "metadata": {
    "colab": {
     "base_uri": "https://localhost:8080/"
    },
    "executionInfo": {
     "elapsed": 3,
     "status": "ok",
     "timestamp": 1702974293889,
     "user": {
      "displayName": "Prabir Mondal",
      "userId": "02617277053786140042"
     },
     "user_tz": -330
    },
    "id": "GNlv4HbljZEU",
    "outputId": "9adce3b5-2cfc-4f04-d7cc-077f168c09af"
   },
   "outputs": [
    {
     "data": {
      "text/plain": [
       "(16512, 1)"
      ]
     },
     "execution_count": 212,
     "metadata": {},
     "output_type": "execute_result"
    }
   ],
   "source": [
    "housing_cat_encoded = ordinal_encoder.fit_transform(housing_cat.values)\n",
    "housing_cat_encoded.shape"
   ]
  },
  {
   "cell_type": "code",
   "execution_count": 213,
   "metadata": {
    "colab": {
     "base_uri": "https://localhost:8080/"
    },
    "executionInfo": {
     "elapsed": 6,
     "status": "ok",
     "timestamp": 1702974295344,
     "user": {
      "displayName": "Prabir Mondal",
      "userId": "02617277053786140042"
     },
     "user_tz": -330
    },
    "id": "u1j7rOPkjZEU",
    "outputId": "27f16b77-3ade-456e-a53c-d8109b8a52c3"
   },
   "outputs": [
    {
     "data": {
      "text/plain": [
       "array([[1.],\n",
       "       [4.],\n",
       "       [1.],\n",
       "       [4.],\n",
       "       [0.],\n",
       "       [3.],\n",
       "       [0.],\n",
       "       [0.],\n",
       "       [0.],\n",
       "       [0.]])"
      ]
     },
     "execution_count": 213,
     "metadata": {},
     "output_type": "execute_result"
    }
   ],
   "source": [
    "housing_cat_encoded[:10]"
   ]
  },
  {
   "cell_type": "markdown",
   "metadata": {
    "id": "-vSAONSMjZEU"
   },
   "source": [
    "We can get the list of categories using the `categories_` attribute of the `OrdinalEncoder`:"
   ]
  },
  {
   "cell_type": "code",
   "execution_count": 214,
   "metadata": {
    "colab": {
     "base_uri": "https://localhost:8080/"
    },
    "executionInfo": {
     "elapsed": 500,
     "status": "ok",
     "timestamp": 1702974297875,
     "user": {
      "displayName": "Prabir Mondal",
      "userId": "02617277053786140042"
     },
     "user_tz": -330
    },
    "id": "7CKBhkVFjZEV",
    "outputId": "5f3e4ec2-bcf7-4b3c-fa08-1e040eed50c7"
   },
   "outputs": [
    {
     "data": {
      "text/plain": [
       "[array(['<1H OCEAN', 'INLAND', 'ISLAND', 'NEAR BAY', 'NEAR OCEAN'],\n",
       "       dtype=object)]"
      ]
     },
     "execution_count": 214,
     "metadata": {},
     "output_type": "execute_result"
    }
   ],
   "source": [
    "ordinal_encoder.categories_"
   ]
  },
  {
   "cell_type": "markdown",
   "metadata": {
    "id": "MeTyTj_FjZEV"
   },
   "source": [
    "One issue with this representation is that the encoder will assume that two nearby categories are more similar than distant ones, but this is not the case for us (ex. categories 0 and 4 are clearly more similar than 0 and 1). To fix this issue, we create one binary attribute per category:\n",
    "- One attribute is equal to `1` if the category is equal to `<1H OCEAN` and `0` otherwise.\n",
    "- One attribute is equal to `1` if the category is equal to `INLAND` and `0` otherwise.\n",
    "- ...\n",
    "\n",
    "This is called 1-hot encoding because, for any row, only one binary attribute will be equal to 1 (hot), while the others are 0s (cold).\n",
    "\n",
    "The new attributes are sometimes called dummy attributes, let's create them:"
   ]
  },
  {
   "cell_type": "code",
   "execution_count": 215,
   "metadata": {
    "executionInfo": {
     "elapsed": 3,
     "status": "ok",
     "timestamp": 1702974299330,
     "user": {
      "displayName": "Prabir Mondal",
      "userId": "02617277053786140042"
     },
     "user_tz": -330
    },
    "id": "gOiKlBZ3jZEV"
   },
   "outputs": [],
   "source": [
    "from sklearn.preprocessing import OneHotEncoder"
   ]
  },
  {
   "cell_type": "code",
   "execution_count": 216,
   "metadata": {
    "executionInfo": {
     "elapsed": 2,
     "status": "ok",
     "timestamp": 1702974300090,
     "user": {
      "displayName": "Prabir Mondal",
      "userId": "02617277053786140042"
     },
     "user_tz": -330
    },
    "id": "bs7vsmGejZEV"
   },
   "outputs": [],
   "source": [
    "one_hot_encoder = OneHotEncoder()"
   ]
  },
  {
   "cell_type": "code",
   "execution_count": 217,
   "metadata": {
    "colab": {
     "base_uri": "https://localhost:8080/"
    },
    "executionInfo": {
     "elapsed": 3,
     "status": "ok",
     "timestamp": 1702974301534,
     "user": {
      "displayName": "Prabir Mondal",
      "userId": "02617277053786140042"
     },
     "user_tz": -330
    },
    "id": "5Nngp95sjZEV",
    "outputId": "d1adbe2e-dbf8-4e80-dafb-0a44e558356a"
   },
   "outputs": [
    {
     "data": {
      "text/plain": [
       "<16512x5 sparse matrix of type '<class 'numpy.float64'>'\n",
       "\twith 16512 stored elements in Compressed Sparse Row format>"
      ]
     },
     "execution_count": 217,
     "metadata": {},
     "output_type": "execute_result"
    }
   ],
   "source": [
    "housing_cat_1hot = one_hot_encoder.fit_transform(housing_cat.values)\n",
    "housing_cat_1hot"
   ]
  },
  {
   "cell_type": "markdown",
   "metadata": {
    "id": "KuAL14bdjZEV"
   },
   "source": [
    "The output is a sparse scipy matrix instead of a numpy array. If we use numpy, we have to store all of the zeros in memory, comprising of most of the array. Instead, we store the information as a Scipy sparse matrix which only stores the locations of the non-zeros (which is more efficient).\n",
    "\n",
    "We can mostly use it as a normal `2D` array, but if we want to convert it into a dense numpy array:"
   ]
  },
  {
   "cell_type": "code",
   "execution_count": 218,
   "metadata": {
    "colab": {
     "base_uri": "https://localhost:8080/"
    },
    "executionInfo": {
     "elapsed": 760,
     "status": "ok",
     "timestamp": 1702974305126,
     "user": {
      "displayName": "Prabir Mondal",
      "userId": "02617277053786140042"
     },
     "user_tz": -330
    },
    "id": "BmVpjW5MjZEV",
    "outputId": "2cf41b01-32d9-4dc3-9620-e2694d8c2b52"
   },
   "outputs": [
    {
     "data": {
      "text/plain": [
       "array([[0., 1., 0., 0., 0.],\n",
       "       [0., 0., 0., 0., 1.],\n",
       "       [0., 1., 0., 0., 0.],\n",
       "       ...,\n",
       "       [1., 0., 0., 0., 0.],\n",
       "       [1., 0., 0., 0., 0.],\n",
       "       [0., 1., 0., 0., 0.]])"
      ]
     },
     "execution_count": 218,
     "metadata": {},
     "output_type": "execute_result"
    }
   ],
   "source": [
    "housing_cat_1hot.toarray()"
   ]
  },
  {
   "cell_type": "code",
   "execution_count": 219,
   "metadata": {
    "colab": {
     "base_uri": "https://localhost:8080/"
    },
    "executionInfo": {
     "elapsed": 10,
     "status": "ok",
     "timestamp": 1702974305127,
     "user": {
      "displayName": "Prabir Mondal",
      "userId": "02617277053786140042"
     },
     "user_tz": -330
    },
    "id": "wxNFzJ-TjZEV",
    "outputId": "f55b77b5-84bf-417b-dff3-b77a67dad1ab"
   },
   "outputs": [
    {
     "data": {
      "text/plain": [
       "[array(['<1H OCEAN', 'INLAND', 'ISLAND', 'NEAR BAY', 'NEAR OCEAN'],\n",
       "       dtype=object)]"
      ]
     },
     "execution_count": 219,
     "metadata": {},
     "output_type": "execute_result"
    }
   ],
   "source": [
    "one_hot_encoder.categories_"
   ]
  },
  {
   "cell_type": "markdown",
   "metadata": {
    "id": "8MkgYvSUjZEW"
   },
   "source": [
    "If a categorical feature has a large number of possible values (ex. country, postcode, city, ...) then a 1-hot encoder will result in a large number of input features. This may slow down training and degrade performance.\n",
    "\n",
    "We may want to replace the categorical inputs with numerical features that relate to the categorical values. Examples:\n",
    "- Replace country with its GDP/Area/Population\n",
    "- Replace `ocean_proximity` with `distance_to_ocean`.\n",
    "\n",
    "Alternatively, we could replace the categorical features with low-dimensional learnable vectors called embeddings. Each category's representation would be learned during training. This is part of what's called \"representation learning\" or \"deep learning\"."
   ]
  },
  {
   "cell_type": "markdown",
   "metadata": {
    "id": "EJTEmV4RjZEW"
   },
   "source": [
    "### Custom Transformers\n",
    "\n",
    "Although `scikit-learn` provide many useful transformers, we will need to write our own for custom tasks such as data cleanup or feature engineering. We'll want our transformer to easily work with other scikit-learn functionalities (such as Pipelines).\n",
    "\n",
    "All we need to do is create a class with 3 methods: `fit`, `transform`, `fit_transform`. We can get `fit_transform` for free by adding `TransformerMixin` as a base class.\n",
    "\n",
    "If we add `BaseEstimator` as another base class & avoid the use of *args* and *kwargs*, we get two extra methods (`.get_params()` & `.set_params()`).\n",
    "\n",
    "For example, here is a small transformer that adds the combined attributes discussed earlier:"
   ]
  },
  {
   "cell_type": "code",
   "execution_count": 173,
   "metadata": {
    "executionInfo": {
     "elapsed": 518,
     "status": "ok",
     "timestamp": 1702974309245,
     "user": {
      "displayName": "Prabir Mondal",
      "userId": "02617277053786140042"
     },
     "user_tz": -330
    },
    "id": "vmSbPeZNjZEW"
   },
   "outputs": [],
   "source": [
    "from sklearn.base import TransformerMixin, BaseEstimator"
   ]
  },
  {
   "cell_type": "code",
   "execution_count": 174,
   "metadata": {
    "executionInfo": {
     "elapsed": 569,
     "status": "ok",
     "timestamp": 1702974312852,
     "user": {
      "displayName": "Prabir Mondal",
      "userId": "02617277053786140042"
     },
     "user_tz": -330
    },
    "id": "uSwLA22fjZEW"
   },
   "outputs": [],
   "source": [
    "rooms_ix, bedrooms_ix, population_ix, households_ix = 3, 4, 5, 6"
   ]
  },
  {
   "cell_type": "code",
   "execution_count": 175,
   "metadata": {
    "executionInfo": {
     "elapsed": 2,
     "status": "ok",
     "timestamp": 1702974313648,
     "user": {
      "displayName": "Prabir Mondal",
      "userId": "02617277053786140042"
     },
     "user_tz": -330
    },
    "id": "tS1hezQ3jZEW"
   },
   "outputs": [],
   "source": [
    "class CombinedAttributesAdder(BaseEstimator, TransformerMixin):\n",
    "    \"\"\"Engineers new features from existing ones: `rooms_per_household`, `population_per_household`, `bedrooms_per_room`\n",
    "\n",
    "    # Arguments:\n",
    "        add_bedrooms_per_room, bool: defaults to True. Indicates if we want to add the feature `bedrooms_per_room`.\n",
    "    \"\"\"\n",
    "    def __init__(self, add_bedrooms_per_room=True):\n",
    "        self.add_bedrooms_per_room = add_bedrooms_per_room\n",
    "\n",
    "    def fit(self, X, y=None):\n",
    "        return self  # We don't have any internal parameters. Only interested in transforming data.\n",
    "\n",
    "    def transform(self, X, y=None):\n",
    "        rooms_per_household = X[:, rooms_ix] / X[:, households_ix]\n",
    "        population_per_household = X[:, population_ix] / X[:, households_ix]\n",
    "        if self.add_bedrooms_per_room:\n",
    "            bedrooms_per_room = X[:, bedrooms_ix] / X[:, rooms_ix]\n",
    "            return np.c_[X, rooms_per_household, population_per_household, bedrooms_per_room]\n",
    "        else:\n",
    "            return np.c_[X, rooms_per_household, population_per_household]"
   ]
  },
  {
   "cell_type": "code",
   "execution_count": 176,
   "metadata": {
    "executionInfo": {
     "elapsed": 921,
     "status": "ok",
     "timestamp": 1702974317944,
     "user": {
      "displayName": "Prabir Mondal",
      "userId": "02617277053786140042"
     },
     "user_tz": -330
    },
    "id": "79nSeWZtjZEW"
   },
   "outputs": [],
   "source": [
    "attr_adder = CombinedAttributesAdder(add_bedrooms_per_room=False)"
   ]
  },
  {
   "cell_type": "code",
   "execution_count": 177,
   "metadata": {
    "executionInfo": {
     "elapsed": 3,
     "status": "ok",
     "timestamp": 1702974318729,
     "user": {
      "displayName": "Prabir Mondal",
      "userId": "02617277053786140042"
     },
     "user_tz": -330
    },
    "id": "kX3DfjeujZEW"
   },
   "outputs": [],
   "source": [
    "housing_extra_attribs = attr_adder.transform(housing.values)"
   ]
  },
  {
   "cell_type": "code",
   "execution_count": 178,
   "metadata": {
    "colab": {
     "base_uri": "https://localhost:8080/"
    },
    "executionInfo": {
     "elapsed": 4,
     "status": "ok",
     "timestamp": 1702974320589,
     "user": {
      "displayName": "Prabir Mondal",
      "userId": "02617277053786140042"
     },
     "user_tz": -330
    },
    "id": "BgkoMlXGt61-",
    "outputId": "475d86d5-8e0d-4516-f9a1-f31b49219057"
   },
   "outputs": [
    {
     "data": {
      "text/plain": [
       "array([[-122.23, 37.88, 41.0, ..., 5, 6.984126984126984,\n",
       "        2.5555555555555554],\n",
       "       [-122.22, 37.86, 21.0, ..., 5, 6.238137082601054,\n",
       "        2.109841827768014],\n",
       "       [-122.24, 37.85, 52.0, ..., 5, 8.288135593220339,\n",
       "        2.8022598870056497],\n",
       "       ...,\n",
       "       [-121.22, 39.43, 17.0, ..., 2, 5.20554272517321,\n",
       "        2.325635103926097],\n",
       "       [-121.32, 39.43, 18.0, ..., 2, 5.329512893982808,\n",
       "        2.1232091690544412],\n",
       "       [-121.24, 39.37, 16.0, ..., 2, 5.254716981132075,\n",
       "        2.616981132075472]], dtype=object)"
      ]
     },
     "execution_count": 178,
     "metadata": {},
     "output_type": "execute_result"
    }
   ],
   "source": [
    "housing_extra_attribs"
   ]
  },
  {
   "cell_type": "markdown",
   "metadata": {
    "id": "D8HbpC6FjZEW"
   },
   "source": [
    "The `add_bedrooms_per_room` hyper-parameter will easily help us find out whether adding the attributes helps the ML algorithm or not.\n",
    "\n",
    "We can add hyper-parameters to control any pre-processing step that we're not sure about. The more we automate these data preprocessing steps, the more combinations we get to try out.\n",
    "\n",
    "We will more likely find a great combination of steps that maximizes performance (and will save us a ton of time)."
   ]
  },
  {
   "cell_type": "markdown",
   "metadata": {
    "id": "G4duJPcYjZEX"
   },
   "source": [
    "### Feature Scaling\n",
    "\n",
    "With few exceptions, ML algorithms don't perform well on data features that have different scales. However, scaling the target value is generally not required.\n",
    "\n",
    "There are two ways to get all features to have the same scale:\n",
    "- `Min-Max` scaling: for each value, we subtract by the `min` and divide by `max - min`.\n",
    "- `Standarization`: For each value, we subtract the `mean` and divide by `std`\n",
    "\n",
    "Standardization produce values with a mean of `0` and a standard deviation of `1`. Unlike Min-Max scaling, standardization doesn't bound values to a specific range. This can cause problems for some ML algorithms (Example: NNs usually expect inputs range from 0 to 1). However, standarization is much less effected by outliers.\n",
    "\n",
    "As with all transformers, It's important to fit to the training data only, not the full dataset."
   ]
  },
  {
   "cell_type": "markdown",
   "metadata": {
    "id": "uomAzvmWjZEX"
   },
   "source": [
    "### Transformation Pipelines\n",
    "\n",
    "There are many transformation steps that need to be executed in the right order. Scikit-learn provides the `Pipeline` class to help us chain transformations in a sequence.\n",
    "\n",
    "Here is a small pipeline for the numerical attribtues:"
   ]
  },
  {
   "cell_type": "code",
   "execution_count": 179,
   "metadata": {
    "executionInfo": {
     "elapsed": 5,
     "status": "ok",
     "timestamp": 1702974332031,
     "user": {
      "displayName": "Prabir Mondal",
      "userId": "02617277053786140042"
     },
     "user_tz": -330
    },
    "id": "vuByt5rYjZEX"
   },
   "outputs": [],
   "source": [
    "from sklearn.pipeline import Pipeline\n",
    "from sklearn.preprocessing import StandardScaler"
   ]
  },
  {
   "cell_type": "code",
   "execution_count": 180,
   "metadata": {
    "colab": {
     "base_uri": "https://localhost:8080/"
    },
    "executionInfo": {
     "elapsed": 5,
     "status": "ok",
     "timestamp": 1702974332822,
     "user": {
      "displayName": "Prabir Mondal",
      "userId": "02617277053786140042"
     },
     "user_tz": -330
    },
    "id": "C9cJoaV8yRlF",
    "outputId": "8ddf7077-7dd8-40c3-c1bd-d97473ca6ff0"
   },
   "outputs": [
    {
     "data": {
      "text/plain": [
       "(20640, 9)"
      ]
     },
     "execution_count": 180,
     "metadata": {},
     "output_type": "execute_result"
    }
   ],
   "source": [
    "housing_num.shape"
   ]
  },
  {
   "cell_type": "code",
   "execution_count": 181,
   "metadata": {
    "executionInfo": {
     "elapsed": 3,
     "status": "ok",
     "timestamp": 1702974334404,
     "user": {
      "displayName": "Prabir Mondal",
      "userId": "02617277053786140042"
     },
     "user_tz": -330
    },
    "id": "PbQ0VV3CjZEX"
   },
   "outputs": [],
   "source": [
    "num_pipeline = Pipeline([\n",
    "    ('imputer', SimpleImputer(strategy='median')),\n",
    "    ('attribs_adder', CombinedAttributesAdder()),\n",
    "    ('std_scaler', StandardScaler())\n",
    "])"
   ]
  },
  {
   "cell_type": "code",
   "execution_count": 182,
   "metadata": {
    "colab": {
     "base_uri": "https://localhost:8080/"
    },
    "executionInfo": {
     "elapsed": 3,
     "status": "ok",
     "timestamp": 1702974334972,
     "user": {
      "displayName": "Prabir Mondal",
      "userId": "02617277053786140042"
     },
     "user_tz": -330
    },
    "id": "iOj4NKy-jZEX",
    "outputId": "2c017958-4b7e-41e8-8669-5c8fd080f0f9"
   },
   "outputs": [
    {
     "data": {
      "text/plain": [
       "(20640, 12)"
      ]
     },
     "execution_count": 182,
     "metadata": {},
     "output_type": "execute_result"
    }
   ],
   "source": [
    "housing_num_tr = num_pipeline.fit_transform(housing_num)\n",
    "housing_num_tr.shape"
   ]
  },
  {
   "cell_type": "markdown",
   "metadata": {
    "id": "O_oVJyGejZEX"
   },
   "source": [
    "So far, we have handeled categorical/continuous columns separately. It would be better if we had a single transformer that is able to transform all columns.\n",
    "\n",
    "`ColumnTransformer`s to the rescue:"
   ]
  },
  {
   "cell_type": "code",
   "execution_count": 183,
   "metadata": {
    "executionInfo": {
     "elapsed": 596,
     "status": "ok",
     "timestamp": 1702974340083,
     "user": {
      "displayName": "Prabir Mondal",
      "userId": "02617277053786140042"
     },
     "user_tz": -330
    },
    "id": "dD79H7NbjZEX"
   },
   "outputs": [],
   "source": [
    "from sklearn.compose import ColumnTransformer"
   ]
  },
  {
   "cell_type": "code",
   "execution_count": 184,
   "metadata": {
    "executionInfo": {
     "elapsed": 2,
     "status": "ok",
     "timestamp": 1702974340877,
     "user": {
      "displayName": "Prabir Mondal",
      "userId": "02617277053786140042"
     },
     "user_tz": -330
    },
    "id": "vTmOp_bCjZEX"
   },
   "outputs": [],
   "source": [
    "num_attribs = housing_num.columns.tolist()\n",
    "cat_attribs = [\"ocean_proximity\"]"
   ]
  },
  {
   "cell_type": "code",
   "execution_count": 185,
   "metadata": {
    "executionInfo": {
     "elapsed": 3,
     "status": "ok",
     "timestamp": 1702974341324,
     "user": {
      "displayName": "Prabir Mondal",
      "userId": "02617277053786140042"
     },
     "user_tz": -330
    },
    "id": "SmbBPAQ5jZEY"
   },
   "outputs": [],
   "source": [
    "full_pipeline = ColumnTransformer([\n",
    "    (\"num\", num_pipeline, num_attribs),\n",
    "    (\"cat\", OneHotEncoder(), cat_attribs)\n",
    "])"
   ]
  },
  {
   "cell_type": "code",
   "execution_count": 186,
   "metadata": {
    "colab": {
     "base_uri": "https://localhost:8080/",
     "height": 424
    },
    "executionInfo": {
     "elapsed": 10,
     "status": "ok",
     "timestamp": 1702974342008,
     "user": {
      "displayName": "Prabir Mondal",
      "userId": "02617277053786140042"
     },
     "user_tz": -330
    },
    "id": "CgXkL7S4ysoY",
    "outputId": "9484ad12-37ff-4555-b7f7-0120cfb7e295"
   },
   "outputs": [
    {
     "data": {
      "text/html": [
       "<div>\n",
       "<style scoped>\n",
       "    .dataframe tbody tr th:only-of-type {\n",
       "        vertical-align: middle;\n",
       "    }\n",
       "\n",
       "    .dataframe tbody tr th {\n",
       "        vertical-align: top;\n",
       "    }\n",
       "\n",
       "    .dataframe thead th {\n",
       "        text-align: right;\n",
       "    }\n",
       "</style>\n",
       "<table border=\"1\" class=\"dataframe\">\n",
       "  <thead>\n",
       "    <tr style=\"text-align: right;\">\n",
       "      <th></th>\n",
       "      <th>longitude</th>\n",
       "      <th>latitude</th>\n",
       "      <th>housing_median_age</th>\n",
       "      <th>total_rooms</th>\n",
       "      <th>total_bedrooms</th>\n",
       "      <th>population</th>\n",
       "      <th>households</th>\n",
       "      <th>median_income</th>\n",
       "      <th>median_house_value</th>\n",
       "      <th>ocean_proximity</th>\n",
       "      <th>income_cat</th>\n",
       "    </tr>\n",
       "  </thead>\n",
       "  <tbody>\n",
       "    <tr>\n",
       "      <th>0</th>\n",
       "      <td>-122.23</td>\n",
       "      <td>37.88</td>\n",
       "      <td>41.0</td>\n",
       "      <td>880.0</td>\n",
       "      <td>129.0</td>\n",
       "      <td>322.0</td>\n",
       "      <td>126.0</td>\n",
       "      <td>8.3252</td>\n",
       "      <td>452600.0</td>\n",
       "      <td>NEAR BAY</td>\n",
       "      <td>5</td>\n",
       "    </tr>\n",
       "    <tr>\n",
       "      <th>1</th>\n",
       "      <td>-122.22</td>\n",
       "      <td>37.86</td>\n",
       "      <td>21.0</td>\n",
       "      <td>7099.0</td>\n",
       "      <td>1106.0</td>\n",
       "      <td>2401.0</td>\n",
       "      <td>1138.0</td>\n",
       "      <td>8.3014</td>\n",
       "      <td>358500.0</td>\n",
       "      <td>NEAR BAY</td>\n",
       "      <td>5</td>\n",
       "    </tr>\n",
       "    <tr>\n",
       "      <th>2</th>\n",
       "      <td>-122.24</td>\n",
       "      <td>37.85</td>\n",
       "      <td>52.0</td>\n",
       "      <td>1467.0</td>\n",
       "      <td>190.0</td>\n",
       "      <td>496.0</td>\n",
       "      <td>177.0</td>\n",
       "      <td>7.2574</td>\n",
       "      <td>352100.0</td>\n",
       "      <td>NEAR BAY</td>\n",
       "      <td>5</td>\n",
       "    </tr>\n",
       "    <tr>\n",
       "      <th>3</th>\n",
       "      <td>-122.25</td>\n",
       "      <td>37.85</td>\n",
       "      <td>52.0</td>\n",
       "      <td>1274.0</td>\n",
       "      <td>235.0</td>\n",
       "      <td>558.0</td>\n",
       "      <td>219.0</td>\n",
       "      <td>5.6431</td>\n",
       "      <td>341300.0</td>\n",
       "      <td>NEAR BAY</td>\n",
       "      <td>4</td>\n",
       "    </tr>\n",
       "    <tr>\n",
       "      <th>4</th>\n",
       "      <td>-122.25</td>\n",
       "      <td>37.85</td>\n",
       "      <td>52.0</td>\n",
       "      <td>1627.0</td>\n",
       "      <td>280.0</td>\n",
       "      <td>565.0</td>\n",
       "      <td>259.0</td>\n",
       "      <td>3.8462</td>\n",
       "      <td>342200.0</td>\n",
       "      <td>NEAR BAY</td>\n",
       "      <td>3</td>\n",
       "    </tr>\n",
       "    <tr>\n",
       "      <th>...</th>\n",
       "      <td>...</td>\n",
       "      <td>...</td>\n",
       "      <td>...</td>\n",
       "      <td>...</td>\n",
       "      <td>...</td>\n",
       "      <td>...</td>\n",
       "      <td>...</td>\n",
       "      <td>...</td>\n",
       "      <td>...</td>\n",
       "      <td>...</td>\n",
       "      <td>...</td>\n",
       "    </tr>\n",
       "    <tr>\n",
       "      <th>20635</th>\n",
       "      <td>-121.09</td>\n",
       "      <td>39.48</td>\n",
       "      <td>25.0</td>\n",
       "      <td>1665.0</td>\n",
       "      <td>374.0</td>\n",
       "      <td>845.0</td>\n",
       "      <td>330.0</td>\n",
       "      <td>1.5603</td>\n",
       "      <td>78100.0</td>\n",
       "      <td>INLAND</td>\n",
       "      <td>2</td>\n",
       "    </tr>\n",
       "    <tr>\n",
       "      <th>20636</th>\n",
       "      <td>-121.21</td>\n",
       "      <td>39.49</td>\n",
       "      <td>18.0</td>\n",
       "      <td>697.0</td>\n",
       "      <td>150.0</td>\n",
       "      <td>356.0</td>\n",
       "      <td>114.0</td>\n",
       "      <td>2.5568</td>\n",
       "      <td>77100.0</td>\n",
       "      <td>INLAND</td>\n",
       "      <td>2</td>\n",
       "    </tr>\n",
       "    <tr>\n",
       "      <th>20637</th>\n",
       "      <td>-121.22</td>\n",
       "      <td>39.43</td>\n",
       "      <td>17.0</td>\n",
       "      <td>2254.0</td>\n",
       "      <td>485.0</td>\n",
       "      <td>1007.0</td>\n",
       "      <td>433.0</td>\n",
       "      <td>1.7000</td>\n",
       "      <td>92300.0</td>\n",
       "      <td>INLAND</td>\n",
       "      <td>2</td>\n",
       "    </tr>\n",
       "    <tr>\n",
       "      <th>20638</th>\n",
       "      <td>-121.32</td>\n",
       "      <td>39.43</td>\n",
       "      <td>18.0</td>\n",
       "      <td>1860.0</td>\n",
       "      <td>409.0</td>\n",
       "      <td>741.0</td>\n",
       "      <td>349.0</td>\n",
       "      <td>1.8672</td>\n",
       "      <td>84700.0</td>\n",
       "      <td>INLAND</td>\n",
       "      <td>2</td>\n",
       "    </tr>\n",
       "    <tr>\n",
       "      <th>20639</th>\n",
       "      <td>-121.24</td>\n",
       "      <td>39.37</td>\n",
       "      <td>16.0</td>\n",
       "      <td>2785.0</td>\n",
       "      <td>616.0</td>\n",
       "      <td>1387.0</td>\n",
       "      <td>530.0</td>\n",
       "      <td>2.3886</td>\n",
       "      <td>89400.0</td>\n",
       "      <td>INLAND</td>\n",
       "      <td>2</td>\n",
       "    </tr>\n",
       "  </tbody>\n",
       "</table>\n",
       "<p>20640 rows × 11 columns</p>\n",
       "</div>"
      ],
      "text/plain": [
       "       longitude  latitude  housing_median_age  total_rooms  total_bedrooms  \\\n",
       "0        -122.23     37.88                41.0        880.0           129.0   \n",
       "1        -122.22     37.86                21.0       7099.0          1106.0   \n",
       "2        -122.24     37.85                52.0       1467.0           190.0   \n",
       "3        -122.25     37.85                52.0       1274.0           235.0   \n",
       "4        -122.25     37.85                52.0       1627.0           280.0   \n",
       "...          ...       ...                 ...          ...             ...   \n",
       "20635    -121.09     39.48                25.0       1665.0           374.0   \n",
       "20636    -121.21     39.49                18.0        697.0           150.0   \n",
       "20637    -121.22     39.43                17.0       2254.0           485.0   \n",
       "20638    -121.32     39.43                18.0       1860.0           409.0   \n",
       "20639    -121.24     39.37                16.0       2785.0           616.0   \n",
       "\n",
       "       population  households  median_income  median_house_value  \\\n",
       "0           322.0       126.0         8.3252            452600.0   \n",
       "1          2401.0      1138.0         8.3014            358500.0   \n",
       "2           496.0       177.0         7.2574            352100.0   \n",
       "3           558.0       219.0         5.6431            341300.0   \n",
       "4           565.0       259.0         3.8462            342200.0   \n",
       "...           ...         ...            ...                 ...   \n",
       "20635       845.0       330.0         1.5603             78100.0   \n",
       "20636       356.0       114.0         2.5568             77100.0   \n",
       "20637      1007.0       433.0         1.7000             92300.0   \n",
       "20638       741.0       349.0         1.8672             84700.0   \n",
       "20639      1387.0       530.0         2.3886             89400.0   \n",
       "\n",
       "      ocean_proximity income_cat  \n",
       "0            NEAR BAY          5  \n",
       "1            NEAR BAY          5  \n",
       "2            NEAR BAY          5  \n",
       "3            NEAR BAY          4  \n",
       "4            NEAR BAY          3  \n",
       "...               ...        ...  \n",
       "20635          INLAND          2  \n",
       "20636          INLAND          2  \n",
       "20637          INLAND          2  \n",
       "20638          INLAND          2  \n",
       "20639          INLAND          2  \n",
       "\n",
       "[20640 rows x 11 columns]"
      ]
     },
     "execution_count": 186,
     "metadata": {},
     "output_type": "execute_result"
    }
   ],
   "source": [
    "housing"
   ]
  },
  {
   "cell_type": "code",
   "execution_count": 187,
   "metadata": {
    "colab": {
     "base_uri": "https://localhost:8080/"
    },
    "executionInfo": {
     "elapsed": 491,
     "status": "ok",
     "timestamp": 1702974349560,
     "user": {
      "displayName": "Prabir Mondal",
      "userId": "02617277053786140042"
     },
     "user_tz": -330
    },
    "id": "KWS6F-gZjZEY",
    "outputId": "2c51600f-24be-4699-9602-8f94402b5132"
   },
   "outputs": [
    {
     "data": {
      "text/plain": [
       "(20640, 17)"
      ]
     },
     "execution_count": 187,
     "metadata": {},
     "output_type": "execute_result"
    }
   ],
   "source": [
    "housing_prepared = full_pipeline.fit_transform(housing)\n",
    "housing_prepared.shape"
   ]
  },
  {
   "cell_type": "code",
   "execution_count": 188,
   "metadata": {
    "colab": {
     "base_uri": "https://localhost:8080/"
    },
    "executionInfo": {
     "elapsed": 10,
     "status": "ok",
     "timestamp": 1702974350283,
     "user": {
      "displayName": "Prabir Mondal",
      "userId": "02617277053786140042"
     },
     "user_tz": -330
    },
    "id": "2ygFv4VRurpT",
    "outputId": "cb4a7884-5d1f-411e-c0b2-daf25e793cd7"
   },
   "outputs": [
    {
     "data": {
      "text/plain": [
       "array([-1.32284391,  1.04318455, -0.60701891,  2.0458901 ,  1.35714343,\n",
       "        0.86143887,  1.66996103,  2.33223796,  1.31415614,  0.32704136,\n",
       "       -0.09251223, -0.8888972 ,  0.        ,  0.        ,  0.        ,\n",
       "        1.        ,  0.        ])"
      ]
     },
     "execution_count": 188,
     "metadata": {},
     "output_type": "execute_result"
    }
   ],
   "source": [
    "housing_prepared[1]"
   ]
  },
  {
   "cell_type": "markdown",
   "metadata": {
    "id": "knjzEp_UjZEY"
   },
   "source": [
    "**That's it!**, we have a pre-processing pipeline that takes the data and transforms it into data that we can feed to an ML algorithm."
   ]
  },
  {
   "cell_type": "markdown",
   "metadata": {
    "id": "ebMQoUrjjZEY"
   },
   "source": [
    "## 5. Select & Train a Model"
   ]
  },
  {
   "cell_type": "markdown",
   "metadata": {
    "id": "uImSip0RjZEY"
   },
   "source": [
    "We are now ready to select & train an ML model.\n",
    "\n",
    "### Training & Evaluating on the Training Set\n",
    "\n",
    "Thanks to all the previous steps, things are going to be much simpler from now on.\n",
    "\n",
    "Let's first train a Linear Regression model, like we did in the previous chapter:"
   ]
  },
  {
   "cell_type": "code",
   "execution_count": 189,
   "metadata": {
    "executionInfo": {
     "elapsed": 517,
     "status": "ok",
     "timestamp": 1702974356655,
     "user": {
      "displayName": "Prabir Mondal",
      "userId": "02617277053786140042"
     },
     "user_tz": -330
    },
    "id": "zKOwoaJijZEY"
   },
   "outputs": [],
   "source": [
    "from sklearn.linear_model import LinearRegression"
   ]
  },
  {
   "cell_type": "code",
   "execution_count": 190,
   "metadata": {
    "executionInfo": {
     "elapsed": 4,
     "status": "ok",
     "timestamp": 1702974357388,
     "user": {
      "displayName": "Prabir Mondal",
      "userId": "02617277053786140042"
     },
     "user_tz": -330
    },
    "id": "Ij0ArwJ2jZEY"
   },
   "outputs": [],
   "source": [
    "lin_reg = LinearRegression()"
   ]
  },
  {
   "cell_type": "code",
   "execution_count": 194,
   "metadata": {
    "colab": {
     "base_uri": "https://localhost:8080/",
     "height": 75
    },
    "executionInfo": {
     "elapsed": 14,
     "status": "ok",
     "timestamp": 1702974358195,
     "user": {
      "displayName": "Prabir Mondal",
      "userId": "02617277053786140042"
     },
     "user_tz": -330
    },
    "id": "B3AOYAA7jZEY",
    "outputId": "b5df7721-aab3-4a7a-b69f-bb8379890e6a"
   },
   "outputs": [
    {
     "ename": "NameError",
     "evalue": "name 'housing_labels' is not defined",
     "output_type": "error",
     "traceback": [
      "\u001b[1;31m---------------------------------------------------------------------------\u001b[0m",
      "\u001b[1;31mNameError\u001b[0m                                 Traceback (most recent call last)",
      "\u001b[1;32m~\\AppData\\Local\\Temp\\ipykernel_33920\\2398428920.py\u001b[0m in \u001b[0;36m<module>\u001b[1;34m\u001b[0m\n\u001b[1;32m----> 1\u001b[1;33m \u001b[0mlin_reg\u001b[0m\u001b[1;33m.\u001b[0m\u001b[0mfit\u001b[0m\u001b[1;33m(\u001b[0m\u001b[0mX\u001b[0m\u001b[1;33m=\u001b[0m\u001b[0mhousing_prepared\u001b[0m\u001b[1;33m,\u001b[0m \u001b[0my\u001b[0m\u001b[1;33m=\u001b[0m\u001b[0mhousing_labels\u001b[0m\u001b[1;33m)\u001b[0m\u001b[1;33m\u001b[0m\u001b[1;33m\u001b[0m\u001b[0m\n\u001b[0m",
      "\u001b[1;31mNameError\u001b[0m: name 'housing_labels' is not defined"
     ]
    }
   ],
   "source": [
    "lin_reg.fit(X=housing_prepared, y=housing_labels)"
   ]
  },
  {
   "cell_type": "markdown",
   "metadata": {
    "id": "GFJxm7y_jZEZ"
   },
   "source": [
    "Let's try the model on a few instances from the training set:"
   ]
  },
  {
   "cell_type": "code",
   "execution_count": 192,
   "metadata": {
    "executionInfo": {
     "elapsed": 2,
     "status": "ok",
     "timestamp": 1702974360830,
     "user": {
      "displayName": "Prabir Mondal",
      "userId": "02617277053786140042"
     },
     "user_tz": -330
    },
    "id": "7yRP3LlljZEZ"
   },
   "outputs": [],
   "source": [
    "some_data = housing.iloc[:5]"
   ]
  },
  {
   "cell_type": "code",
   "execution_count": 193,
   "metadata": {
    "executionInfo": {
     "elapsed": 2,
     "status": "ok",
     "timestamp": 1702974361566,
     "user": {
      "displayName": "Prabir Mondal",
      "userId": "02617277053786140042"
     },
     "user_tz": -330
    },
    "id": "q1-Ed0z2jZEZ"
   },
   "outputs": [
    {
     "ename": "NameError",
     "evalue": "name 'housing_labels' is not defined",
     "output_type": "error",
     "traceback": [
      "\u001b[1;31m---------------------------------------------------------------------------\u001b[0m",
      "\u001b[1;31mNameError\u001b[0m                                 Traceback (most recent call last)",
      "\u001b[1;32m~\\AppData\\Local\\Temp\\ipykernel_33920\\1063592517.py\u001b[0m in \u001b[0;36m<module>\u001b[1;34m\u001b[0m\n\u001b[1;32m----> 1\u001b[1;33m \u001b[0msome_labels\u001b[0m \u001b[1;33m=\u001b[0m \u001b[0mhousing_labels\u001b[0m\u001b[1;33m.\u001b[0m\u001b[0miloc\u001b[0m\u001b[1;33m[\u001b[0m\u001b[1;33m:\u001b[0m\u001b[1;36m5\u001b[0m\u001b[1;33m]\u001b[0m\u001b[1;33m\u001b[0m\u001b[1;33m\u001b[0m\u001b[0m\n\u001b[0m",
      "\u001b[1;31mNameError\u001b[0m: name 'housing_labels' is not defined"
     ]
    }
   ],
   "source": [
    "some_labels = housing_labels.iloc[:5]"
   ]
  },
  {
   "cell_type": "code",
   "execution_count": 126,
   "metadata": {
    "executionInfo": {
     "elapsed": 2,
     "status": "ok",
     "timestamp": 1702974362233,
     "user": {
      "displayName": "Prabir Mondal",
      "userId": "02617277053786140042"
     },
     "user_tz": -330
    },
    "id": "YL6nwb61jZEZ"
   },
   "outputs": [
    {
     "ename": "NotFittedError",
     "evalue": "This ColumnTransformer instance is not fitted yet. Call 'fit' with appropriate arguments before using this estimator.",
     "output_type": "error",
     "traceback": [
      "\u001b[1;31m---------------------------------------------------------------------------\u001b[0m",
      "\u001b[1;31mNotFittedError\u001b[0m                            Traceback (most recent call last)",
      "\u001b[1;32m~\\AppData\\Local\\Temp\\ipykernel_33920\\386832935.py\u001b[0m in \u001b[0;36m<module>\u001b[1;34m\u001b[0m\n\u001b[1;32m----> 1\u001b[1;33m \u001b[0msome_data_prepared\u001b[0m \u001b[1;33m=\u001b[0m \u001b[0mfull_pipeline\u001b[0m\u001b[1;33m.\u001b[0m\u001b[0mtransform\u001b[0m\u001b[1;33m(\u001b[0m\u001b[0msome_data\u001b[0m\u001b[1;33m)\u001b[0m\u001b[1;33m\u001b[0m\u001b[1;33m\u001b[0m\u001b[0m\n\u001b[0m",
      "\u001b[1;32m~\\anaconda3\\lib\\site-packages\\sklearn\\compose\\_column_transformer.py\u001b[0m in \u001b[0;36mtransform\u001b[1;34m(self, X)\u001b[0m\n\u001b[0;32m    716\u001b[0m             \u001b[0msparse\u001b[0m \u001b[0mmatrices\u001b[0m\u001b[1;33m.\u001b[0m\u001b[1;33m\u001b[0m\u001b[1;33m\u001b[0m\u001b[0m\n\u001b[0;32m    717\u001b[0m         \"\"\"\n\u001b[1;32m--> 718\u001b[1;33m         \u001b[0mcheck_is_fitted\u001b[0m\u001b[1;33m(\u001b[0m\u001b[0mself\u001b[0m\u001b[1;33m)\u001b[0m\u001b[1;33m\u001b[0m\u001b[1;33m\u001b[0m\u001b[0m\n\u001b[0m\u001b[0;32m    719\u001b[0m         \u001b[0mX\u001b[0m \u001b[1;33m=\u001b[0m \u001b[0m_check_X\u001b[0m\u001b[1;33m(\u001b[0m\u001b[0mX\u001b[0m\u001b[1;33m)\u001b[0m\u001b[1;33m\u001b[0m\u001b[1;33m\u001b[0m\u001b[0m\n\u001b[0;32m    720\u001b[0m \u001b[1;33m\u001b[0m\u001b[0m\n",
      "\u001b[1;32m~\\anaconda3\\lib\\site-packages\\sklearn\\utils\\validation.py\u001b[0m in \u001b[0;36mcheck_is_fitted\u001b[1;34m(estimator, attributes, msg, all_or_any)\u001b[0m\n\u001b[0;32m   1220\u001b[0m \u001b[1;33m\u001b[0m\u001b[0m\n\u001b[0;32m   1221\u001b[0m     \u001b[1;32mif\u001b[0m \u001b[1;32mnot\u001b[0m \u001b[0mfitted\u001b[0m\u001b[1;33m:\u001b[0m\u001b[1;33m\u001b[0m\u001b[1;33m\u001b[0m\u001b[0m\n\u001b[1;32m-> 1222\u001b[1;33m         \u001b[1;32mraise\u001b[0m \u001b[0mNotFittedError\u001b[0m\u001b[1;33m(\u001b[0m\u001b[0mmsg\u001b[0m \u001b[1;33m%\u001b[0m \u001b[1;33m{\u001b[0m\u001b[1;34m\"name\"\u001b[0m\u001b[1;33m:\u001b[0m \u001b[0mtype\u001b[0m\u001b[1;33m(\u001b[0m\u001b[0mestimator\u001b[0m\u001b[1;33m)\u001b[0m\u001b[1;33m.\u001b[0m\u001b[0m__name__\u001b[0m\u001b[1;33m}\u001b[0m\u001b[1;33m)\u001b[0m\u001b[1;33m\u001b[0m\u001b[1;33m\u001b[0m\u001b[0m\n\u001b[0m\u001b[0;32m   1223\u001b[0m \u001b[1;33m\u001b[0m\u001b[0m\n\u001b[0;32m   1224\u001b[0m \u001b[1;33m\u001b[0m\u001b[0m\n",
      "\u001b[1;31mNotFittedError\u001b[0m: This ColumnTransformer instance is not fitted yet. Call 'fit' with appropriate arguments before using this estimator."
     ]
    }
   ],
   "source": [
    "some_data_prepared = full_pipeline.transform(some_data)"
   ]
  },
  {
   "cell_type": "code",
   "execution_count": 242,
   "metadata": {
    "colab": {
     "base_uri": "https://localhost:8080/"
    },
    "executionInfo": {
     "elapsed": 10,
     "status": "ok",
     "timestamp": 1702974363742,
     "user": {
      "displayName": "Prabir Mondal",
      "userId": "02617277053786140042"
     },
     "user_tz": -330
    },
    "id": "U8BSrhqhjZEZ",
    "outputId": "31002c0b-2566-49ba-eb3b-e9d002588fb0"
   },
   "outputs": [
    {
     "name": "stdout",
     "output_type": "stream",
     "text": [
      "Predictions:  [ 85657.90192014 305492.60737488 152056.46122456 186095.70946094\n",
      " 244550.67966089]\n"
     ]
    }
   ],
   "source": [
    "print(\"Predictions: \", lin_reg.predict(some_data_prepared))"
   ]
  },
  {
   "cell_type": "code",
   "execution_count": 243,
   "metadata": {
    "colab": {
     "base_uri": "https://localhost:8080/"
    },
    "executionInfo": {
     "elapsed": 9,
     "status": "ok",
     "timestamp": 1702974363743,
     "user": {
      "displayName": "Prabir Mondal",
      "userId": "02617277053786140042"
     },
     "user_tz": -330
    },
    "id": "Ph87qsHkjZEZ",
    "outputId": "ffcd6212-ec0e-45fb-aa00-bf1aa76a16aa"
   },
   "outputs": [
    {
     "name": "stdout",
     "output_type": "stream",
     "text": [
      "Labels:  [72100.0, 279600.0, 82700.0, 112500.0, 238300.0]\n"
     ]
    }
   ],
   "source": [
    "print(\"Labels: \", some_labels.tolist())"
   ]
  },
  {
   "cell_type": "markdown",
   "metadata": {
    "id": "dSJwHJkJjZEZ"
   },
   "source": [
    "It works, although the predictions are not exactly accurate.\n",
    "\n",
    "Let's measure the performance of our model using the RMSE metric."
   ]
  },
  {
   "cell_type": "code",
   "execution_count": 244,
   "metadata": {
    "executionInfo": {
     "elapsed": 5,
     "status": "ok",
     "timestamp": 1702974365962,
     "user": {
      "displayName": "Prabir Mondal",
      "userId": "02617277053786140042"
     },
     "user_tz": -330
    },
    "id": "nLeM-XpKjZEZ"
   },
   "outputs": [],
   "source": [
    "from sklearn.metrics import mean_squared_error"
   ]
  },
  {
   "cell_type": "code",
   "execution_count": 245,
   "metadata": {
    "executionInfo": {
     "elapsed": 5,
     "status": "ok",
     "timestamp": 1702974366703,
     "user": {
      "displayName": "Prabir Mondal",
      "userId": "02617277053786140042"
     },
     "user_tz": -330
    },
    "id": "6OU3ELbyjZEa"
   },
   "outputs": [],
   "source": [
    "housing_predictions = lin_reg.predict(housing_prepared)"
   ]
  },
  {
   "cell_type": "code",
   "execution_count": 246,
   "metadata": {
    "executionInfo": {
     "elapsed": 3,
     "status": "ok",
     "timestamp": 1702974367426,
     "user": {
      "displayName": "Prabir Mondal",
      "userId": "02617277053786140042"
     },
     "user_tz": -330
    },
    "id": "XhqHmsTojZEa"
   },
   "outputs": [],
   "source": [
    "lin_mse = mean_squared_error(housing_labels, housing_predictions)"
   ]
  },
  {
   "cell_type": "code",
   "execution_count": 247,
   "metadata": {
    "colab": {
     "base_uri": "https://localhost:8080/"
    },
    "executionInfo": {
     "elapsed": 3,
     "status": "ok",
     "timestamp": 1702974370160,
     "user": {
      "displayName": "Prabir Mondal",
      "userId": "02617277053786140042"
     },
     "user_tz": -330
    },
    "id": "QNxE-WTvjZEa",
    "outputId": "8d1c1fef-99df-4ac1-91ca-ab2b15ebaf70"
   },
   "outputs": [
    {
     "data": {
      "text/plain": [
       "68627.87390018745"
      ]
     },
     "execution_count": 247,
     "metadata": {},
     "output_type": "execute_result"
    }
   ],
   "source": [
    "lin_rmse = np.sqrt(lin_mse)\n",
    "lin_rmse"
   ]
  },
  {
   "cell_type": "markdown",
   "metadata": {
    "id": "Z1BwrUdujZEa"
   },
   "source": [
    "Most districts median housing values range between 120K to 265K, so an average error of 68K is not good.\n",
    "\n",
    "This is an example of a model overfitting the data. When this happens, it can mean two things:\n",
    "- The features do not provide enough information to make better predictions.\n",
    "- The model is not powerful enough, meaning its hypothesis space is narrow.\n",
    "\n",
    "The main ways to tackle underfitting:\n",
    "- To feed the model better features.\n",
    "- To select a more powerful model.\n",
    "- To loosen the model's restrictions.\n",
    "\n",
    "This model is not regularized, which rules out the last option. We could try to input more features, but let's start by testing a more powerful model.\n",
    "\n",
    "Let's try out `DecisionTreeRegressor`, this is a powerful model, capable of finding non-linear relationships within the data:"
   ]
  },
  {
   "cell_type": "code",
   "execution_count": 248,
   "metadata": {
    "executionInfo": {
     "elapsed": 3,
     "status": "ok",
     "timestamp": 1702974370841,
     "user": {
      "displayName": "Prabir Mondal",
      "userId": "02617277053786140042"
     },
     "user_tz": -330
    },
    "id": "tneNzFxRjZEa"
   },
   "outputs": [],
   "source": [
    "from sklearn.tree import DecisionTreeRegressor"
   ]
  },
  {
   "cell_type": "code",
   "execution_count": null,
   "metadata": {
    "id": "CRPg_QZqLudp"
   },
   "outputs": [],
   "source": []
  },
  {
   "cell_type": "code",
   "execution_count": null,
   "metadata": {
    "id": "ivNAmNVwLuhu"
   },
   "outputs": [],
   "source": []
  },
  {
   "cell_type": "code",
   "execution_count": null,
   "metadata": {
    "id": "uIVTQnq1Lukj"
   },
   "outputs": [],
   "source": []
  },
  {
   "cell_type": "code",
   "execution_count": null,
   "metadata": {
    "id": "EJpep-ATLunP"
   },
   "outputs": [],
   "source": []
  },
  {
   "cell_type": "code",
   "execution_count": null,
   "metadata": {
    "id": "wqX29kRoLuqC"
   },
   "outputs": [],
   "source": []
  },
  {
   "cell_type": "code",
   "execution_count": null,
   "metadata": {
    "id": "Z7wniuC4Lusr"
   },
   "outputs": [],
   "source": []
  },
  {
   "cell_type": "code",
   "execution_count": null,
   "metadata": {
    "id": "dX_Es5s9Luu5"
   },
   "outputs": [],
   "source": []
  },
  {
   "cell_type": "code",
   "execution_count": 145,
   "metadata": {
    "executionInfo": {
     "elapsed": 2,
     "status": "ok",
     "timestamp": 1702968207189,
     "user": {
      "displayName": "Prabir Mondal",
      "userId": "02617277053786140042"
     },
     "user_tz": -330
    },
    "id": "gPNdEf-AjZEa"
   },
   "outputs": [],
   "source": [
    "tree_reg = DecisionTreeRegressor()"
   ]
  },
  {
   "cell_type": "code",
   "execution_count": 146,
   "metadata": {
    "colab": {
     "base_uri": "https://localhost:8080/",
     "height": 75
    },
    "executionInfo": {
     "elapsed": 28,
     "status": "ok",
     "timestamp": 1702968208299,
     "user": {
      "displayName": "Prabir Mondal",
      "userId": "02617277053786140042"
     },
     "user_tz": -330
    },
    "id": "B98t-SHPjZEb",
    "outputId": "09eca33a-8755-40fa-d1ed-8071832fc804"
   },
   "outputs": [
    {
     "data": {
      "text/html": [
       "<style>#sk-container-id-4 {color: black;background-color: white;}#sk-container-id-4 pre{padding: 0;}#sk-container-id-4 div.sk-toggleable {background-color: white;}#sk-container-id-4 label.sk-toggleable__label {cursor: pointer;display: block;width: 100%;margin-bottom: 0;padding: 0.3em;box-sizing: border-box;text-align: center;}#sk-container-id-4 label.sk-toggleable__label-arrow:before {content: \"▸\";float: left;margin-right: 0.25em;color: #696969;}#sk-container-id-4 label.sk-toggleable__label-arrow:hover:before {color: black;}#sk-container-id-4 div.sk-estimator:hover label.sk-toggleable__label-arrow:before {color: black;}#sk-container-id-4 div.sk-toggleable__content {max-height: 0;max-width: 0;overflow: hidden;text-align: left;background-color: #f0f8ff;}#sk-container-id-4 div.sk-toggleable__content pre {margin: 0.2em;color: black;border-radius: 0.25em;background-color: #f0f8ff;}#sk-container-id-4 input.sk-toggleable__control:checked~div.sk-toggleable__content {max-height: 200px;max-width: 100%;overflow: auto;}#sk-container-id-4 input.sk-toggleable__control:checked~label.sk-toggleable__label-arrow:before {content: \"▾\";}#sk-container-id-4 div.sk-estimator input.sk-toggleable__control:checked~label.sk-toggleable__label {background-color: #d4ebff;}#sk-container-id-4 div.sk-label input.sk-toggleable__control:checked~label.sk-toggleable__label {background-color: #d4ebff;}#sk-container-id-4 input.sk-hidden--visually {border: 0;clip: rect(1px 1px 1px 1px);clip: rect(1px, 1px, 1px, 1px);height: 1px;margin: -1px;overflow: hidden;padding: 0;position: absolute;width: 1px;}#sk-container-id-4 div.sk-estimator {font-family: monospace;background-color: #f0f8ff;border: 1px dotted black;border-radius: 0.25em;box-sizing: border-box;margin-bottom: 0.5em;}#sk-container-id-4 div.sk-estimator:hover {background-color: #d4ebff;}#sk-container-id-4 div.sk-parallel-item::after {content: \"\";width: 100%;border-bottom: 1px solid gray;flex-grow: 1;}#sk-container-id-4 div.sk-label:hover label.sk-toggleable__label {background-color: #d4ebff;}#sk-container-id-4 div.sk-serial::before {content: \"\";position: absolute;border-left: 1px solid gray;box-sizing: border-box;top: 0;bottom: 0;left: 50%;z-index: 0;}#sk-container-id-4 div.sk-serial {display: flex;flex-direction: column;align-items: center;background-color: white;padding-right: 0.2em;padding-left: 0.2em;position: relative;}#sk-container-id-4 div.sk-item {position: relative;z-index: 1;}#sk-container-id-4 div.sk-parallel {display: flex;align-items: stretch;justify-content: center;background-color: white;position: relative;}#sk-container-id-4 div.sk-item::before, #sk-container-id-4 div.sk-parallel-item::before {content: \"\";position: absolute;border-left: 1px solid gray;box-sizing: border-box;top: 0;bottom: 0;left: 50%;z-index: -1;}#sk-container-id-4 div.sk-parallel-item {display: flex;flex-direction: column;z-index: 1;position: relative;background-color: white;}#sk-container-id-4 div.sk-parallel-item:first-child::after {align-self: flex-end;width: 50%;}#sk-container-id-4 div.sk-parallel-item:last-child::after {align-self: flex-start;width: 50%;}#sk-container-id-4 div.sk-parallel-item:only-child::after {width: 0;}#sk-container-id-4 div.sk-dashed-wrapped {border: 1px dashed gray;margin: 0 0.4em 0.5em 0.4em;box-sizing: border-box;padding-bottom: 0.4em;background-color: white;}#sk-container-id-4 div.sk-label label {font-family: monospace;font-weight: bold;display: inline-block;line-height: 1.2em;}#sk-container-id-4 div.sk-label-container {text-align: center;}#sk-container-id-4 div.sk-container {/* jupyter's `normalize.less` sets `[hidden] { display: none; }` but bootstrap.min.css set `[hidden] { display: none !important; }` so we also need the `!important` here to be able to override the default hidden behavior on the sphinx rendered scikit-learn.org. See: https://github.com/scikit-learn/scikit-learn/issues/21755 */display: inline-block !important;position: relative;}#sk-container-id-4 div.sk-text-repr-fallback {display: none;}</style><div id=\"sk-container-id-4\" class=\"sk-top-container\"><div class=\"sk-text-repr-fallback\"><pre>DecisionTreeRegressor()</pre><b>In a Jupyter environment, please rerun this cell to show the HTML representation or trust the notebook. <br />On GitHub, the HTML representation is unable to render, please try loading this page with nbviewer.org.</b></div><div class=\"sk-container\" hidden><div class=\"sk-item\"><div class=\"sk-estimator sk-toggleable\"><input class=\"sk-toggleable__control sk-hidden--visually\" id=\"sk-estimator-id-4\" type=\"checkbox\" checked><label for=\"sk-estimator-id-4\" class=\"sk-toggleable__label sk-toggleable__label-arrow\">DecisionTreeRegressor</label><div class=\"sk-toggleable__content\"><pre>DecisionTreeRegressor()</pre></div></div></div></div></div>"
      ],
      "text/plain": [
       "DecisionTreeRegressor()"
      ]
     },
     "execution_count": 146,
     "metadata": {},
     "output_type": "execute_result"
    }
   ],
   "source": [
    "tree_reg.fit(X=housing_prepared, y=housing_labels)"
   ]
  },
  {
   "cell_type": "markdown",
   "metadata": {
    "id": "WTb5VOvTjZEb"
   },
   "source": [
    "Now that the model is trained, let's evaluate its performance on the training set:"
   ]
  },
  {
   "cell_type": "code",
   "execution_count": null,
   "metadata": {
    "id": "F0qVMcIhjZEb"
   },
   "outputs": [],
   "source": [
    "housing_predictions = tree_reg.predict(housing_prepared)"
   ]
  },
  {
   "cell_type": "code",
   "execution_count": null,
   "metadata": {
    "id": "Fg_7cvpnjZEb"
   },
   "outputs": [],
   "source": [
    "tree_mse = mean_squared_error(y_true=housing_labels, y_pred=housing_predictions)"
   ]
  },
  {
   "cell_type": "code",
   "execution_count": null,
   "metadata": {
    "id": "-NxhbFFyjZEb",
    "outputId": "1e1cdc95-709b-43c5-a9b7-d51f4f8539f5"
   },
   "outputs": [
    {
     "data": {
      "text/plain": [
       "0.0"
      ]
     },
     "execution_count": 106,
     "metadata": {},
     "output_type": "execute_result"
    }
   ],
   "source": [
    "tree_rmse = np.sqrt(tree_mse)\n",
    "tree_rmse"
   ]
  },
  {
   "cell_type": "markdown",
   "metadata": {
    "id": "JkDvARKGjZEb"
   },
   "source": [
    "It is either the model is absolutely perfect, or it badly overfit the data.\n",
    "\n",
    "As we know, we shouldn't touch the test set until we are ready for deployment. The solution is to partition the training data itself and extract a validation set."
   ]
  },
  {
   "cell_type": "markdown",
   "metadata": {
    "id": "V5uk2RzqjZEc"
   },
   "source": [
    "### Better Evaluation using Cross-Validation\n",
    "\n",
    "One way to evaluate our model is to use `train_test_split()` again on the training set, extract a validation set and evaluate our iterative models on it.\n",
    "\n",
    "A great alternative is to use K-fold cross-validation. We randomly split the training data into 10 folds, we iteratively train the model on 9 folds and evaluate on 1, doing this 10 times.\n",
    "\n",
    "We will endup with `10` metric scores:"
   ]
  },
  {
   "cell_type": "code",
   "execution_count": null,
   "metadata": {
    "id": "A6cUkm4IjZEc"
   },
   "outputs": [],
   "source": [
    "from sklearn.model_selection import cross_val_score"
   ]
  },
  {
   "cell_type": "code",
   "execution_count": null,
   "metadata": {
    "id": "852mktLLjZEc"
   },
   "outputs": [],
   "source": [
    "scores = cross_val_score(estimator=tree_reg, X=housing_prepared,\n",
    "                         y=housing_labels, scoring='neg_mean_squared_error', cv=10)"
   ]
  },
  {
   "cell_type": "code",
   "execution_count": null,
   "metadata": {
    "id": "nK5IQ0lKjZEc"
   },
   "outputs": [],
   "source": [
    "tree_rmse_scores = np.sqrt(-scores)"
   ]
  },
  {
   "cell_type": "markdown",
   "metadata": {
    "id": "KX9Rmkg4jZEc"
   },
   "source": [
    "`scikit-learn`'s cross validation features expect a utility function (the greater the better) rather than a cost function (the lower the better). That's why we used `ned_mean_squared_error` and we negated it at RMSE evaluation\n",
    "\n",
    "Let's look at the results:"
   ]
  },
  {
   "cell_type": "code",
   "execution_count": null,
   "metadata": {
    "id": "ekeVDIQSjZEd"
   },
   "outputs": [],
   "source": [
    "def display_scores(scores):\n",
    "    \"\"\"Displays the scores, their mean, and the standard deviation.\n",
    "\n",
    "    # Arguments:\n",
    "        scores, np.array: list of scores given by the cross validation procedure.\n",
    "    \"\"\"\n",
    "    print(\"Scores:\", scores)\n",
    "    print(\"Mean:\", scores.mean())\n",
    "    print(\"Standard Deviation:\", scores.std())"
   ]
  },
  {
   "cell_type": "code",
   "execution_count": null,
   "metadata": {
    "id": "_KBcsai_jZEd",
    "outputId": "2be86bd4-6237-4f78-e182-b454d1b405f7"
   },
   "outputs": [
    {
     "name": "stdout",
     "output_type": "stream",
     "text": [
      "Scores: [70295.85879837 67208.2294927  71916.75200996 68928.55067415\n",
      " 71046.20989839 73194.27731825 69429.16053652 71235.46411182\n",
      " 75889.22508973 70339.47885913]\n",
      "Mean: 70948.3206789036\n",
      "Standard Deviation: 2272.8560419542605\n"
     ]
    }
   ],
   "source": [
    "display_scores(tree_rmse_scores)"
   ]
  },
  {
   "cell_type": "markdown",
   "metadata": {
    "id": "lVdQyJk6jZEd"
   },
   "source": [
    "The decision tree seems to perform worse than the linear regression model!\n",
    "\n",
    "We should notice that cross validation allows us to not only get an estimate of the performance of your model (mean), but how precise it is (std). We would not have this estimation if we used only one validation set. However, cross-validation comes at the cost of training the model several times, which is not always possible.\n",
    "\n",
    "Let's compute the same scores for the linear regression model just to be sure:"
   ]
  },
  {
   "cell_type": "code",
   "execution_count": null,
   "metadata": {
    "id": "zkrMoivljZEd"
   },
   "outputs": [],
   "source": [
    "scores = cross_val_score(estimator=lin_reg, X=housing_prepared,\n",
    "                         y=housing_labels, scoring='neg_mean_squared_error', cv=10)"
   ]
  },
  {
   "cell_type": "code",
   "execution_count": null,
   "metadata": {
    "id": "uCr2WsrrjZEd"
   },
   "outputs": [],
   "source": [
    "lin_rmse_scores = np.sqrt(-scores)"
   ]
  },
  {
   "cell_type": "code",
   "execution_count": null,
   "metadata": {
    "id": "UXaIW9cpjZEd",
    "outputId": "16799a07-5bf7-4959-d197-af00b1552f63"
   },
   "outputs": [
    {
     "name": "stdout",
     "output_type": "stream",
     "text": [
      "Scores: [66782.73843989 66960.118071   70347.95244419 74739.57052552\n",
      " 68031.13388938 71193.84183426 64969.63056405 68281.61137997\n",
      " 71552.91566558 67665.10082067]\n",
      "Mean: 69052.46136345083\n",
      "Standard Deviation: 2731.6740017983493\n"
     ]
    }
   ],
   "source": [
    "display_scores(lin_rmse_scores)"
   ]
  },
  {
   "cell_type": "markdown",
   "metadata": {
    "id": "hp2DSv-wjZEe"
   },
   "source": [
    "That's right! the decision tree model is overfitting so badly that it performs worse than the linear regression model.\n",
    "\n",
    "Let's try one last model now, the random forest regressor. Random forests work by training many decision trees on random feature subsets then average out their predictions.\n",
    "\n",
    "Building a model on top of many other models is called **Ensemble Learning**."
   ]
  },
  {
   "cell_type": "code",
   "execution_count": null,
   "metadata": {
    "id": "L578FXRojZEe"
   },
   "outputs": [],
   "source": [
    "from sklearn.ensemble import RandomForestRegressor"
   ]
  },
  {
   "cell_type": "code",
   "execution_count": null,
   "metadata": {
    "id": "8TRr2fydjZEe"
   },
   "outputs": [],
   "source": [
    "forest_reg = RandomForestRegressor()"
   ]
  },
  {
   "cell_type": "code",
   "execution_count": null,
   "metadata": {
    "id": "TcF8IaghjZEe",
    "outputId": "2f58ce87-04ba-4a7b-f729-54305daf2887"
   },
   "outputs": [
    {
     "name": "stderr",
     "output_type": "stream",
     "text": [
      "//miniconda3/envs/research/lib/python3.7/site-packages/sklearn/ensemble/forest.py:245: FutureWarning: The default value of n_estimators will change from 10 in version 0.20 to 100 in 0.22.\n",
      "  \"10 in version 0.20 to 100 in 0.22.\", FutureWarning)\n"
     ]
    },
    {
     "data": {
      "text/plain": [
       "RandomForestRegressor(bootstrap=True, criterion='mse', max_depth=None,\n",
       "                      max_features='auto', max_leaf_nodes=None,\n",
       "                      min_impurity_decrease=0.0, min_impurity_split=None,\n",
       "                      min_samples_leaf=1, min_samples_split=2,\n",
       "                      min_weight_fraction_leaf=0.0, n_estimators=10,\n",
       "                      n_jobs=None, oob_score=False, random_state=None,\n",
       "                      verbose=0, warm_start=False)"
      ]
     },
     "execution_count": 117,
     "metadata": {},
     "output_type": "execute_result"
    }
   ],
   "source": [
    "forest_reg.fit(X=housing_prepared, y=housing_labels)"
   ]
  },
  {
   "cell_type": "code",
   "execution_count": null,
   "metadata": {
    "id": "Y87lqRTbjZEe"
   },
   "outputs": [],
   "source": [
    "forest_mse = mean_squared_error(y_true=housing_labels, y_pred=forest_reg.predict(X=housing_prepared))"
   ]
  },
  {
   "cell_type": "code",
   "execution_count": null,
   "metadata": {
    "id": "EPtIsY7cjZEe",
    "outputId": "f0cbbfa4-55bf-4489-bb9a-b1a6c027915f"
   },
   "outputs": [
    {
     "data": {
      "text/plain": [
       "22029.216324549794"
      ]
     },
     "execution_count": 119,
     "metadata": {},
     "output_type": "execute_result"
    }
   ],
   "source": [
    "forest_rmse = np.sqrt(forest_mse)\n",
    "forest_rmse"
   ]
  },
  {
   "cell_type": "code",
   "execution_count": null,
   "metadata": {
    "id": "kn6b3JSHjZEe"
   },
   "outputs": [],
   "source": [
    "scores = cross_val_score(estimator=forest_reg, X=housing_prepared,\n",
    "                         y=housing_labels, scoring='neg_mean_squared_error', cv=10)"
   ]
  },
  {
   "cell_type": "code",
   "execution_count": null,
   "metadata": {
    "id": "sBewtAc5jZEe"
   },
   "outputs": [],
   "source": [
    "forest_rmse_scores = np.sqrt(-scores)"
   ]
  },
  {
   "cell_type": "code",
   "execution_count": null,
   "metadata": {
    "id": "txslvRBijZEe",
    "outputId": "34932b38-83d7-4793-e5aa-fbf3909dfc11"
   },
   "outputs": [
    {
     "name": "stdout",
     "output_type": "stream",
     "text": [
      "Scores: [52402.35340164 49150.98777662 51917.13835708 55214.67790364\n",
      " 51984.68506744 57732.63314668 51068.95231905 50490.24426029\n",
      " 55393.77710271 52942.68273899]\n",
      "Mean: 52829.813207413725\n",
      "Standard Deviation: 2452.545263218794\n"
     ]
    }
   ],
   "source": [
    "display_scores(scores=forest_rmse_scores)"
   ]
  },
  {
   "cell_type": "markdown",
   "metadata": {
    "id": "00EeQuwUjZEf"
   },
   "source": [
    "This is much better, random forests seem very promissing. We should notice, however, that the RMSE on the training set is still much lower then the validation RMSE, meaning the model overfitted, but not as badly as the decision tree model. Possible solutions to overfitting are:\n",
    "- Getting more training data\n",
    "- Simplifying the model\n",
    "- Regularizing the model\n",
    "\n",
    "We should save any model after training so that we can come back to it at any time you want. We make sure to save both the hyper-parameters and the parameters (weights) of the model. We can easily save scikit-learn models using Python's `joblib`:"
   ]
  },
  {
   "cell_type": "code",
   "execution_count": null,
   "metadata": {
    "id": "MWsRRO84jZEf"
   },
   "outputs": [],
   "source": [
    "import joblib"
   ]
  },
  {
   "cell_type": "code",
   "execution_count": null,
   "metadata": {
    "id": "H472ezhKjZEf",
    "outputId": "b45b42dd-3b76-48e9-c3e8-ab919f50d900"
   },
   "outputs": [
    {
     "data": {
      "text/plain": [
       "['models/01/forest_reg.m']"
      ]
     },
     "execution_count": 124,
     "metadata": {},
     "output_type": "execute_result"
    }
   ],
   "source": [
    "joblib.dump(value=forest_reg, filename='models/01/forest_reg.m')"
   ]
  },
  {
   "cell_type": "code",
   "execution_count": null,
   "metadata": {
    "id": "6hFrt-Q3jZEf"
   },
   "outputs": [],
   "source": [
    "# & later\n",
    "forest_reg = joblib.load(filename='models/01/forest_reg.m')"
   ]
  },
  {
   "cell_type": "markdown",
   "metadata": {
    "id": "WyDzeTV2jZEg"
   },
   "source": [
    "## 6. Fine-Tune Your Model\n",
    "\n",
    "Let's assume we have a short list of promising models, now we want to find a way to fine-tune them, let's do that:"
   ]
  },
  {
   "cell_type": "markdown",
   "metadata": {
    "id": "6eNfpogxjZEg"
   },
   "source": [
    "### Grid Search\n",
    "\n",
    "One option would be to try out many hyper-parameters manually, but this would be considered tedious work and we might not even have the time to do it. Instead, we should just use scikit-learn's `GridSearchCV`.\n",
    "\n",
    "We just tell it which hyper-parameters and values to test and it will test out all combinations of hyper-parameters and use cross-validation for evaluation."
   ]
  },
  {
   "cell_type": "code",
   "execution_count": null,
   "metadata": {
    "id": "yztMhve3jZEg"
   },
   "outputs": [],
   "source": [
    "from sklearn.model_selection import GridSearchCV"
   ]
  },
  {
   "cell_type": "code",
   "execution_count": null,
   "metadata": {
    "id": "Phx9y-QgjZEg"
   },
   "outputs": [],
   "source": [
    "param_grid = [\n",
    "    {'n_estimators': [3, 10, 30], 'max_features': [2, 4, 6, 8]},\n",
    "    {'bootstrap': [False], 'n_estimators': [3, 10], 'max_features': [2, 3, 4]}\n",
    "]"
   ]
  },
  {
   "cell_type": "code",
   "execution_count": null,
   "metadata": {
    "id": "Zs8eFYpCjZEg"
   },
   "outputs": [],
   "source": [
    "forest_reg = RandomForestRegressor()"
   ]
  },
  {
   "cell_type": "code",
   "execution_count": null,
   "metadata": {
    "id": "L0X6NJ8KjZEg"
   },
   "outputs": [],
   "source": [
    "grid_search = GridSearchCV(estimator=forest_reg, param_grid=param_grid, scoring='neg_mean_squared_error', cv=5, return_train_score=True, n_jobs=-1)"
   ]
  },
  {
   "cell_type": "code",
   "execution_count": null,
   "metadata": {
    "id": "Mwq7WwyijZEg",
    "outputId": "98d5ee96-6b16-4bba-ed8b-9a429e138ce8"
   },
   "outputs": [
    {
     "data": {
      "text/plain": [
       "GridSearchCV(cv=5, error_score='raise-deprecating',\n",
       "             estimator=RandomForestRegressor(bootstrap=True, criterion='mse',\n",
       "                                             max_depth=None,\n",
       "                                             max_features='auto',\n",
       "                                             max_leaf_nodes=None,\n",
       "                                             min_impurity_decrease=0.0,\n",
       "                                             min_impurity_split=None,\n",
       "                                             min_samples_leaf=1,\n",
       "                                             min_samples_split=2,\n",
       "                                             min_weight_fraction_leaf=0.0,\n",
       "                                             n_estimators='warn', n_jobs=None,\n",
       "                                             oob_score=False, random_state=None,\n",
       "                                             verbose=0, warm_start=False),\n",
       "             iid='warn', n_jobs=-1,\n",
       "             param_grid=[{'max_features': [2, 4, 6, 8],\n",
       "                          'n_estimators': [3, 10, 30]},\n",
       "                         {'bootstrap': [False], 'max_features': [2, 3, 4],\n",
       "                          'n_estimators': [3, 10]}],\n",
       "             pre_dispatch='2*n_jobs', refit=True, return_train_score=True,\n",
       "             scoring='neg_mean_squared_error', verbose=0)"
      ]
     },
     "execution_count": 132,
     "metadata": {},
     "output_type": "execute_result"
    }
   ],
   "source": [
    "grid_search.fit(X=housing_prepared, y=housing_labels)"
   ]
  },
  {
   "cell_type": "markdown",
   "metadata": {
    "id": "cdTZk_YyjZEg"
   },
   "source": [
    "If we can't guess an initial quality search grids, we can start with powers of 10 then zoom in once we have the best estimate.\n",
    "\n",
    "The model will first explore $3 \\times 4$ combinations of hyper-parameters, then jump to the 2nd hyper-parameter space and try $1 \\times 2 \\times 3$. For each combination, it will train 5 times using the cross validation strategy, all in all: It will train **90** different model variations."
   ]
  },
  {
   "cell_type": "code",
   "execution_count": null,
   "metadata": {
    "id": "RGu9HP30jZEg",
    "outputId": "790227d9-52e0-49f1-ec14-d7a7da2f3ceb"
   },
   "outputs": [
    {
     "data": {
      "text/plain": [
       "{'max_features': 8, 'n_estimators': 30}"
      ]
     },
     "execution_count": 133,
     "metadata": {},
     "output_type": "execute_result"
    }
   ],
   "source": [
    "grid_search.best_params_"
   ]
  },
  {
   "cell_type": "markdown",
   "metadata": {
    "id": "ba8lgW4ujZEh"
   },
   "source": [
    "We can also get the best estimator directly:"
   ]
  },
  {
   "cell_type": "code",
   "execution_count": null,
   "metadata": {
    "id": "stzKX2ZajZEh",
    "outputId": "82a141e3-7538-4039-b830-b66bc78c5568"
   },
   "outputs": [
    {
     "data": {
      "text/plain": [
       "RandomForestRegressor(bootstrap=True, criterion='mse', max_depth=None,\n",
       "                      max_features=8, max_leaf_nodes=None,\n",
       "                      min_impurity_decrease=0.0, min_impurity_split=None,\n",
       "                      min_samples_leaf=1, min_samples_split=2,\n",
       "                      min_weight_fraction_leaf=0.0, n_estimators=30,\n",
       "                      n_jobs=None, oob_score=False, random_state=None,\n",
       "                      verbose=0, warm_start=False)"
      ]
     },
     "execution_count": 134,
     "metadata": {},
     "output_type": "execute_result"
    }
   ],
   "source": [
    "grid_search.best_estimator_"
   ]
  },
  {
   "cell_type": "markdown",
   "metadata": {
    "id": "LuieLRSQjZEh"
   },
   "source": [
    "When `GridSearchCV` finds the best estimator, it will retrain it on the whole training set. This can be controlled by the parameter `refit=True` (by default)\n",
    "\n",
    "Re-training the best model on the whole training data is generally a good practice. & ofcoures, the evaluation scores are also available:"
   ]
  },
  {
   "cell_type": "code",
   "execution_count": null,
   "metadata": {
    "id": "s7FU9ctzjZEh"
   },
   "outputs": [],
   "source": [
    "cvres = grid_search.cv_results_"
   ]
  },
  {
   "cell_type": "code",
   "execution_count": null,
   "metadata": {
    "id": "ZLT5rHWbjZEh",
    "outputId": "7ac6135d-6256-4aad-abab-f4c606f02329"
   },
   "outputs": [
    {
     "name": "stdout",
     "output_type": "stream",
     "text": [
      "63751.20022020855 {'max_features': 2, 'n_estimators': 3}\n",
      "55370.922775715415 {'max_features': 2, 'n_estimators': 10}\n",
      "52904.227253068806 {'max_features': 2, 'n_estimators': 30}\n",
      "60731.88068265941 {'max_features': 4, 'n_estimators': 3}\n",
      "53108.94765264947 {'max_features': 4, 'n_estimators': 10}\n",
      "50435.77072997419 {'max_features': 4, 'n_estimators': 30}\n",
      "58821.23720793129 {'max_features': 6, 'n_estimators': 3}\n",
      "52418.38775416207 {'max_features': 6, 'n_estimators': 10}\n",
      "49815.96410841989 {'max_features': 6, 'n_estimators': 30}\n",
      "59453.91629016195 {'max_features': 8, 'n_estimators': 3}\n",
      "51895.55638084359 {'max_features': 8, 'n_estimators': 10}\n",
      "49807.061426784 {'max_features': 8, 'n_estimators': 30}\n",
      "62083.74010960627 {'bootstrap': False, 'max_features': 2, 'n_estimators': 3}\n",
      "54300.69562195466 {'bootstrap': False, 'max_features': 2, 'n_estimators': 10}\n",
      "60568.5849318819 {'bootstrap': False, 'max_features': 3, 'n_estimators': 3}\n",
      "52238.21182418438 {'bootstrap': False, 'max_features': 3, 'n_estimators': 10}\n",
      "58376.9906904098 {'bootstrap': False, 'max_features': 4, 'n_estimators': 3}\n",
      "51595.970549461395 {'bootstrap': False, 'max_features': 4, 'n_estimators': 10}\n"
     ]
    }
   ],
   "source": [
    "for mean_score, params in zip(cvres['mean_test_score'], cvres['params']):\n",
    "    print(np.sqrt(-mean_score), params)"
   ]
  },
  {
   "cell_type": "markdown",
   "metadata": {
    "id": "110bReoLjZEh"
   },
   "source": [
    "In this example, the best hyper-parameter combination is: `50110.7370892457 {'max_features': 6, 'n_estimators': 30}` with an average RMSE of $50110$. The model performs slightly better than a random forest with default hyper-parameters.\n",
    "\n",
    "We should not forget that we can treat some of the pre-processing steps as hyper-parameters to test if adding a feature is better for performance. We can do the same to functions around handling outliers, feature selection, scaling method, and more..."
   ]
  },
  {
   "cell_type": "markdown",
   "metadata": {
    "id": "wxwwX3LQjZEh"
   },
   "source": [
    "### Randomized Search\n",
    "\n",
    "The grid search is fine when you're exploring a few hyper-parameter combinations, but when the search space is big though, it is better to use `RandomizedSearchCV` instead. It works almost in the same way of a grid search, but it try out a limited randomly selected number of hyper-paraemeters for each iteration. This approach has two main benefits:\n",
    "\n",
    "- If we let this approach run for 1,000 iterations, it will explore 1,000 values for each hyper-parameters, instead of combining each unique value.\n",
    "- By setting the number of iterations, we can control computing resources much more effectively than doing Grid search."
   ]
  },
  {
   "cell_type": "markdown",
   "metadata": {
    "id": "AkMUwk5BjZEh"
   },
   "source": [
    "### Ensemble Methods\n",
    "\n",
    "Another way to fine-tune your model is to combine the models that work best. Usually, the ensemble model will perform better than any part of the model, especially if its models are producing different errors."
   ]
  },
  {
   "cell_type": "markdown",
   "metadata": {
    "id": "4BeaFbR0jZEi"
   },
   "source": [
    "### Analyze the best models & their errors\n",
    "\n",
    "We will often gain good insights about the problem by inspecting good models. For example, the random forest model can give us estimates over feature importance:"
   ]
  },
  {
   "cell_type": "code",
   "execution_count": null,
   "metadata": {
    "id": "7a0gF1d_jZEi",
    "outputId": "8bc6bb73-1907-4489-c214-c983d6ab9b9d"
   },
   "outputs": [
    {
     "data": {
      "text/plain": [
       "array([ 6,  6,  4,  1,  1,  1,  1, 32,  6, 11,  6,  0, 18,  0,  0,  0])"
      ]
     },
     "execution_count": 137,
     "metadata": {},
     "output_type": "execute_result"
    }
   ],
   "source": [
    "feature_importances = grid_search.best_estimator_.feature_importances_\n",
    "(feature_importances*100).astype(int)"
   ]
  },
  {
   "cell_type": "code",
   "execution_count": null,
   "metadata": {
    "id": "vfX_2sA9jZEi"
   },
   "outputs": [],
   "source": [
    "extra_attribs = [\"rooms_per_hhold\", \"pop_per_hhold\", \"bedrooms_per_room\"]"
   ]
  },
  {
   "cell_type": "code",
   "execution_count": null,
   "metadata": {
    "id": "dkqXBqmLjZEi"
   },
   "outputs": [],
   "source": [
    "cat_encoder = full_pipeline.named_transformers_['cat']"
   ]
  },
  {
   "cell_type": "code",
   "execution_count": null,
   "metadata": {
    "id": "OmP0JVsJjZEi"
   },
   "outputs": [],
   "source": [
    "cat_one_hot_attributes = cat_encoder.categories_[0].tolist()"
   ]
  },
  {
   "cell_type": "code",
   "execution_count": null,
   "metadata": {
    "id": "iwhRJdW6jZEi"
   },
   "outputs": [],
   "source": [
    "attributes = num_attribs + extra_attribs + cat_one_hot_attributes"
   ]
  },
  {
   "cell_type": "code",
   "execution_count": null,
   "metadata": {
    "id": "N-Unh80jjZEi",
    "outputId": "28673175-f4c5-4ad7-c6c5-8ef6bd102b25"
   },
   "outputs": [
    {
     "data": {
      "text/plain": [
       "{0.06614195992562232: 'longitude',\n",
       " 0.06344029958610363: 'latitude',\n",
       " 0.04469855412347374: 'housing_median_age',\n",
       " 0.015494148837422152: 'total_rooms',\n",
       " 0.014381096417454978: 'total_bedrooms',\n",
       " 0.015314670216386326: 'population',\n",
       " 0.014510586727973786: 'households',\n",
       " 0.3256163085267954: 'median_income',\n",
       " 0.06813486800603749: 'rooms_per_hhold',\n",
       " 0.11376029387676202: 'pop_per_hhold',\n",
       " 0.06515241883166968: 'bedrooms_per_room',\n",
       " 0.002568336193539316: '<1H OCEAN',\n",
       " 0.18594650472353433: 'INLAND',\n",
       " 0.00010550288726181512: 'ISLAND',\n",
       " 0.0017313638948778165: 'NEAR BAY',\n",
       " 0.003003087225085202: 'NEAR OCEAN'}"
      ]
     },
     "execution_count": 142,
     "metadata": {},
     "output_type": "execute_result"
    }
   ],
   "source": [
    "# sorted(zip(feature_importances, attributes), reverse=True)\n",
    "dict(zip(feature_importances, attributes))"
   ]
  },
  {
   "cell_type": "markdown",
   "metadata": {
    "id": "q79hwWPkjZEi"
   },
   "source": [
    "With this information, we might want to start dropping some of the attributes to simplify the model (ex. only one `ocean_proximity` value is important).\n",
    "\n",
    "We should also take a look at how our systems makes mistakes, try to know why, and fix that from a data engineering/model perspective."
   ]
  },
  {
   "cell_type": "markdown",
   "metadata": {
    "id": "7T42eal2jZEi"
   },
   "source": [
    "### Evaluate your system on the test set\n",
    "\n",
    "After tweaking the system for a while, we finally have a model that can be evaluated on the test set. There is nothing special about this process, we reproduce the same steps you used with training data to benchmark the model.\n",
    "\n",
    "However, we should call `transform()`, and not `fit_transform()`."
   ]
  },
  {
   "cell_type": "code",
   "execution_count": null,
   "metadata": {
    "id": "bOzFPdzVjZEj"
   },
   "outputs": [],
   "source": [
    "final_model = grid_search.best_estimator_"
   ]
  },
  {
   "cell_type": "code",
   "execution_count": null,
   "metadata": {
    "id": "m-ZZDMr2jZEj"
   },
   "outputs": [],
   "source": [
    "X_test = strat_test_set.drop(labels='median_house_value', axis=1)\n",
    "y_test = strat_test_set['median_house_value'].copy()"
   ]
  },
  {
   "cell_type": "code",
   "execution_count": null,
   "metadata": {
    "id": "DiD6tCpijZEj"
   },
   "outputs": [],
   "source": [
    "X_test_prepared = full_pipeline.transform(X=X_test)"
   ]
  },
  {
   "cell_type": "code",
   "execution_count": null,
   "metadata": {
    "id": "qPWReJ5AjZEj"
   },
   "outputs": [],
   "source": [
    "final_predictions = final_model.predict(X=X_test_prepared)"
   ]
  },
  {
   "cell_type": "code",
   "execution_count": null,
   "metadata": {
    "id": "F61l-F2yjZEj"
   },
   "outputs": [],
   "source": [
    "final_mse = mean_squared_error(y_true=y_test, y_pred=final_predictions)"
   ]
  },
  {
   "cell_type": "code",
   "execution_count": null,
   "metadata": {
    "id": "G1H9vy39jZEj",
    "outputId": "0e260420-dbce-4c44-ba9d-172a2c53f638"
   },
   "outputs": [
    {
     "data": {
      "text/plain": [
       "48739.038026174676"
      ]
     },
     "execution_count": 148,
     "metadata": {},
     "output_type": "execute_result"
    }
   ],
   "source": [
    "final_rmse = np.sqrt(final_mse)\n",
    "final_rmse"
   ]
  },
  {
   "cell_type": "markdown",
   "metadata": {
    "id": "R7OU3wbXjZEj"
   },
   "source": [
    "In some cases, such a point estimate of the generalization error won't be enough for us to launch it in production. We might want to create a confidence interval of 95% around the metric.\n",
    "\n",
    "For this, we use the individual predictions for each test set element."
   ]
  },
  {
   "cell_type": "code",
   "execution_count": null,
   "metadata": {
    "id": "3Tehj9HDjZEj"
   },
   "outputs": [],
   "source": [
    "from scipy import stats"
   ]
  },
  {
   "cell_type": "code",
   "execution_count": null,
   "metadata": {
    "id": "92a0KVhejZEk"
   },
   "outputs": [],
   "source": [
    "confidence = .95"
   ]
  },
  {
   "cell_type": "code",
   "execution_count": null,
   "metadata": {
    "id": "LmhRIxnZjZEk"
   },
   "outputs": [],
   "source": [
    "squared_errors = (y_test - final_predictions) ** 2"
   ]
  },
  {
   "cell_type": "code",
   "execution_count": null,
   "metadata": {
    "id": "86QJcSeKjZEk",
    "outputId": "c64b3539-f7ed-4f07-d39b-a69b40d1b1a2"
   },
   "outputs": [
    {
     "data": {
      "text/plain": [
       "array([46681.93025447, 50712.77002048])"
      ]
     },
     "execution_count": 152,
     "metadata": {},
     "output_type": "execute_result"
    }
   ],
   "source": [
    "np.sqrt(stats.t.interval(confidence, len(squared_errors) - 1, loc=squared_errors.mean(), scale=stats.sem(squared_errors)))"
   ]
  },
  {
   "cell_type": "markdown",
   "metadata": {
    "id": "7BzWHwqAjZEk"
   },
   "source": [
    "If we do a lot of hyper-parameter fine-tuning, we will endup with a slightly worse performance on the test set because we will sometimes overfit to the changing validation set. This didn't happen now, but when it happens, resist the temptation to go back and do more fine-tuning to have better results for the test set.\n",
    "\n",
    "If you want to improve your model, just start over again.\n",
    "\n",
    "Now that we are in the pre-launch phase, we should **Document Everything**:\n",
    "- Highlight what we have learned.\n",
    "- What worked & what did not.\n",
    "- What assumptions we made.\n",
    "- What our system's limitations are.\n",
    "\n",
    "We should create a clear presentation with nice visualizations and simple-to-remember statements.\n",
    "\n",
    "In our case with the California dataset, our system didn't actually beat the experts system (with 20% error). But management still decided to launch the service to free some time for its experts to work on other tasks."
   ]
  },
  {
   "cell_type": "markdown",
   "metadata": {
    "id": "JQohXUL6jZEk"
   },
   "source": [
    "## 7. Launch, Monitor, & Maintain your system\n",
    "\n",
    "Perfect, we got approval to launch. Now you need to get your solution ready for production (document code, write tests, ...).\n",
    "\n",
    "Then we can deploy your model to a production environment. One way to do this is to save the whole pre-processing pipeline, the predictor (using joblib) then load it into the production environment and use `.predict()` to output new predictions. We want to load the model upon server startup, rather than everytime it is used:\n",
    "\n",
    "<div style=\"text-align:center;\"><img style=\"width:50%;\" src=\"static/imgs/micro-services.png\"></div>\n",
    "\n",
    "We can hot-load the model within a web application, or alternatively, wrap the model around its own API end-point and design the web component separately. This will allow us to upgrade the model to new versions without interrupting the web server. The Second option also allows scalability around the micro-services architecture, another advantage is that we don't have to write the web app using Python.\n",
    "\n",
    "However, deploying is not the end of the story. We also need to write monitoring code to track the performance of the model within the live environment and send alerts when the performance drops. This can be caused by either bad system architecture or model rotting since trends do change over time.\n",
    "\n",
    "Sometimes, model performance can be inferred from downstream tasks. Like having a recommender system proposing products and then tracking sold recommended products to non-recommended products sold.\n",
    "\n",
    "Sometimes, It's not possible to determine the model's performance without human intervension. For example, a model that is supposed to detect errors in a production line for products. In that case, we would need to send a random sample of products that passed through and the model wasn't so sure about to be checked by a human expert.\n",
    "\n",
    "All of this can be a lot of work, and most of the times It'll be more work than training and building the whole model. If the data keeps evolving, we would need to re-train the model regularly.\n",
    "\n",
    "What we must do is automate the process as much as possible by doing the following:\n",
    "- Collecting fresh data regularly and labeling it.\n",
    "- Writing a script to train the model and fine-tune the hyper-parameters regularly.\n",
    "- Writing a script that evaluates the new model's vs previous model's performance on the new test set and deploy if the performance increased.\n",
    "\n",
    "We should also make sure to evaluate the model's input data quality by trigger an alert if:\n",
    "- More and more inputs are missing a feature.\n",
    "- The data's mean/std drifts too far from the training set ones.\n",
    "- A categorical feature starts containing new categories.\n",
    "        \n",
    "Finally, we must have a way to archive model history (save all exported models) and automate a way to roll back to previous ones. Also, keeping backups of every dataset we produce so we can roll back to any one and test combinations of dataset and model versions.\n",
    "\n",
    "We also would want to save different test sets that target different data properties (ex. a test set containing only recent data or a test set containing one category from a feature). This will help us analyze the strengths and weaknesses of the model.\n",
    "\n",
    "Much of the work is in the data preparation step. Building monitoring tools, setting up pre-processing pipelines, and having human evaluators.\n",
    "\n",
    "It's preferrable to be familiar with the overall process and know 2 or 3 ML algorithms very well than to invest our time in advanced algorithms without practical knowledge."
   ]
  },
  {
   "cell_type": "markdown",
   "metadata": {
    "id": "UapK-MT3jZEk"
   },
   "source": [
    "## Exercices"
   ]
  },
  {
   "cell_type": "markdown",
   "metadata": {
    "id": "vqeU-h0YjZEk"
   },
   "source": [
    "**1. Try a Support Vector Machine Regressor `sklearn.svm.SVR` with various hyper-parameters**\n",
    "- `kernel=\"linear\"` with various values for the `C` hyperparameter\n",
    "- `kernel=\"rbf\"` with various values for the `C` & `gamma` hyperparameters\n",
    "\n",
    "How does the best SVR predictor perform?"
   ]
  },
  {
   "cell_type": "code",
   "execution_count": null,
   "metadata": {
    "id": "oPpmNM-djZEk"
   },
   "outputs": [],
   "source": [
    "from sklearn.model_selection import GridSearchCV\n",
    "from sklearn.svm import SVR"
   ]
  },
  {
   "cell_type": "code",
   "execution_count": null,
   "metadata": {
    "id": "cds3qgtejZEl"
   },
   "outputs": [],
   "source": [
    "param_grid = [\n",
    "    {\n",
    "        'kernel': ['linear'],\n",
    "        'C': [10., 30., 100., 300., 1000., 3000., 10000., 30000.0]\n",
    "    },\n",
    "    {\n",
    "        'kernel': ['rbf'],\n",
    "        'C': [1.0, 3.0, 10., 30., 100., 300., 1000.0],\n",
    "        'gamma': [0.01, 0.03, 0.1, 0.3, 1.0, 3.0]\n",
    "    }\n",
    "]"
   ]
  },
  {
   "cell_type": "code",
   "execution_count": null,
   "metadata": {
    "id": "lkAlmn5XjZEl"
   },
   "outputs": [],
   "source": [
    "svm_reg = SVR()"
   ]
  },
  {
   "cell_type": "code",
   "execution_count": null,
   "metadata": {
    "id": "k9X6hvwpjZEl"
   },
   "outputs": [],
   "source": [
    "grid_search = GridSearchCV(estimator=svm_reg, param_grid=param_grid, cv=5, scoring=\"neg_mean_squared_error\", verbose=2, n_jobs=-1)"
   ]
  },
  {
   "cell_type": "code",
   "execution_count": null,
   "metadata": {
    "id": "jng7Bmo0jZEl",
    "outputId": "4056e2a1-d9d0-4f56-aa6c-ec6a6a9442c0"
   },
   "outputs": [
    {
     "name": "stdout",
     "output_type": "stream",
     "text": [
      "Fitting 5 folds for each of 50 candidates, totalling 250 fits\n"
     ]
    },
    {
     "name": "stderr",
     "output_type": "stream",
     "text": [
      "[Parallel(n_jobs=-1)]: Using backend LokyBackend with 4 concurrent workers.\n",
      "[Parallel(n_jobs=-1)]: Done  33 tasks      | elapsed:  1.9min\n",
      "[Parallel(n_jobs=-1)]: Done 154 tasks      | elapsed: 10.1min\n",
      "[Parallel(n_jobs=-1)]: Done 250 out of 250 | elapsed: 16.1min finished\n"
     ]
    },
    {
     "data": {
      "text/plain": [
       "GridSearchCV(cv=5, error_score='raise-deprecating',\n",
       "             estimator=SVR(C=1.0, cache_size=200, coef0=0.0, degree=3,\n",
       "                           epsilon=0.1, gamma='auto_deprecated', kernel='rbf',\n",
       "                           max_iter=-1, shrinking=True, tol=0.001,\n",
       "                           verbose=False),\n",
       "             iid='warn', n_jobs=-1,\n",
       "             param_grid=[{'C': [10.0, 30.0, 100.0, 300.0, 1000.0, 3000.0,\n",
       "                                10000.0, 30000.0],\n",
       "                          'kernel': ['linear']},\n",
       "                         {'C': [1.0, 3.0, 10.0, 30.0, 100.0, 300.0, 1000.0],\n",
       "                          'gamma': [0.01, 0.03, 0.1, 0.3, 1.0, 3.0],\n",
       "                          'kernel': ['rbf']}],\n",
       "             pre_dispatch='2*n_jobs', refit=True, return_train_score=False,\n",
       "             scoring='neg_mean_squared_error', verbose=2)"
      ]
     },
     "execution_count": 157,
     "metadata": {},
     "output_type": "execute_result"
    }
   ],
   "source": [
    "grid_search.fit(X=housing_prepared, y=housing_labels)"
   ]
  },
  {
   "cell_type": "code",
   "execution_count": null,
   "metadata": {
    "id": "Yo4rbxzFjZEl",
    "outputId": "53e3632a-3dba-47d7-98aa-5e1d3149882a"
   },
   "outputs": [
    {
     "data": {
      "text/plain": [
       "70363.90313964167"
      ]
     },
     "execution_count": 158,
     "metadata": {},
     "output_type": "execute_result"
    }
   ],
   "source": [
    "best_mse = grid_search.best_score_\n",
    "best_rmse = np.sqrt(-best_mse)\n",
    "best_rmse"
   ]
  },
  {
   "cell_type": "code",
   "execution_count": null,
   "metadata": {
    "id": "LDjskjF_jZEl",
    "outputId": "2395448d-5621-422e-a615-7f6d25636c43"
   },
   "outputs": [
    {
     "data": {
      "text/plain": [
       "{'C': 30000.0, 'kernel': 'linear'}"
      ]
     },
     "execution_count": 159,
     "metadata": {},
     "output_type": "execute_result"
    }
   ],
   "source": [
    "grid_search.best_params_"
   ]
  },
  {
   "cell_type": "markdown",
   "metadata": {
    "id": "eYd8ZzucjZEl"
   },
   "source": [
    "We note that the optimal value of `C` is at the maximum, naturally, we would want to launch a new grid search with even higher `C` values and removing smaller ones to minimize runtime."
   ]
  },
  {
   "cell_type": "markdown",
   "metadata": {
    "id": "J9AKXcRqjZEl"
   },
   "source": [
    "**2. Try replacing `GridSearchCV` with `RandomizedSearchCV`**"
   ]
  },
  {
   "cell_type": "code",
   "execution_count": null,
   "metadata": {
    "id": "Sj0jTVTijZEm"
   },
   "outputs": [],
   "source": [
    "from sklearn.model_selection import RandomizedSearchCV\n",
    "from scipy.stats import reciprocal, expon"
   ]
  },
  {
   "cell_type": "code",
   "execution_count": null,
   "metadata": {
    "id": "dya0ZUUnjZEm"
   },
   "outputs": [],
   "source": [
    "params_distribs = {\n",
    "    'kernel': ['linear', 'rbf'],\n",
    "    'C': reciprocal(20, 200000),\n",
    "    'gamma': expon(scale=1)\n",
    "}"
   ]
  },
  {
   "cell_type": "code",
   "execution_count": null,
   "metadata": {
    "id": "m2EDD3kujZEm"
   },
   "outputs": [],
   "source": [
    "svm_reg = SVR()"
   ]
  },
  {
   "cell_type": "code",
   "execution_count": null,
   "metadata": {
    "id": "E-FuDc8pjZEm"
   },
   "outputs": [],
   "source": [
    "random_search = RandomizedSearchCV(estimator=svm_reg, param_distributions=params_distribs,\n",
    "                                   scoring='neg_mean_squared_error', n_jobs=-1, cv=5, verbose=2)"
   ]
  },
  {
   "cell_type": "code",
   "execution_count": null,
   "metadata": {
    "id": "q2-NJkHRjZEm",
    "outputId": "0ea8557c-ca1a-49a2-df80-35c15a8e52a8"
   },
   "outputs": [
    {
     "name": "stdout",
     "output_type": "stream",
     "text": [
      "Fitting 5 folds for each of 10 candidates, totalling 50 fits\n"
     ]
    },
    {
     "name": "stderr",
     "output_type": "stream",
     "text": [
      "[Parallel(n_jobs=-1)]: Using backend LokyBackend with 4 concurrent workers.\n",
      "[Parallel(n_jobs=-1)]: Done  33 tasks      | elapsed:  3.2min\n",
      "[Parallel(n_jobs=-1)]: Done  50 out of  50 | elapsed:  4.2min finished\n"
     ]
    },
    {
     "data": {
      "text/plain": [
       "RandomizedSearchCV(cv=5, error_score='raise-deprecating',\n",
       "                   estimator=SVR(C=1.0, cache_size=200, coef0=0.0, degree=3,\n",
       "                                 epsilon=0.1, gamma='auto_deprecated',\n",
       "                                 kernel='rbf', max_iter=-1, shrinking=True,\n",
       "                                 tol=0.001, verbose=False),\n",
       "                   iid='warn', n_iter=10, n_jobs=-1,\n",
       "                   param_distributions={'C': <scipy.stats._distn_infrastructure.rv_frozen object at 0x1a274e60d0>,\n",
       "                                        'gamma': <scipy.stats._distn_infrastructure.rv_frozen object at 0x1a1d94fbd0>,\n",
       "                                        'kernel': ['linear', 'rbf']},\n",
       "                   pre_dispatch='2*n_jobs', random_state=None, refit=True,\n",
       "                   return_train_score=False, scoring='neg_mean_squared_error',\n",
       "                   verbose=2)"
      ]
     },
     "execution_count": 164,
     "metadata": {},
     "output_type": "execute_result"
    }
   ],
   "source": [
    "random_search.fit(X=housing_prepared, y=housing_labels)"
   ]
  },
  {
   "cell_type": "code",
   "execution_count": null,
   "metadata": {
    "id": "az7S5lFKjZEm",
    "outputId": "4d1b455b-fc5d-4cc9-de43-b7002dc1bbc4"
   },
   "outputs": [
    {
     "data": {
      "text/plain": [
       "60051.456669637686"
      ]
     },
     "execution_count": 165,
     "metadata": {},
     "output_type": "execute_result"
    }
   ],
   "source": [
    "best_mse = random_search.best_score_\n",
    "best_rmse = np.sqrt(-best_mse)\n",
    "best_rmse"
   ]
  },
  {
   "cell_type": "code",
   "execution_count": null,
   "metadata": {
    "id": "lnQMsKusjZEn",
    "outputId": "96c6fe6a-d5c3-4e22-e0e8-f96aebaf6c04"
   },
   "outputs": [
    {
     "data": {
      "text/plain": [
       "{'C': 63786.48609569545, 'gamma': 0.8914099487077451, 'kernel': 'rbf'}"
      ]
     },
     "execution_count": 166,
     "metadata": {},
     "output_type": "execute_result"
    }
   ],
   "source": [
    "random_search.best_params_"
   ]
  },
  {
   "cell_type": "markdown",
   "metadata": {
    "id": "grDTWagYjZEn"
   },
   "source": [
    "Randomized search tends to find better hyper-parameters than grid search in the same amount of time.\n",
    "\n",
    "The reciprocal distribution is useful when we have no idea what is the best hyper-parameter range.\n",
    "\n",
    "The exponential distribution is useful when you roughly know the range of optimal hyper-parameters."
   ]
  },
  {
   "cell_type": "markdown",
   "metadata": {
    "id": "jOdQlwNUjZEn"
   },
   "source": [
    "**3. Try adding a transformer to the pipeline to select only the most important attributes**"
   ]
  },
  {
   "cell_type": "code",
   "execution_count": null,
   "metadata": {
    "id": "CMnZMLlljZEn"
   },
   "outputs": [],
   "source": [
    "from sklearn.base import BaseEstimator, TransformerMixin"
   ]
  },
  {
   "cell_type": "code",
   "execution_count": null,
   "metadata": {
    "id": "1zSucsu2jZEn"
   },
   "outputs": [],
   "source": [
    "def indices_of_top_k(arr, k):\n",
    "    return np.sort(np.argpartition(np.array(arr), -k)[-k:])"
   ]
  },
  {
   "cell_type": "code",
   "execution_count": null,
   "metadata": {
    "id": "WceyKS2RjZEn",
    "outputId": "1432ba3a-96a3-4dc1-cf09-a12154805188"
   },
   "outputs": [
    {
     "data": {
      "text/plain": [
       "array([1, 3, 6])"
      ]
     },
     "execution_count": 170,
     "metadata": {},
     "output_type": "execute_result"
    }
   ],
   "source": [
    "arr = [-15, 30, 5, 89, -34, 15, 88]\n",
    "indices_of_top_k(arr, 3)"
   ]
  },
  {
   "cell_type": "code",
   "execution_count": null,
   "metadata": {
    "id": "iavGmalsjZEn"
   },
   "outputs": [],
   "source": [
    "class TopFeatureSelector(BaseEstimator, TransformerMixin):\n",
    "    def __init__(self, feature_importances, k):\n",
    "        self.feature_importances = feature_importances\n",
    "        self.k = k\n",
    "    def fit(self, X, y=None):\n",
    "        self.feature_indices_ = indices_of_top_k(arr=self.feature_importances, k=self.k)\n",
    "        return self\n",
    "    def transform(self, X):\n",
    "        return X[:, self.feature_indices_]"
   ]
  },
  {
   "cell_type": "markdown",
   "metadata": {
    "id": "PAX8cBsjjZEn"
   },
   "source": [
    "This implementation necessitate that we have feature importances before running the pipeline, probably from the base model."
   ]
  },
  {
   "cell_type": "code",
   "execution_count": null,
   "metadata": {
    "id": "UvmRTIrPjZEo"
   },
   "outputs": [],
   "source": [
    "k = 5"
   ]
  },
  {
   "cell_type": "markdown",
   "metadata": {
    "id": "f9fTtpOOjZEo"
   },
   "source": [
    "Now let's create a pipeline that runs the previous pipeline and adds feature selection of the top k features:"
   ]
  },
  {
   "cell_type": "code",
   "execution_count": null,
   "metadata": {
    "id": "ovoh2EBhjZEo"
   },
   "outputs": [],
   "source": [
    "preparation_and_feature_selection_pipeline = Pipeline([\n",
    "    ('preparation', full_pipeline),\n",
    "    ('feature_selection', TopFeatureSelector(feature_importances, k))\n",
    "])"
   ]
  },
  {
   "cell_type": "code",
   "execution_count": null,
   "metadata": {
    "id": "ai8VrEvJjZEo",
    "outputId": "c57f9a05-66ae-403a-e261-b812632e81d2"
   },
   "outputs": [
    {
     "data": {
      "text/plain": [
       "array([[-1.15604281, -0.61493744, -0.31205452],\n",
       "       [-1.17602483,  1.33645936,  0.21768338],\n",
       "       [ 1.18684903, -0.5320456 , -0.46531516]])"
      ]
     },
     "execution_count": 185,
     "metadata": {},
     "output_type": "execute_result"
    }
   ],
   "source": [
    "housing_prepared_top_k_features = preparation_and_feature_selection_pipeline.fit_transform(X=housing)\n",
    "housing_prepared_top_k_features[:3, :3]"
   ]
  },
  {
   "cell_type": "markdown",
   "metadata": {
    "id": "pxzA3aFGjZEo"
   },
   "source": [
    "**4. Try creating a single pipeline that does full data preparation + prediction**\n",
    "\n",
    "Using randomized search we found the optimal hyper-parameter setting, now we can just load a new model instance with the fine-tuned hyper-parameters, but the step of optimizing its **parameters** still needs to be done using `.fit()`"
   ]
  },
  {
   "cell_type": "code",
   "execution_count": null,
   "metadata": {
    "id": "sM-iiJ2yjZEo"
   },
   "outputs": [],
   "source": [
    "prepare_select_and_predict_pipeline = Pipeline([\n",
    "    ('preparation', full_pipeline),\n",
    "    ('feature_selection', TopFeatureSelector(feature_importances, k)),\n",
    "    ('prediction', SVR(**random_search.best_params_))\n",
    "])"
   ]
  },
  {
   "cell_type": "code",
   "execution_count": null,
   "metadata": {
    "id": "iETISfCBjZEo",
    "outputId": "98f680e9-9048-4c7d-c9b1-af7258eecaba"
   },
   "outputs": [
    {
     "data": {
      "text/plain": [
       "Pipeline(memory=None,\n",
       "         steps=[('preparation',\n",
       "                 ColumnTransformer(n_jobs=None, remainder='drop',\n",
       "                                   sparse_threshold=0.3,\n",
       "                                   transformer_weights=None,\n",
       "                                   transformers=[('num',\n",
       "                                                  Pipeline(memory=None,\n",
       "                                                           steps=[('imputer',\n",
       "                                                                   SimpleImputer(add_indicator=False,\n",
       "                                                                                 copy=True,\n",
       "                                                                                 fill_value=None,\n",
       "                                                                                 missing_values=nan,\n",
       "                                                                                 strategy='median',\n",
       "                                                                                 verbose=0)),\n",
       "                                                                  ('attribs_adder',\n",
       "                                                                   CombinedAttributesAdder(add_...\n",
       "       1.43810964e-02, 1.53146702e-02, 1.45105867e-02, 3.25616309e-01,\n",
       "       6.81348680e-02, 1.13760294e-01, 6.51524188e-02, 2.56833619e-03,\n",
       "       1.85946505e-01, 1.05502887e-04, 1.73136389e-03, 3.00308723e-03]),\n",
       "                                    k=5)),\n",
       "                ('prediction',\n",
       "                 SVR(C=63786.48609569545, cache_size=200, coef0=0.0, degree=3,\n",
       "                     epsilon=0.1, gamma=0.8914099487077451, kernel='rbf',\n",
       "                     max_iter=-1, shrinking=True, tol=0.001, verbose=False))],\n",
       "         verbose=False)"
      ]
     },
     "execution_count": 194,
     "metadata": {},
     "output_type": "execute_result"
    }
   ],
   "source": [
    "prepare_select_and_predict_pipeline.fit(X=housing, y=housing_labels)"
   ]
  },
  {
   "cell_type": "code",
   "execution_count": null,
   "metadata": {
    "id": "RhGN1jDxjZEo"
   },
   "outputs": [],
   "source": [
    "some_data = housing.iloc[:4]\n",
    "some_labels = housing_labels.iloc[:4]"
   ]
  },
  {
   "cell_type": "code",
   "execution_count": null,
   "metadata": {
    "id": "5dLQqcwmjZEo",
    "outputId": "399bad5b-f377-4b62-c761-bfdbb7890dea"
   },
   "outputs": [
    {
     "name": "stdout",
     "output_type": "stream",
     "text": [
      "Predictions:\t [183198.80606101 333025.53597133 171102.79065145  53697.40747689]\n",
      "Targets:\t [286600.0, 340600.0, 196900.0, 46300.0]\n"
     ]
    }
   ],
   "source": [
    "print(\"Predictions:\\t\", prepare_select_and_predict_pipeline.predict(some_data))\n",
    "print(\"Targets:\\t\", some_labels.tolist())"
   ]
  },
  {
   "cell_type": "markdown",
   "metadata": {
    "id": "EOv37cgrjZEp"
   },
   "source": [
    "**5. Automatically Explore some preparation options using `GridSearchCV`**"
   ]
  },
  {
   "cell_type": "code",
   "execution_count": null,
   "metadata": {
    "id": "hI7MhYCWjZEp"
   },
   "outputs": [],
   "source": [
    "param_grid = [\n",
    "    {\n",
    "        'preparation__num__imputer__strategy': ['mean', 'median', 'most_frequent'],\n",
    "        'feature_selection__k': list(range(1, len(feature_importances) + 1))\n",
    "    }\n",
    "]"
   ]
  },
  {
   "cell_type": "code",
   "execution_count": null,
   "metadata": {
    "id": "4GV3DqP8jZEp"
   },
   "outputs": [],
   "source": [
    "grid_search_prep = GridSearchCV(estimator=prepare_select_and_predict_pipeline, param_grid=param_grid,\n",
    "                                cv=5, scoring='neg_mean_squared_error', verbose=2, n_jobs=-1)"
   ]
  },
  {
   "cell_type": "code",
   "execution_count": null,
   "metadata": {
    "id": "l759QMHljZEp",
    "outputId": "228060eb-8b55-43b0-f2e3-380f5da06ed9"
   },
   "outputs": [
    {
     "name": "stdout",
     "output_type": "stream",
     "text": [
      "Fitting 5 folds for each of 48 candidates, totalling 240 fits\n"
     ]
    },
    {
     "name": "stderr",
     "output_type": "stream",
     "text": [
      "[Parallel(n_jobs=-1)]: Using backend LokyBackend with 4 concurrent workers.\n",
      "[Parallel(n_jobs=-1)]: Done  33 tasks      | elapsed:  1.9min\n",
      "[Parallel(n_jobs=-1)]: Done 154 tasks      | elapsed: 11.0min\n",
      "[Parallel(n_jobs=-1)]: Done 240 out of 240 | elapsed: 28.4min finished\n"
     ]
    },
    {
     "data": {
      "text/plain": [
       "GridSearchCV(cv=5, error_score='raise-deprecating',\n",
       "             estimator=Pipeline(memory=None,\n",
       "                                steps=[('preparation',\n",
       "                                        ColumnTransformer(n_jobs=None,\n",
       "                                                          remainder='drop',\n",
       "                                                          sparse_threshold=0.3,\n",
       "                                                          transformer_weights=None,\n",
       "                                                          transformers=[('num',\n",
       "                                                                         Pipeline(memory=None,\n",
       "                                                                                  steps=[('imputer',\n",
       "                                                                                          SimpleImputer(add_indicator=False,\n",
       "                                                                                                        copy=True,\n",
       "                                                                                                        fill_value=None,\n",
       "                                                                                                        missing_values=nan,\n",
       "                                                                                                        strategy='media...\n",
       "                                            kernel='rbf', max_iter=-1,\n",
       "                                            shrinking=True, tol=0.001,\n",
       "                                            verbose=False))],\n",
       "                                verbose=False),\n",
       "             iid='warn', n_jobs=-1,\n",
       "             param_grid=[{'feature_selection__k': [1, 2, 3, 4, 5, 6, 7, 8, 9,\n",
       "                                                   10, 11, 12, 13, 14, 15, 16],\n",
       "                          'preparation__num__imputer__strategy': ['mean',\n",
       "                                                                  'median',\n",
       "                                                                  'most_frequent']}],\n",
       "             pre_dispatch='2*n_jobs', refit=True, return_train_score=False,\n",
       "             scoring='neg_mean_squared_error', verbose=2)"
      ]
     },
     "execution_count": 203,
     "metadata": {},
     "output_type": "execute_result"
    }
   ],
   "source": [
    "grid_search_prep.fit(X=housing, y=housing_labels)"
   ]
  },
  {
   "cell_type": "code",
   "execution_count": null,
   "metadata": {
    "id": "BdiICcC2jZEp",
    "outputId": "5f8f30cd-49c5-4df7-90b7-cbf7d86b8bf8"
   },
   "outputs": [
    {
     "data": {
      "text/plain": [
       "{'feature_selection__k': 8, 'preparation__num__imputer__strategy': 'mean'}"
      ]
     },
     "execution_count": 204,
     "metadata": {},
     "output_type": "execute_result"
    }
   ],
   "source": [
    "grid_search_prep.best_params_"
   ]
  },
  {
   "cell_type": "code",
   "execution_count": null,
   "metadata": {
    "id": "eeaUZSKAjZEp",
    "outputId": "81fafda1-713e-427f-ed9b-3814461ffedd"
   },
   "outputs": [
    {
     "data": {
      "text/plain": [
       "-3314361096.081166"
      ]
     },
     "execution_count": 205,
     "metadata": {},
     "output_type": "execute_result"
    }
   ],
   "source": [
    "grid_search_prep.best_score_"
   ]
  },
  {
   "cell_type": "markdown",
   "metadata": {
    "id": "O6v8pexejZEp"
   },
   "source": [
    "---"
   ]
  }
 ],
 "metadata": {
  "colab": {
   "collapsed_sections": [
    "mm9nxfOhjZEO",
    "0cl9KIGNjZEQ"
   ],
   "provenance": []
  },
  "kernelspec": {
   "display_name": "Python 3 (ipykernel)",
   "language": "python",
   "name": "python3"
  },
  "language_info": {
   "codemirror_mode": {
    "name": "ipython",
    "version": 3
   },
   "file_extension": ".py",
   "mimetype": "text/x-python",
   "name": "python",
   "nbconvert_exporter": "python",
   "pygments_lexer": "ipython3",
   "version": "3.9.13"
  }
 },
 "nbformat": 4,
 "nbformat_minor": 1
}
